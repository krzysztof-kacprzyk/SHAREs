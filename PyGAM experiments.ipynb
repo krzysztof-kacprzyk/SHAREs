{
 "cells": [
  {
   "cell_type": "code",
   "execution_count": 1,
   "metadata": {},
   "outputs": [],
   "source": [
    "import os\n",
    "from pmlb import fetch_data\n",
    "from sklearn.model_selection import KFold, ParameterGrid, ParameterSampler, StratifiedKFold, train_test_split, StratifiedShuffleSplit, RandomizedSearchCV\n",
    "from sklearn.preprocessing import OneHotEncoder, StandardScaler, FunctionTransformer, OrdinalEncoder\n",
    "from sklearn.pipeline import Pipeline\n",
    "from sklearn.compose import ColumnTransformer\n",
    "from sklearn.metrics import log_loss, mean_squared_error, roc_auc_score, r2_score\n",
    "from sklearn.base import clone\n",
    "from sklearn.linear_model import LinearRegression, LogisticRegression\n",
    "from sklearn.tree import DecisionTreeRegressor\n",
    "from sklearn.utils import check_random_state\n",
    "from xgboost import XGBClassifier, XGBRegressor\n",
    "from sklearn.svm import SVC, SVR\n",
    "from interpret.glassbox import ExplainableBoostingClassifier, ExplainableBoostingRegressor\n",
    "import numpy as np\n",
    "from gplearn.gplearn.genetic import SymbolicRegressor, SymbolicClassifier\n",
    "from gplearn.gplearn.model import ShapeNN\n",
    "import time\n",
    "from datetime import datetime\n",
    "import pickle\n",
    "import argparse\n",
    "import operator\n",
    "import functools\n",
    "from tqdm import tqdm\n",
    "import pandas as pd\n",
    "import matplotlib.pyplot as plt\n",
    "\n",
    "import scipy\n",
    "\n",
    "from benchmarks import categorical_variables_per_dataset, score, load_df\n",
    "\n",
    "from pygam import LinearGAM, LogisticGAM, s, f, te, l, GAM\n"
   ]
  },
  {
   "cell_type": "code",
   "execution_count": 2,
   "metadata": {},
   "outputs": [],
   "source": [
    "\n",
    "\n",
    "def run_experiment_pygam(terms, dataset_name, task, random_state, return_model=False):\n",
    "\n",
    "    df = pd.DataFrame(columns=['dataset','model','fold','score','time','timestamp'])\n",
    "\n",
    "    timestamp = datetime.now().strftime(\"%Y%m%d-%H%M%S\")\n",
    "\n",
    "    model_name = 'pygam'\n",
    "\n",
    "    file_name = f\"{dataset_name}_{model_name}_{timestamp}.csv\"\n",
    "\n",
    "    file_path = os.path.join('results',file_name)\n",
    "\n",
    "    random_state = check_random_state(random_state)\n",
    "    dataset = load_df(dataset_name,task)\n",
    "    X = dataset.drop(columns=['target'])\n",
    "    y = dataset[['target']]\n",
    "\n",
    "    # y_max = y.max()\n",
    "    # y_min = y.min()\n",
    "\n",
    "    # y = (y-y_min)/(y_max-y_min)\n",
    "\n",
    "    # First, we choose a validation set for hyper-parameter tuning\n",
    "    if task == 'classification':\n",
    "        sss = StratifiedShuffleSplit(n_splits=1, test_size=0.09, random_state=random_state)\n",
    "        train_index, val_index = next(sss.split(X,y))\n",
    "        X_train, X_val = X.iloc[train_index], X.iloc[val_index]\n",
    "        y_train, y_val = y.iloc[train_index], y.iloc[val_index]\n",
    "    elif task == 'regression':\n",
    "        X_train, X_val, y_train, y_val = train_test_split(X, y, test_size=0.09, random_state=random_state)\n",
    "\n",
    "    categorical_variables = categorical_variables_per_dataset[dataset_name]\n",
    "    is_cat = np.array([i in categorical_variables for i in range(len(X.columns))])\n",
    "\n",
    "    cat_cols = X.columns.values[is_cat]\n",
    "    num_cols = X.columns.values[~is_cat]\n",
    "\n",
    "    \n",
    "    categories = []\n",
    "    for i in categorical_variables:\n",
    "        uniques = list(X.iloc[:,i].unique())\n",
    "        categories.append(sorted(uniques))\n",
    "    \n",
    "    cat_pipe = Pipeline([('ordinal', OrdinalEncoder(categories=categories))])\n",
    "    num_pipe = Pipeline([('std',StandardScaler())])\n",
    "    transformers = [\n",
    "        ('cat', cat_pipe, cat_cols),\n",
    "        ('num', num_pipe, num_cols)\n",
    "    ]\n",
    "    ct = ColumnTransformer(transformers=transformers)\n",
    "    \n",
    "    processing = Pipeline([\n",
    "        ('ct',ct),\n",
    "    ])\n",
    "\n",
    "    if task == 'classification':\n",
    "        # Identity transformer for classification\n",
    "        y_scaler = FunctionTransformer(lambda x: x.values)\n",
    "    else:\n",
    "        y_scaler = StandardScaler()\n",
    "\n",
    "    if task == 'classification':\n",
    "        splitter = StratifiedKFold(n_splits=10,shuffle=True,random_state=random_state)\n",
    "    else:\n",
    "        splitter = KFold(n_splits=10,shuffle=True,random_state=random_state)\n",
    "\n",
    "    best_params = None\n",
    "    cv_scores = []\n",
    "\n",
    "    for i, (train_index, test_index) in tqdm(enumerate(splitter.split(X_train,y_train))):\n",
    "\n",
    "        time_start = time.time()\n",
    "        \n",
    "        X_cv_train, y_cv_train = X_train.iloc[train_index], y_train.iloc[train_index]\n",
    "        X_cv_test, y_cv_test = X_train.iloc[test_index], y_train.iloc[test_index]\n",
    "\n",
    "        X_cv_train = processing.fit_transform(X_cv_train)\n",
    "        y_cv_train = y_scaler.fit_transform(y_cv_train)[:,0]\n",
    "\n",
    "        X_cv_test = processing.transform(X_cv_test)\n",
    "        y_cv_test = y_scaler.transform(y_cv_test)[:,0]\n",
    "        \n",
    "        model = LinearGAM(terms, lam=0.1, fit_intercept=True, max_iter=1000, tol=1e-4, verbose=False)\n",
    "        \n",
    "        if best_params is not None:\n",
    "            model.set_params(**best_params)\n",
    "\n",
    "        model.fit(X_cv_train, y_cv_train)\n",
    "        new_score = score(model,X_cv_test,y_cv_test,task)\n",
    "        cv_scores.append(new_score)\n",
    "        print(cv_scores)\n",
    "\n",
    "        time_end = time.time()\n",
    "\n",
    "        # Check if model has timestamp parameter\n",
    "        if hasattr(model, 'timestamp'):\n",
    "            fold_timestamp = model.timestamp\n",
    "        else:\n",
    "            fold_timestamp = \"Not available\"\n",
    "\n",
    "        # Create a new dataframe row\n",
    "        new_df_row = pd.DataFrame({\n",
    "            'dataset': [dataset_name],\n",
    "            'model': [model_name],\n",
    "            'fold': [i],\n",
    "            'score': [new_score],\n",
    "            'time': [time_end-time_start],\n",
    "            'timestamp':[fold_timestamp]\n",
    "        })\n",
    "        # Append the new row to the dataframe\n",
    "        df = pd.concat([df, new_df_row], ignore_index=True)\n",
    "        df.to_csv(file_path)\n",
    "    \n",
    "    if return_model:\n",
    "        return np.mean(cv_scores), np.std(cv_scores), model\n",
    "    return np.mean(cv_scores), np.std(cv_scores)"
   ]
  },
  {
   "cell_type": "code",
   "execution_count": 5,
   "metadata": {},
   "outputs": [
    {
     "name": "stderr",
     "output_type": "stream",
     "text": [
      "4it [00:00, 16.72it/s]"
     ]
    },
    {
     "name": "stdout",
     "output_type": "stream",
     "text": [
      "LinearGAM(callbacks=[Deviance(), Diffs()], fit_intercept=True, \n",
      "   max_iter=1000, scale=None, \n",
      "   terms=f(0) + f(1) + s(2) + s(3) + s(4) + s(5) + s(6) + s(7) + s(8) + s(9) + s(10) + s(11) + s(12) + intercept,\n",
      "   tol=0.0001, verbose=False) | score: <function score at 0x000001E33E338430>\n",
      "[0.8771489878354155]\n",
      "LinearGAM(callbacks=[Deviance(), Diffs()], fit_intercept=True, \n",
      "   max_iter=1000, scale=None, \n",
      "   terms=f(0) + f(1) + s(2) + s(3) + s(4) + s(5) + s(6) + s(7) + s(8) + s(9) + s(10) + s(11) + s(12) + intercept,\n",
      "   tol=0.0001, verbose=False) | score: <function score at 0x000001E33E338430>\n",
      "[0.8771489878354155, 0.7928596391831739]\n",
      "LinearGAM(callbacks=[Deviance(), Diffs()], fit_intercept=True, \n",
      "   max_iter=1000, scale=None, \n",
      "   terms=f(0) + f(1) + s(2) + s(3) + s(4) + s(5) + s(6) + s(7) + s(8) + s(9) + s(10) + s(11) + s(12) + intercept,\n",
      "   tol=0.0001, verbose=False) | score: <function score at 0x000001E33E338430>\n",
      "[0.8771489878354155, 0.7928596391831739, 0.8149102781351734]\n",
      "LinearGAM(callbacks=[Deviance(), Diffs()], fit_intercept=True, \n",
      "   max_iter=1000, scale=None, \n",
      "   terms=f(0) + f(1) + s(2) + s(3) + s(4) + s(5) + s(6) + s(7) + s(8) + s(9) + s(10) + s(11) + s(12) + intercept,\n",
      "   tol=0.0001, verbose=False) | score: <function score at 0x000001E33E338430>\n",
      "[0.8771489878354155, 0.7928596391831739, 0.8149102781351734, 0.8626292198803017]\n"
     ]
    },
    {
     "name": "stderr",
     "output_type": "stream",
     "text": [
      "6it [00:00, 12.62it/s]"
     ]
    },
    {
     "name": "stdout",
     "output_type": "stream",
     "text": [
      "LinearGAM(callbacks=[Deviance(), Diffs()], fit_intercept=True, \n",
      "   max_iter=1000, scale=None, \n",
      "   terms=f(0) + f(1) + s(2) + s(3) + s(4) + s(5) + s(6) + s(7) + s(8) + s(9) + s(10) + s(11) + s(12) + intercept,\n",
      "   tol=0.0001, verbose=False) | score: <function score at 0x000001E33E338430>\n",
      "[0.8771489878354155, 0.7928596391831739, 0.8149102781351734, 0.8626292198803017, 0.7925676277958968]\n",
      "LinearGAM(callbacks=[Deviance(), Diffs()], fit_intercept=True, \n",
      "   max_iter=1000, scale=None, \n",
      "   terms=f(0) + f(1) + s(2) + s(3) + s(4) + s(5) + s(6) + s(7) + s(8) + s(9) + s(10) + s(11) + s(12) + intercept,\n",
      "   tol=0.0001, verbose=False) | score: <function score at 0x000001E33E338430>\n",
      "[0.8771489878354155, 0.7928596391831739, 0.8149102781351734, 0.8626292198803017, 0.7925676277958968, 0.7537231316785092]\n"
     ]
    },
    {
     "name": "stderr",
     "output_type": "stream",
     "text": [
      "8it [00:00, 14.27it/s]"
     ]
    },
    {
     "name": "stdout",
     "output_type": "stream",
     "text": [
      "LinearGAM(callbacks=[Deviance(), Diffs()], fit_intercept=True, \n",
      "   max_iter=1000, scale=None, \n",
      "   terms=f(0) + f(1) + s(2) + s(3) + s(4) + s(5) + s(6) + s(7) + s(8) + s(9) + s(10) + s(11) + s(12) + intercept,\n",
      "   tol=0.0001, verbose=False) | score: <function score at 0x000001E33E338430>\n",
      "[0.8771489878354155, 0.7928596391831739, 0.8149102781351734, 0.8626292198803017, 0.7925676277958968, 0.7537231316785092, 0.8382114008349284]\n",
      "LinearGAM(callbacks=[Deviance(), Diffs()], fit_intercept=True, \n",
      "   max_iter=1000, scale=None, \n",
      "   terms=f(0) + f(1) + s(2) + s(3) + s(4) + s(5) + s(6) + s(7) + s(8) + s(9) + s(10) + s(11) + s(12) + intercept,\n",
      "   tol=0.0001, verbose=False) | score: <function score at 0x000001E33E338430>\n",
      "[0.8771489878354155, 0.7928596391831739, 0.8149102781351734, 0.8626292198803017, 0.7925676277958968, 0.7537231316785092, 0.8382114008349284, 0.7972072603275009]\n",
      "LinearGAM(callbacks=[Deviance(), Diffs()], fit_intercept=True, \n",
      "   max_iter=1000, scale=None, \n",
      "   terms=f(0) + f(1) + s(2) + s(3) + s(4) + s(5) + s(6) + s(7) + s(8) + s(9) + s(10) + s(11) + s(12) + intercept,\n",
      "   tol=0.0001, verbose=False) | score: <function score at 0x000001E33E338430>\n",
      "[0.8771489878354155, 0.7928596391831739, 0.8149102781351734, 0.8626292198803017, 0.7925676277958968, 0.7537231316785092, 0.8382114008349284, 0.7972072603275009, 0.7245187600862919]\n"
     ]
    },
    {
     "name": "stderr",
     "output_type": "stream",
     "text": [
      "10it [00:00, 12.59it/s]"
     ]
    },
    {
     "name": "stdout",
     "output_type": "stream",
     "text": [
      "LinearGAM(callbacks=[Deviance(), Diffs()], fit_intercept=True, \n",
      "   max_iter=1000, scale=None, \n",
      "   terms=f(0) + f(1) + s(2) + s(3) + s(4) + s(5) + s(6) + s(7) + s(8) + s(9) + s(10) + s(11) + s(12) + intercept,\n",
      "   tol=0.0001, verbose=False) | score: <function score at 0x000001E33E338430>\n",
      "[0.8771489878354155, 0.7928596391831739, 0.8149102781351734, 0.8626292198803017, 0.7925676277958968, 0.7537231316785092, 0.8382114008349284, 0.7972072603275009, 0.7245187600862919, 0.8931761455222696]\n"
     ]
    },
    {
     "name": "stderr",
     "output_type": "stream",
     "text": [
      "\n"
     ]
    }
   ],
   "source": [
    "args = {'n_splines':10,\n",
    "        'spline_order':3}\n",
    "terms = f(0) + f(1) + s(2,**args) + s(3,**args) + s(4,**args) + s(5,**args) + s(6,**args) + s(7,**args) + s(8,**args) + s(9,**args) + s(10,**args) + s(11,**args) + s(12,**args)\n",
    "mean, std, model = run_experiment_pygam(terms,'boston','regression',random_state=42,return_model=True)"
   ]
  },
  {
   "cell_type": "code",
   "execution_count": 6,
   "metadata": {},
   "outputs": [
    {
     "data": {
      "text/plain": [
       "0.8146952451279462"
      ]
     },
     "execution_count": 6,
     "metadata": {},
     "output_type": "execute_result"
    }
   ],
   "source": [
    "mean"
   ]
  },
  {
   "cell_type": "code",
   "execution_count": 14,
   "metadata": {},
   "outputs": [
    {
     "data": {
      "text/plain": [
       "[<matplotlib.lines.Line2D at 0x1e34d26e3d0>]"
      ]
     },
     "execution_count": 14,
     "metadata": {},
     "output_type": "execute_result"
    },
    {
     "data": {
      "image/png": "[encoded data removed]",
      "text/plain": [
       "<Figure size 640x480 with 1 Axes>"
      ]
     },
     "metadata": {},
     "output_type": "display_data"
    }
   ],
   "source": [
    "i = 8\n"
   ]
  },
  {
   "cell_type": "code",
   "execution_count": 18,
   "metadata": {},
   "outputs": [],
   "source": [
    "def plot_pygam(axs, i, offset=2):\n",
    "    ax = axs[i]\n",
    "    XX = model.generate_X_grid(term=i+offset)\n",
    "    ax.plot(XX[:,i+offset],model.partial_dependence(term=i+offset, X=XX))\n"
   ]
  },
  {
   "cell_type": "code",
   "execution_count": 20,
   "metadata": {},
   "outputs": [
    {
     "data": {
      "image/png": "[encoded data removed]",
      "text/plain": [
       "<Figure size 1000x400 with 10 Axes>"
      ]
     },
     "metadata": {},
     "output_type": "display_data"
    }
   ],
   "source": [
    "fig, axs = plt.subplots(2, 5, figsize=(10, 4))\n",
    "axs = axs.flatten()\n",
    "for i in range(10):\n",
    "    plot_pygam(axs, i, offset=2)\n",
    "plt.tight_layout()\n",
    "plt.subplots_adjust(left=0.12, bottom=0.1, right=0.98, top=0.9, wspace=0.4, hspace=0.6)"
   ]
  },
  {
   "cell_type": "code",
   "execution_count": 59,
   "metadata": {},
   "outputs": [
    {
     "name": "stderr",
     "output_type": "stream",
     "text": [
      "5it [00:00, 22.03it/s]"
     ]
    },
    {
     "name": "stdout",
     "output_type": "stream",
     "text": [
      "LinearGAM(callbacks=[Deviance(), Diffs()], fit_intercept=True, \n",
      "   max_iter=1000, scale=None, \n",
      "   terms=s(0) + s(1) + s(2) + s(3) + s(4) + s(5) + s(6) + s(7) + intercept,\n",
      "   tol=0.0001, verbose=False) | score: <function score at 0x0000023278F39160>\n",
      "[0.8625257226211465]\n",
      "LinearGAM(callbacks=[Deviance(), Diffs()], fit_intercept=True, \n",
      "   max_iter=1000, scale=None, \n",
      "   terms=s(0) + s(1) + s(2) + s(3) + s(4) + s(5) + s(6) + s(7) + intercept,\n",
      "   tol=0.0001, verbose=False) | score: <function score at 0x0000023278F39160>\n",
      "[0.8625257226211465, 0.8583351169431392]\n",
      "LinearGAM(callbacks=[Deviance(), Diffs()], fit_intercept=True, \n",
      "   max_iter=1000, scale=None, \n",
      "   terms=s(0) + s(1) + s(2) + s(3) + s(4) + s(5) + s(6) + s(7) + intercept,\n",
      "   tol=0.0001, verbose=False) | score: <function score at 0x0000023278F39160>\n",
      "[0.8625257226211465, 0.8583351169431392, 0.8699533095875599]\n",
      "LinearGAM(callbacks=[Deviance(), Diffs()], fit_intercept=True, \n",
      "   max_iter=1000, scale=None, \n",
      "   terms=s(0) + s(1) + s(2) + s(3) + s(4) + s(5) + s(6) + s(7) + intercept,\n",
      "   tol=0.0001, verbose=False) | score: <function score at 0x0000023278F39160>\n",
      "[0.8625257226211465, 0.8583351169431392, 0.8699533095875599, 0.898984180888886]\n",
      "LinearGAM(callbacks=[Deviance(), Diffs()], fit_intercept=True, \n",
      "   max_iter=1000, scale=None, \n",
      "   terms=s(0) + s(1) + s(2) + s(3) + s(4) + s(5) + s(6) + s(7) + intercept,\n",
      "   tol=0.0001, verbose=False) | score: <function score at 0x0000023278F39160>\n",
      "[0.8625257226211465, 0.8583351169431392, 0.8699533095875599, 0.898984180888886, 0.8888528430054496]\n"
     ]
    },
    {
     "name": "stderr",
     "output_type": "stream",
     "text": [
      "10it [00:00, 21.36it/s]"
     ]
    },
    {
     "name": "stdout",
     "output_type": "stream",
     "text": [
      "LinearGAM(callbacks=[Deviance(), Diffs()], fit_intercept=True, \n",
      "   max_iter=1000, scale=None, \n",
      "   terms=s(0) + s(1) + s(2) + s(3) + s(4) + s(5) + s(6) + s(7) + intercept,\n",
      "   tol=0.0001, verbose=False) | score: <function score at 0x0000023278F39160>\n",
      "[0.8625257226211465, 0.8583351169431392, 0.8699533095875599, 0.898984180888886, 0.8888528430054496, 0.9043927119544737]\n",
      "LinearGAM(callbacks=[Deviance(), Diffs()], fit_intercept=True, \n",
      "   max_iter=1000, scale=None, \n",
      "   terms=s(0) + s(1) + s(2) + s(3) + s(4) + s(5) + s(6) + s(7) + intercept,\n",
      "   tol=0.0001, verbose=False) | score: <function score at 0x0000023278F39160>\n",
      "[0.8625257226211465, 0.8583351169431392, 0.8699533095875599, 0.898984180888886, 0.8888528430054496, 0.9043927119544737, 0.8898351701687712]\n",
      "LinearGAM(callbacks=[Deviance(), Diffs()], fit_intercept=True, \n",
      "   max_iter=1000, scale=None, \n",
      "   terms=s(0) + s(1) + s(2) + s(3) + s(4) + s(5) + s(6) + s(7) + intercept,\n",
      "   tol=0.0001, verbose=False) | score: <function score at 0x0000023278F39160>\n",
      "[0.8625257226211465, 0.8583351169431392, 0.8699533095875599, 0.898984180888886, 0.8888528430054496, 0.9043927119544737, 0.8898351701687712, 0.8421697155120579]\n",
      "LinearGAM(callbacks=[Deviance(), Diffs()], fit_intercept=True, \n",
      "   max_iter=1000, scale=None, \n",
      "   terms=s(0) + s(1) + s(2) + s(3) + s(4) + s(5) + s(6) + s(7) + intercept,\n",
      "   tol=0.0001, verbose=False) | score: <function score at 0x0000023278F39160>\n",
      "[0.8625257226211465, 0.8583351169431392, 0.8699533095875599, 0.898984180888886, 0.8888528430054496, 0.9043927119544737, 0.8898351701687712, 0.8421697155120579, 0.8747068084984325]\n",
      "LinearGAM(callbacks=[Deviance(), Diffs()], fit_intercept=True, \n",
      "   max_iter=1000, scale=None, \n",
      "   terms=s(0) + s(1) + s(2) + s(3) + s(4) + s(5) + s(6) + s(7) + intercept,\n",
      "   tol=0.0001, verbose=False) | score: <function score at 0x0000023278F39160>\n",
      "[0.8625257226211465, 0.8583351169431392, 0.8699533095875599, 0.898984180888886, 0.8888528430054496, 0.9043927119544737, 0.8898351701687712, 0.8421697155120579, 0.8747068084984325, 0.8774601328360868]\n"
     ]
    },
    {
     "name": "stderr",
     "output_type": "stream",
     "text": [
      "\n"
     ]
    }
   ],
   "source": [
    "args = {'n_splines':10,\n",
    "        'spline_order':3}\n",
    "terms = s(0, **args) + s(1, **args) + s(2,**args) + s(3,**args) + s(4,**args) + s(5,**args) + s(6,**args) + s(7,**args)\n",
    "mean, std, model = run_experiment_pygam(terms,'concrete','regression',random_state=42,return_model=True)"
   ]
  },
  {
   "cell_type": "code",
   "execution_count": 62,
   "metadata": {},
   "outputs": [
    {
     "name": "stderr",
     "output_type": "stream",
     "text": [
      "5it [00:00, 43.26it/s]"
     ]
    },
    {
     "name": "stdout",
     "output_type": "stream",
     "text": [
      "LinearGAM(callbacks=[Deviance(), Diffs()], fit_intercept=True, \n",
      "   max_iter=1000, scale=None, \n",
      "   terms=f(0) + f(1) + s(2) + s(3) + intercept, tol=0.0001, \n",
      "   verbose=False) | score: <function score at 0x0000023278F39160>\n",
      "[0.03172804275161889]\n",
      "LinearGAM(callbacks=[Deviance(), Diffs()], fit_intercept=True, \n",
      "   max_iter=1000, scale=None, \n",
      "   terms=f(0) + f(1) + s(2) + s(3) + intercept, tol=0.0001, \n",
      "   verbose=False) | score: <function score at 0x0000023278F39160>\n",
      "[0.03172804275161889, 0.6915788617164997]\n",
      "LinearGAM(callbacks=[Deviance(), Diffs()], fit_intercept=True, \n",
      "   max_iter=1000, scale=None, \n",
      "   terms=f(0) + f(1) + s(2) + s(3) + intercept, tol=0.0001, \n",
      "   verbose=False) | score: <function score at 0x0000023278F39160>\n",
      "[0.03172804275161889, 0.6915788617164997, 0.4491810422875976]\n",
      "LinearGAM(callbacks=[Deviance(), Diffs()], fit_intercept=True, \n",
      "   max_iter=1000, scale=None, \n",
      "   terms=f(0) + f(1) + s(2) + s(3) + intercept, tol=0.0001, \n",
      "   verbose=False) | score: <function score at 0x0000023278F39160>\n",
      "[0.03172804275161889, 0.6915788617164997, 0.4491810422875976, 0.7795693156141386]\n",
      "LinearGAM(callbacks=[Deviance(), Diffs()], fit_intercept=True, \n",
      "   max_iter=1000, scale=None, \n",
      "   terms=f(0) + f(1) + s(2) + s(3) + intercept, tol=0.0001, \n",
      "   verbose=False) | score: <function score at 0x0000023278F39160>\n",
      "[0.03172804275161889, 0.6915788617164997, 0.4491810422875976, 0.7795693156141386, 0.7403105974689969]\n",
      "LinearGAM(callbacks=[Deviance(), Diffs()], fit_intercept=True, \n",
      "   max_iter=1000, scale=None, \n",
      "   terms=f(0) + f(1) + s(2) + s(3) + intercept, tol=0.0001, \n",
      "   verbose=False) | score: <function score at 0x0000023278F39160>\n",
      "[0.03172804275161889, 0.6915788617164997, 0.4491810422875976, 0.7795693156141386, 0.7403105974689969, -5.0481973119073]\n",
      "LinearGAM(callbacks=[Deviance(), Diffs()], fit_intercept=True, \n",
      "   max_iter=1000, scale=None, \n",
      "   terms=f(0) + f(1) + s(2) + s(3) + intercept, tol=0.0001, \n",
      "   verbose=False) | score: <function score at 0x0000023278F39160>\n",
      "[0.03172804275161889, 0.6915788617164997, 0.4491810422875976, 0.7795693156141386, 0.7403105974689969, -5.0481973119073, 0.5767085032486859]\n",
      "LinearGAM(callbacks=[Deviance(), Diffs()], fit_intercept=True, \n",
      "   max_iter=1000, scale=None, \n",
      "   terms=f(0) + f(1) + s(2) + s(3) + intercept, tol=0.0001, \n",
      "   verbose=False) | score: <function score at 0x0000023278F39160>\n",
      "[0.03172804275161889, 0.6915788617164997, 0.4491810422875976, 0.7795693156141386, 0.7403105974689969, -5.0481973119073, 0.5767085032486859, 0.7472545837194641]\n",
      "LinearGAM(callbacks=[Deviance(), Diffs()], fit_intercept=True, \n",
      "   max_iter=1000, scale=None, \n",
      "   terms=f(0) + f(1) + s(2) + s(3) + intercept, tol=0.0001, \n",
      "   verbose=False) | score: <function score at 0x0000023278F39160>\n",
      "[0.03172804275161889, 0.6915788617164997, 0.4491810422875976, 0.7795693156141386, 0.7403105974689969, -5.0481973119073, 0.5767085032486859, 0.7472545837194641, 0.8413287982502068]\n",
      "LinearGAM(callbacks=[Deviance(), Diffs()], fit_intercept=True, \n",
      "   max_iter=1000, scale=None, \n",
      "   terms=f(0) + f(1) + s(2) + s(3) + intercept, tol=0.0001, \n",
      "   verbose=False) | score: <function score at 0x0000023278F39160>\n",
      "[0.03172804275161889, 0.6915788617164997, 0.4491810422875976, 0.7795693156141386, 0.7403105974689969, -5.0481973119073, 0.5767085032486859, 0.7472545837194641, 0.8413287982502068, 0.7463742134400699]\n"
     ]
    },
    {
     "name": "stderr",
     "output_type": "stream",
     "text": [
      "10it [00:00, 46.77it/s]\n"
     ]
    }
   ],
   "source": [
    "args = {'n_splines':10,\n",
    "        'spline_order':3}\n",
    "terms = f(0) + f(1) + s(2,**args) + s(3,**args)\n",
    "mean, std, model = run_experiment_pygam(terms,'servo','regression',random_state=42,return_model=True)"
   ]
  },
  {
   "cell_type": "code",
   "execution_count": 63,
   "metadata": {},
   "outputs": [
    {
     "data": {
      "text/plain": [
       "(506, 13)"
      ]
     },
     "execution_count": 63,
     "metadata": {},
     "output_type": "execute_result"
    }
   ],
   "source": [
    "model\n",
    "boston_df = load_df('boston','regression')\n",
    "X = boston_df.drop(columns=['target']).values\n",
    "y = boston_df[['target']]\n",
    "X.shape"
   ]
  },
  {
   "cell_type": "code",
   "execution_count": 58,
   "metadata": {},
   "outputs": [
    {
     "data": {
      "text/plain": [
       "(1030, 8)"
      ]
     },
     "execution_count": 58,
     "metadata": {},
     "output_type": "execute_result"
    }
   ],
   "source": [
    "concrete_df = load_df('concrete','regression')\n",
    "X = concrete_df.drop(columns=['target']).values\n",
    "y = concrete_df[['target']]\n",
    "X.shape"
   ]
  },
  {
   "cell_type": "code",
   "execution_count": 61,
   "metadata": {},
   "outputs": [
    {
     "data": {
      "text/plain": [
       "(167, 4)"
      ]
     },
     "execution_count": 61,
     "metadata": {},
     "output_type": "execute_result"
    }
   ],
   "source": [
    "servo_df = load_df('servo','regression')\n",
    "X = servo_df.drop(columns=['target']).values\n",
    "y = servo_df[['target']]\n",
    "X.shape"
   ]
  },
  {
   "cell_type": "code",
   "execution_count": null,
   "metadata": {},
   "outputs": [],
   "source": []
  },
  {
   "cell_type": "code",
   "execution_count": 47,
   "metadata": {},
   "outputs": [
    {
     "data": {
      "text/plain": [
       "[<matplotlib.lines.Line2D at 0x2321b74eeb0>]"
      ]
     },
     "execution_count": 47,
     "metadata": {},
     "output_type": "execute_result"
    },
    {
     "data": {
      "image/png": "[encoded data removed]",
      "text/plain": [
       "<Figure size 640x480 with 1 Axes>"
      ]
     },
     "metadata": {},
     "output_type": "display_data"
    }
   ],
   "source": [
    "i = 12\n",
    "XX = model.generate_X_grid(term=i)\n",
    "plt.plot(XX[:,i],model.partial_dependence(term=i, X=XX))"
   ]
  },
  {
   "cell_type": "code",
   "execution_count": 49,
   "metadata": {},
   "outputs": [
    {
     "data": {
      "text/plain": [
       "(0.8146952451279462, 0.051021657440709904)"
      ]
     },
     "execution_count": 49,
     "metadata": {},
     "output_type": "execute_result"
    }
   ],
   "source": [
    "mean, std"
   ]
  },
  {
   "cell_type": "code",
   "execution_count": 50,
   "metadata": {},
   "outputs": [],
   "source": [
    "from sklearn.datasets import load_breast_cancer"
   ]
  },
  {
   "cell_type": "code",
   "execution_count": 51,
   "metadata": {},
   "outputs": [],
   "source": [
    "X, y = load_breast_cancer(return_X_y=True)"
   ]
  },
  {
   "cell_type": "code",
   "execution_count": 53,
   "metadata": {},
   "outputs": [
    {
     "data": {
      "text/plain": [
       "(569, 30)"
      ]
     },
     "execution_count": 53,
     "metadata": {},
     "output_type": "execute_result"
    }
   ],
   "source": [
    "X.shape"
   ]
  },
  {
   "cell_type": "code",
   "execution_count": 54,
   "metadata": {},
   "outputs": [
    {
     "data": {
      "text/plain": [
       "array([0, 0, 0, 0, 0, 0, 0, 0, 0, 0, 0, 0, 0, 0, 0, 0, 0, 0, 0, 1, 1, 1,\n",
       "       0, 0, 0, 0, 0, 0, 0, 0, 0, 0, 0, 0, 0, 0, 0, 1, 0, 0, 0, 0, 0, 0,\n",
       "       0, 0, 1, 0, 1, 1, 1, 1, 1, 0, 0, 1, 0, 0, 1, 1, 1, 1, 0, 1, 0, 0,\n",
       "       1, 1, 1, 1, 0, 1, 0, 0, 1, 0, 1, 0, 0, 1, 1, 1, 0, 0, 1, 0, 0, 0,\n",
       "       1, 1, 1, 0, 1, 1, 0, 0, 1, 1, 1, 0, 0, 1, 1, 1, 1, 0, 1, 1, 0, 1,\n",
       "       1, 1, 1, 1, 1, 1, 1, 0, 0, 0, 1, 0, 0, 1, 1, 1, 0, 0, 1, 0, 1, 0,\n",
       "       0, 1, 0, 0, 1, 1, 0, 1, 1, 0, 1, 1, 1, 1, 0, 1, 1, 1, 1, 1, 1, 1,\n",
       "       1, 1, 0, 1, 1, 1, 1, 0, 0, 1, 0, 1, 1, 0, 0, 1, 1, 0, 0, 1, 1, 1,\n",
       "       1, 0, 1, 1, 0, 0, 0, 1, 0, 1, 0, 1, 1, 1, 0, 1, 1, 0, 0, 1, 0, 0,\n",
       "       0, 0, 1, 0, 0, 0, 1, 0, 1, 0, 1, 1, 0, 1, 0, 0, 0, 0, 1, 1, 0, 0,\n",
       "       1, 1, 1, 0, 1, 1, 1, 1, 1, 0, 0, 1, 1, 0, 1, 1, 0, 0, 1, 0, 1, 1,\n",
       "       1, 1, 0, 1, 1, 1, 1, 1, 0, 1, 0, 0, 0, 0, 0, 0, 0, 0, 0, 0, 0, 0,\n",
       "       0, 0, 1, 1, 1, 1, 1, 1, 0, 1, 0, 1, 1, 0, 1, 1, 0, 1, 0, 0, 1, 1,\n",
       "       1, 1, 1, 1, 1, 1, 1, 1, 1, 1, 1, 0, 1, 1, 0, 1, 0, 1, 1, 1, 1, 1,\n",
       "       1, 1, 1, 1, 1, 1, 1, 1, 1, 0, 1, 1, 1, 0, 1, 0, 1, 1, 1, 1, 0, 0,\n",
       "       0, 1, 1, 1, 1, 0, 1, 0, 1, 0, 1, 1, 1, 0, 1, 1, 1, 1, 1, 1, 1, 0,\n",
       "       0, 0, 1, 1, 1, 1, 1, 1, 1, 1, 1, 1, 1, 0, 0, 1, 0, 0, 0, 1, 0, 0,\n",
       "       1, 1, 1, 1, 1, 0, 1, 1, 1, 1, 1, 0, 1, 1, 1, 0, 1, 1, 0, 0, 1, 1,\n",
       "       1, 1, 1, 1, 0, 1, 1, 1, 1, 1, 1, 1, 0, 1, 1, 1, 1, 1, 0, 1, 1, 0,\n",
       "       1, 1, 1, 1, 1, 1, 1, 1, 1, 1, 1, 1, 0, 1, 0, 0, 1, 0, 1, 1, 1, 1,\n",
       "       1, 0, 1, 1, 0, 1, 0, 1, 1, 0, 1, 0, 1, 1, 1, 1, 1, 1, 1, 1, 0, 0,\n",
       "       1, 1, 1, 1, 1, 1, 0, 1, 1, 1, 1, 1, 1, 1, 1, 1, 1, 0, 1, 1, 1, 1,\n",
       "       1, 1, 1, 0, 1, 0, 1, 1, 0, 1, 1, 1, 1, 1, 0, 0, 1, 0, 1, 0, 1, 1,\n",
       "       1, 1, 1, 0, 1, 1, 0, 1, 0, 1, 0, 0, 1, 1, 1, 0, 1, 1, 1, 1, 1, 1,\n",
       "       1, 1, 1, 1, 1, 0, 1, 0, 0, 1, 1, 1, 1, 1, 1, 1, 1, 1, 1, 1, 1, 1,\n",
       "       1, 1, 1, 1, 1, 1, 1, 1, 1, 1, 1, 1, 0, 0, 0, 0, 0, 0, 1])"
      ]
     },
     "execution_count": 54,
     "metadata": {},
     "output_type": "execute_result"
    }
   ],
   "source": [
    "y"
   ]
  },
  {
   "cell_type": "code",
   "execution_count": 56,
   "metadata": {},
   "outputs": [
    {
     "data": {
      "text/html": [
       "<div>\n",
       "<style scoped>\n",
       "    .dataframe tbody tr th:only-of-type {\n",
       "        vertical-align: middle;\n",
       "    }\n",
       "\n",
       "    .dataframe tbody tr th {\n",
       "        vertical-align: top;\n",
       "    }\n",
       "\n",
       "    .dataframe thead th {\n",
       "        text-align: right;\n",
       "    }\n",
       "</style>\n",
       "<table border=\"1\" class=\"dataframe\">\n",
       "  <thead>\n",
       "    <tr style=\"text-align: right;\">\n",
       "      <th></th>\n",
       "      <th>Sample code number</th>\n",
       "      <th>Clump Thickness</th>\n",
       "      <th>Uniformity of Cell Size</th>\n",
       "      <th>Uniformity of Cell Shape</th>\n",
       "      <th>Marginal Adhesion</th>\n",
       "      <th>Single Epithelial Cell Size</th>\n",
       "      <th>Bare Nuclei</th>\n",
       "      <th>Bland Chromatin</th>\n",
       "      <th>Normal Nucleoli</th>\n",
       "      <th>Mitoses</th>\n",
       "      <th>target</th>\n",
       "    </tr>\n",
       "  </thead>\n",
       "  <tbody>\n",
       "    <tr>\n",
       "      <th>0</th>\n",
       "      <td>1365328.0</td>\n",
       "      <td>1.0</td>\n",
       "      <td>1.0</td>\n",
       "      <td>2.0</td>\n",
       "      <td>1.0</td>\n",
       "      <td>2.0</td>\n",
       "      <td>0</td>\n",
       "      <td>2.0</td>\n",
       "      <td>1.0</td>\n",
       "      <td>1.0</td>\n",
       "      <td>0</td>\n",
       "    </tr>\n",
       "    <tr>\n",
       "      <th>1</th>\n",
       "      <td>242970.0</td>\n",
       "      <td>5.0</td>\n",
       "      <td>7.0</td>\n",
       "      <td>7.0</td>\n",
       "      <td>1.0</td>\n",
       "      <td>5.0</td>\n",
       "      <td>8</td>\n",
       "      <td>3.0</td>\n",
       "      <td>4.0</td>\n",
       "      <td>1.0</td>\n",
       "      <td>0</td>\n",
       "    </tr>\n",
       "    <tr>\n",
       "      <th>2</th>\n",
       "      <td>1133041.0</td>\n",
       "      <td>5.0</td>\n",
       "      <td>3.0</td>\n",
       "      <td>1.0</td>\n",
       "      <td>2.0</td>\n",
       "      <td>2.0</td>\n",
       "      <td>0</td>\n",
       "      <td>2.0</td>\n",
       "      <td>1.0</td>\n",
       "      <td>1.0</td>\n",
       "      <td>0</td>\n",
       "    </tr>\n",
       "    <tr>\n",
       "      <th>3</th>\n",
       "      <td>183936.0</td>\n",
       "      <td>3.0</td>\n",
       "      <td>1.0</td>\n",
       "      <td>1.0</td>\n",
       "      <td>1.0</td>\n",
       "      <td>2.0</td>\n",
       "      <td>0</td>\n",
       "      <td>2.0</td>\n",
       "      <td>1.0</td>\n",
       "      <td>1.0</td>\n",
       "      <td>0</td>\n",
       "    </tr>\n",
       "    <tr>\n",
       "      <th>4</th>\n",
       "      <td>1168278.0</td>\n",
       "      <td>3.0</td>\n",
       "      <td>1.0</td>\n",
       "      <td>1.0</td>\n",
       "      <td>1.0</td>\n",
       "      <td>2.0</td>\n",
       "      <td>0</td>\n",
       "      <td>2.0</td>\n",
       "      <td>1.0</td>\n",
       "      <td>1.0</td>\n",
       "      <td>0</td>\n",
       "    </tr>\n",
       "    <tr>\n",
       "      <th>...</th>\n",
       "      <td>...</td>\n",
       "      <td>...</td>\n",
       "      <td>...</td>\n",
       "      <td>...</td>\n",
       "      <td>...</td>\n",
       "      <td>...</td>\n",
       "      <td>...</td>\n",
       "      <td>...</td>\n",
       "      <td>...</td>\n",
       "      <td>...</td>\n",
       "      <td>...</td>\n",
       "    </tr>\n",
       "    <tr>\n",
       "      <th>694</th>\n",
       "      <td>695091.0</td>\n",
       "      <td>5.0</td>\n",
       "      <td>10.0</td>\n",
       "      <td>10.0</td>\n",
       "      <td>5.0</td>\n",
       "      <td>4.0</td>\n",
       "      <td>5</td>\n",
       "      <td>4.0</td>\n",
       "      <td>4.0</td>\n",
       "      <td>1.0</td>\n",
       "      <td>1</td>\n",
       "    </tr>\n",
       "    <tr>\n",
       "      <th>695</th>\n",
       "      <td>837480.0</td>\n",
       "      <td>7.0</td>\n",
       "      <td>4.0</td>\n",
       "      <td>4.0</td>\n",
       "      <td>3.0</td>\n",
       "      <td>4.0</td>\n",
       "      <td>1</td>\n",
       "      <td>6.0</td>\n",
       "      <td>9.0</td>\n",
       "      <td>1.0</td>\n",
       "      <td>1</td>\n",
       "    </tr>\n",
       "    <tr>\n",
       "      <th>696</th>\n",
       "      <td>1057013.0</td>\n",
       "      <td>8.0</td>\n",
       "      <td>4.0</td>\n",
       "      <td>5.0</td>\n",
       "      <td>1.0</td>\n",
       "      <td>2.0</td>\n",
       "      <td>10</td>\n",
       "      <td>7.0</td>\n",
       "      <td>3.0</td>\n",
       "      <td>1.0</td>\n",
       "      <td>1</td>\n",
       "    </tr>\n",
       "    <tr>\n",
       "      <th>697</th>\n",
       "      <td>390840.0</td>\n",
       "      <td>8.0</td>\n",
       "      <td>4.0</td>\n",
       "      <td>7.0</td>\n",
       "      <td>1.0</td>\n",
       "      <td>3.0</td>\n",
       "      <td>1</td>\n",
       "      <td>3.0</td>\n",
       "      <td>9.0</td>\n",
       "      <td>2.0</td>\n",
       "      <td>1</td>\n",
       "    </tr>\n",
       "    <tr>\n",
       "      <th>698</th>\n",
       "      <td>760001.0</td>\n",
       "      <td>8.0</td>\n",
       "      <td>10.0</td>\n",
       "      <td>3.0</td>\n",
       "      <td>2.0</td>\n",
       "      <td>6.0</td>\n",
       "      <td>4</td>\n",
       "      <td>3.0</td>\n",
       "      <td>10.0</td>\n",
       "      <td>1.0</td>\n",
       "      <td>1</td>\n",
       "    </tr>\n",
       "  </tbody>\n",
       "</table>\n",
       "<p>699 rows × 11 columns</p>\n",
       "</div>"
      ],
      "text/plain": [
       "     Sample code number  Clump Thickness  ...  Mitoses  target\n",
       "0             1365328.0              1.0  ...      1.0       0\n",
       "1              242970.0              5.0  ...      1.0       0\n",
       "2             1133041.0              5.0  ...      1.0       0\n",
       "3              183936.0              3.0  ...      1.0       0\n",
       "4             1168278.0              3.0  ...      1.0       0\n",
       "..                  ...              ...  ...      ...     ...\n",
       "694            695091.0              5.0  ...      1.0       1\n",
       "695            837480.0              7.0  ...      1.0       1\n",
       "696           1057013.0              8.0  ...      1.0       1\n",
       "697            390840.0              8.0  ...      2.0       1\n",
       "698            760001.0              8.0  ...      1.0       1\n",
       "\n",
       "[699 rows x 11 columns]"
      ]
     },
     "execution_count": 56,
     "metadata": {},
     "output_type": "execute_result"
    }
   ],
   "source": [
    "load_df('breast','classification')"
   ]
  },
  {
   "cell_type": "code",
   "execution_count": null,
   "metadata": {},
   "outputs": [],
   "source": []
  }
 ],
 "metadata": {
  "kernelspec": {
   "display_name": "share",
   "language": "python",
   "name": "python3"
  },
  "language_info": {
   "codemirror_mode": {
    "name": "ipython",
    "version": 3
   },
   "file_extension": ".py",
   "mimetype": "text/x-python",
   "name": "python",
   "nbconvert_exporter": "python",
   "pygments_lexer": "ipython3",
   "version": "3.9.16"
  },
  "orig_nbformat": 4
 },
 "nbformat": 4,
 "nbformat_minor": 2
}
