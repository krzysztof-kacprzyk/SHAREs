{
 "cells": [
  {
   "cell_type": "code",
   "execution_count": 2,
   "metadata": {},
   "outputs": [],
   "source": [
    "import pandas as pd\n",
    "import glob"
   ]
  },
  {
   "cell_type": "code",
   "execution_count": 3,
   "metadata": {},
   "outputs": [],
   "source": [
    "classification_datasets = ['diabetes','banana','breast_cancer','breast']\n",
    "classification_models = ['LogisticRegression','LogisticGAM','ExplainableBoostingClassifierNo','ExplainableBoostingClassifier','XGBClassifier','SymbolicClassifier']\n"
   ]
  },
  {
   "cell_type": "code",
   "execution_count": 4,
   "metadata": {},
   "outputs": [
    {
     "name": "stdout",
     "output_type": "stream",
     "text": [
      "['../results\\\\diabetes_LogisticRegression_20240307-151422.csv']\n",
      "['../results\\\\diabetes_LogisticGAM_20240307-163451.csv']\n",
      "['../results\\\\diabetes_ExplainableBoostingClassifierNo_20240307-152346.csv']\n",
      "['../results\\\\diabetes_ExplainableBoostingClassifier_20240307-151437.csv']\n",
      "['../results\\\\diabetes_XGBClassifier_20240307-151424.csv']\n",
      "['../results\\\\diabetes_SymbolicClassifier_20231203-003154.csv']\n",
      "['../results\\\\banana_LogisticRegression_20240307-152359.csv']\n",
      "['../results\\\\banana_LogisticGAM_20240307-185936.csv']\n",
      "['../results\\\\banana_ExplainableBoostingClassifierNo_20240307-185945.csv']\n",
      "['../results\\\\banana_ExplainableBoostingClassifier_20240307-152412.csv']\n",
      "['../results\\\\banana_XGBClassifier_20240307-152400.csv']\n",
      "['../results\\\\banana_SymbolicClassifier_20231203-170915.csv']\n",
      "['../results\\\\breast_cancer_LogisticRegression_20240307-163847.csv']\n",
      "['../results\\\\breast_cancer_LogisticGAM_20240307-163754.csv']\n",
      "['../results\\\\breast_cancer_ExplainableBoostingClassifierNo_20240307-163934.csv']\n",
      "['../results\\\\breast_cancer_ExplainableBoostingClassifier_20240307-163854.csv']\n",
      "['../results\\\\breast_cancer_XGBClassifier_20240307-163847.csv']\n",
      "['../results\\\\breast_cancer_SymbolicClassifier_20231203-220936.csv']\n",
      "['../results\\\\breast_LogisticRegression_20240307-163531.csv']\n",
      "['../results\\\\breast_LogisticGAM_20240307-163511.csv']\n",
      "['../results\\\\breast_ExplainableBoostingClassifierNo_20240307-163718.csv']\n",
      "['../results\\\\breast_ExplainableBoostingClassifier_20240307-163538.csv']\n",
      "['../results\\\\breast_XGBClassifier_20240307-163531.csv']\n",
      "['../results\\\\breast_SymbolicClassifier_20231203-174602.csv']\n",
      "dataset                                 banana         breast  breast_cancer  \\\n",
      "model                                                                          \n",
      "ExplainableBoostingClassifier    0.957 (0.001)  0.997 (0.001)  0.651 (0.007)   \n",
      "ExplainableBoostingClassifierNo  0.800 (0.001)  0.995 (0.001)  0.645 (0.014)   \n",
      "LogisticGAM                      0.804 (0.000)  0.992 (0.000)  0.650 (0.000)   \n",
      "LogisticRegression               0.555 (0.000)  0.997 (0.000)  0.595 (0.000)   \n",
      "SymbolicClassifier               0.915 (0.000)  0.998 (0.001)  0.668 (0.032)   \n",
      "XGBClassifier                    0.800 (0.002)  0.995 (0.002)  0.652 (0.028)   \n",
      "\n",
      "dataset                               diabetes  \n",
      "model                                           \n",
      "ExplainableBoostingClassifier    0.847 (0.003)  \n",
      "ExplainableBoostingClassifierNo  0.857 (0.004)  \n",
      "LogisticGAM                      0.862 (0.000)  \n",
      "LogisticRegression               0.850 (0.000)  \n",
      "SymbolicClassifier               0.846 (0.010)  \n",
      "XGBClassifier                    0.847 (0.002)  \n"
     ]
    }
   ],
   "source": [
    "# Iterate over the classification datasets and models, read the data, and add a row to the results dataframe\n",
    "\n",
    "data_list = []\n",
    "for dataset in classification_datasets:\n",
    "    for model in classification_models:\n",
    "        files = glob.glob(f'../results/{dataset}_{model}_*.csv')\n",
    "        print(files)\n",
    "        assert len(files) <= 1\n",
    "        if len(files) == 0:\n",
    "            continue\n",
    "        file = files[0]\n",
    "        data = pd.read_csv(file)\n",
    "        data_dict = {'dataset': dataset, 'model': model, 'score_mean': data['score'].mean(), 'score_std': data['score'].std(), 'time': data['time'].sum()}\n",
    "        data_list.append(data_dict)\n",
    "\n",
    "df = pd.DataFrame(data_list, columns=['dataset','model','score_mean','score_std','time'])\n",
    "\n",
    "df['mean_std'] = df.apply(lambda row: f\"{row['score_mean']:.3f} ({row['score_std']:.3f})\", axis=1)\n",
    "\n",
    "# Now pivot the DataFrame\n",
    "pivot_df = df.pivot(index='model', columns='dataset', values='mean_std')\n",
    "\n",
    "print(pivot_df)\n",
    "\n",
    "\n"
   ]
  },
  {
   "cell_type": "code",
   "execution_count": 5,
   "metadata": {},
   "outputs": [
    {
     "data": {
      "text/html": [
       "<div>\n",
       "<style scoped>\n",
       "    .dataframe tbody tr th:only-of-type {\n",
       "        vertical-align: middle;\n",
       "    }\n",
       "\n",
       "    .dataframe tbody tr th {\n",
       "        vertical-align: top;\n",
       "    }\n",
       "\n",
       "    .dataframe thead th {\n",
       "        text-align: right;\n",
       "    }\n",
       "</style>\n",
       "<table border=\"1\" class=\"dataframe\">\n",
       "  <thead>\n",
       "    <tr style=\"text-align: right;\">\n",
       "      <th>dataset</th>\n",
       "      <th>banana</th>\n",
       "      <th>breast</th>\n",
       "      <th>breast_cancer</th>\n",
       "      <th>diabetes</th>\n",
       "    </tr>\n",
       "    <tr>\n",
       "      <th>model</th>\n",
       "      <th></th>\n",
       "      <th></th>\n",
       "      <th></th>\n",
       "      <th></th>\n",
       "    </tr>\n",
       "  </thead>\n",
       "  <tbody>\n",
       "    <tr>\n",
       "      <th>ExplainableBoostingClassifier</th>\n",
       "      <td>0.957 (0.001)</td>\n",
       "      <td>0.997 (0.001)</td>\n",
       "      <td>0.651 (0.007)</td>\n",
       "      <td>0.847 (0.003)</td>\n",
       "    </tr>\n",
       "    <tr>\n",
       "      <th>ExplainableBoostingClassifierNo</th>\n",
       "      <td>0.800 (0.001)</td>\n",
       "      <td>0.995 (0.001)</td>\n",
       "      <td>0.645 (0.014)</td>\n",
       "      <td>0.857 (0.004)</td>\n",
       "    </tr>\n",
       "    <tr>\n",
       "      <th>LogisticGAM</th>\n",
       "      <td>0.804 (0.000)</td>\n",
       "      <td>0.992 (0.000)</td>\n",
       "      <td>0.650 (0.000)</td>\n",
       "      <td>0.862 (0.000)</td>\n",
       "    </tr>\n",
       "    <tr>\n",
       "      <th>LogisticRegression</th>\n",
       "      <td>0.555 (0.000)</td>\n",
       "      <td>0.997 (0.000)</td>\n",
       "      <td>0.595 (0.000)</td>\n",
       "      <td>0.850 (0.000)</td>\n",
       "    </tr>\n",
       "    <tr>\n",
       "      <th>SymbolicClassifier</th>\n",
       "      <td>0.915 (0.000)</td>\n",
       "      <td>0.998 (0.001)</td>\n",
       "      <td>0.668 (0.032)</td>\n",
       "      <td>0.846 (0.010)</td>\n",
       "    </tr>\n",
       "    <tr>\n",
       "      <th>XGBClassifier</th>\n",
       "      <td>0.800 (0.002)</td>\n",
       "      <td>0.995 (0.002)</td>\n",
       "      <td>0.652 (0.028)</td>\n",
       "      <td>0.847 (0.002)</td>\n",
       "    </tr>\n",
       "  </tbody>\n",
       "</table>\n",
       "</div>"
      ],
      "text/plain": [
       "dataset                                 banana         breast  breast_cancer  \\\n",
       "model                                                                          \n",
       "ExplainableBoostingClassifier    0.957 (0.001)  0.997 (0.001)  0.651 (0.007)   \n",
       "ExplainableBoostingClassifierNo  0.800 (0.001)  0.995 (0.001)  0.645 (0.014)   \n",
       "LogisticGAM                      0.804 (0.000)  0.992 (0.000)  0.650 (0.000)   \n",
       "LogisticRegression               0.555 (0.000)  0.997 (0.000)  0.595 (0.000)   \n",
       "SymbolicClassifier               0.915 (0.000)  0.998 (0.001)  0.668 (0.032)   \n",
       "XGBClassifier                    0.800 (0.002)  0.995 (0.002)  0.652 (0.028)   \n",
       "\n",
       "dataset                               diabetes  \n",
       "model                                           \n",
       "ExplainableBoostingClassifier    0.847 (0.003)  \n",
       "ExplainableBoostingClassifierNo  0.857 (0.004)  \n",
       "LogisticGAM                      0.862 (0.000)  \n",
       "LogisticRegression               0.850 (0.000)  \n",
       "SymbolicClassifier               0.846 (0.010)  \n",
       "XGBClassifier                    0.847 (0.002)  "
      ]
     },
     "execution_count": 5,
     "metadata": {},
     "output_type": "execute_result"
    }
   ],
   "source": [
    "pivot_df"
   ]
  },
  {
   "cell_type": "code",
   "execution_count": 6,
   "metadata": {},
   "outputs": [
    {
     "name": "stdout",
     "output_type": "stream",
     "text": [
      "\\begin{tabular}{lllll}\n",
      "\\toprule\n",
      "{} &         banana &         cancer &         breast &       diabetes \\\\\n",
      "\\midrule\n",
      "Linear  &  0.555 (0.000) &  0.595 (0.000) &  0.997 (0.000) &  0.850 (0.000) \\\\\n",
      "GAM-S   &  0.804 (0.000) &  0.650 (0.000) &  0.992 (0.000) &  0.862 (0.000) \\\\\n",
      "EBM-1   &  0.800 (0.001) &  0.645 (0.014) &  0.995 (0.001) &  0.857 (0.004) \\\\\n",
      "EBM-2   &  0.957 (0.001) &  0.651 (0.007) &  0.997 (0.001) &  0.847 (0.003) \\\\\n",
      "XGBoost &  0.800 (0.002) &  0.652 (0.028) &  0.995 (0.002) &  0.847 (0.002) \\\\\n",
      "SHARE   &  0.915 (0.000) &  0.668 (0.032) &  0.998 (0.001) &  0.846 (0.010) \\\\\n",
      "\\bottomrule\n",
      "\\end{tabular}\n",
      "\n"
     ]
    },
    {
     "name": "stderr",
     "output_type": "stream",
     "text": [
      "C:\\Users\\krkac\\AppData\\Local\\Temp\\ipykernel_88816\\3602898941.py:18: FutureWarning: In future versions `DataFrame.to_latex` is expected to utilise the base implementation of `Styler.to_latex` for formatting and rendering. The arguments signature may therefore change. It is recommended instead to use `DataFrame.style.to_latex` which also contains additional functionality.\n",
      "  print(ready_df.to_latex())\n",
      "C:\\Users\\krkac\\AppData\\Local\\Temp\\ipykernel_88816\\3602898941.py:22: FutureWarning: In future versions `DataFrame.to_latex` is expected to utilise the base implementation of `Styler.to_latex` for formatting and rendering. The arguments signature may therefore change. It is recommended instead to use `DataFrame.style.to_latex` which also contains additional functionality.\n",
      "  f.write(ready_df.to_latex())\n"
     ]
    }
   ],
   "source": [
    "columns_in_order = ['banana', 'breast_cancer', 'breast', 'diabetes']\n",
    "column_names = ['banana', 'cancer', 'breast', 'diabetes']\n",
    "\n",
    "ready_df = pivot_df[columns_in_order]\n",
    "ready_df.columns = column_names\n",
    "\n",
    "models_in_order = ['LogisticRegression', 'LogisticGAM', 'ExplainableBoostingClassifierNo', 'ExplainableBoostingClassifier', 'XGBClassifier', 'SymbolicClassifier']\n",
    "ready_df = ready_df.reindex(models_in_order)\n",
    "model_names = ['Linear', 'GAM-S', 'EBM-1', 'EBM-2', 'XGBoost', 'SHARE']\n",
    "ready_df.index = model_names\n",
    "\n",
    "# Remove the index names\n",
    "ready_df.index.name = None\n",
    "ready_df.columns.name = None\n",
    "\n",
    "\n",
    "# Format to latex\n",
    "print(ready_df.to_latex())\n",
    "\n",
    "# Save to tex file\n",
    "with open('tables/Table_13.tex', 'w') as f:\n",
    "    f.write(ready_df.to_latex())"
   ]
  },
  {
   "cell_type": "code",
   "execution_count": null,
   "metadata": {},
   "outputs": [],
   "source": []
  }
 ],
 "metadata": {
  "kernelspec": {
   "display_name": "share",
   "language": "python",
   "name": "python3"
  },
  "language_info": {
   "codemirror_mode": {
    "name": "ipython",
    "version": 3
   },
   "file_extension": ".py",
   "mimetype": "text/x-python",
   "name": "python",
   "nbconvert_exporter": "python",
   "pygments_lexer": "ipython3",
   "version": "3.9.16"
  }
 },
 "nbformat": 4,
 "nbformat_minor": 2
}
