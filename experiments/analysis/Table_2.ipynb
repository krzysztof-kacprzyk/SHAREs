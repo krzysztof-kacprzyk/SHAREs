{
 "cells": [
  {
   "cell_type": "code",
   "execution_count": 2,
   "metadata": {},
   "outputs": [],
   "source": [
    "import sys\n",
    "sys.path.append('../../')\n",
    "\n",
    "import numpy as np\n",
    "import matplotlib.pyplot as plt\n",
    "from gplearn.gplearn.genetic import SymbolicRegressor\n",
    "from experiments.load_data import load_data\n",
    "# from experiments.benchmarks import run_experiment, categorical_variables_per_dataset, create_categorical_variable_dict\n",
    "from interpret.glassbox import ExplainableBoostingClassifier, ExplainableBoostingRegressor\n",
    "from sklearn.linear_model import LinearRegression\n",
    "from collections import defaultdict\n",
    "import pandas as pd\n",
    "from xgboost import XGBClassifier, XGBRegressor\n",
    "import time"
   ]
  },
  {
   "cell_type": "code",
   "execution_count": null,
   "metadata": {},
   "outputs": [],
   "source": [
    "def get_model(model,task):\n",
    "    if model == 'xgb':\n",
    "        if task == 'regression':\n",
    "            return XGBRegressor()\n",
    "        elif task == 'classification':\n",
    "            return XGBClassifier()\n",
    "    elif model == 'ebm':\n",
    "        if task == 'regression':\n",
    "            return ExplainableBoostingRegressor()\n",
    "        elif task == 'classification':\n",
    "            return ExplainableBoostingClassifier()\n",
    "    elif model == 'ebm_no_interactions':\n",
    "        if task == 'regression':\n",
    "            return ExplainableBoostingRegressor(interactions=0)\n",
    "        elif task == 'classification':\n",
    "            return ExplainableBoostingClassifier(interactions=0)"
   ]
  },
  {
   "cell_type": "code",
   "execution_count": null,
   "metadata": {},
   "outputs": [],
   "source": [
    "task = 'regression'\n",
    "dataset_names = [\n",
    "    'feynman_I_6_2b',\n",
    "    'feynman_I_8_14',\n",
    "    'feynman_I_12_2',\n",
    "    'feynman_I_12_11',\n",
    "    'feynman_I_18_12',\n",
    "    'feynman_I_29_16',\n",
    "    'feynman_I_32_5',\n",
    "    'feynman_I_40_1',\n",
    "    'feynman_II_2_42'\n",
    "]\n",
    "\n",
    "global_seed = 0\n",
    "model_names = ['xgb','ebm_no_interactions','ebm']\n",
    "\n",
    "# First test all datasets\n",
    "# for i, dataset_name in enumerate(dataset_names):\n",
    "#     if i < 30:\n",
    "#         continue\n",
    "#     model = LinearRegression()\n",
    "#     run_experiment(dataset_name, model, None, task, random_state=global_seed)\n",
    "\n",
    "results = defaultdict(list)\n",
    "for dataset_name in dataset_names:\n",
    "    results['dataset_name'].append(dataset_name)\n",
    "    for model_name in model_names:\n",
    "        model = get_model(model_name,task)\n",
    "        t1 = time.time()\n",
    "        score_mean, score_std = run_experiment(dataset_name, model, None, task, random_state=global_seed)\n",
    "        t2 = time.time()\n",
    "        results[f'{model_name}_mean'].append(score_mean)\n",
    "        results[f'{model_name}_std'].append(score_std)\n",
    "        results[f'{model_name}_time'].append(t2-t1)\n",
    "        \n",
    "df = pd.DataFrame(results)\n",
    "    \n",
    "\n",
    "    "
   ]
  },
  {
   "cell_type": "code",
   "execution_count": 3,
   "metadata": {},
   "outputs": [],
   "source": [
    "# Read the results from the file\n",
    "\n",
    "df = pd.read_csv('../results/Table_2_results.csv')"
   ]
  },
  {
   "cell_type": "code",
   "execution_count": 4,
   "metadata": {},
   "outputs": [],
   "source": [
    "def extract_equation_number(dataset_name):\n",
    "    parts = dataset_name.split(\"_\")\n",
    "    return \".\".join(parts[1:])"
   ]
  },
  {
   "cell_type": "code",
   "execution_count": 8,
   "metadata": {},
   "outputs": [],
   "source": [
    "def generate_latex_table(df,equations):\n",
    "    df = df.set_index('dataset_name')\n",
    "    res = r\"\"\"\\begin{table}[]\n",
    "\\begin{tabular}{lllll}\n",
    "\\toprule\n",
    "Eq. Number & Equation & GAM & GA${^2}$M & XGB \\\\\n",
    "\\midrule\n",
    "\"\"\"\n",
    "    for equation in equations.keys():\n",
    "        row = df.loc[equation,:]\n",
    "        eq_num = extract_equation_number(equation)\n",
    "        symbol = equations[equation]\n",
    "        res += f\"{eq_num} & ${symbol}$ & {row['ebm_no_interactions_mean']: .3f} (\" + f\"{row['ebm_no_interactions_std']:.3f}\"[1:]+f\") &  {row['ebm_mean']:.3f} (\"+f\"{row['ebm_std']:.3f}\"[1:]+f\") & {row['xgb_mean']:.3f} (\"+f\"{row['xgb_std']:.3f}\"[1:]+f\") \\\\\\\\ \\n\"\n",
    "    res+= r\"\"\"\\bottomrule\n",
    "\\end{tabular}\n",
    "\\end{table}\"\"\"\n",
    "    return res\n",
    "    \n",
    "    "
   ]
  },
  {
   "cell_type": "code",
   "execution_count": 6,
   "metadata": {},
   "outputs": [
    {
     "name": "stdout",
     "output_type": "stream",
     "text": [
      "\\begin{table}[]\n",
      "\\begin{tabular}{lllll}\n",
      "\\toprule\n",
      "Eq. Num. & Equation & GAM & GA${^2}$M & XGB \\\\\n",
      "\\midrule\n",
      "I.6.2b & $f=e^{-\\frac{(\\theta-\\theta_1)^2}{2\\sigma^2}}/\\sqrt{2\\pi\\sigma^2}$ &  0.731 (.010) &  0.896 (.004) & 0.997 (.000) \\\\ \n",
      "I.8.14 & $d=\\sqrt{(x_2-x_1)^2+(y_2-y_1)^2}$ &  0.229 (.011) &  0.966 (.000) & 0.989 (.000) \\\\ \n",
      "I.12.2 & $F=\\frac{q_1 q_2}{4 \\pi \\epsilon r^2}$ &  0.676 (.011) &  0.950 (.003) & 0.993 (.001) \\\\ \n",
      "I.12.11 & $F=q(E_f+Bv\\sin(\\theta))$ &  0.675 (.004) &  0.955 (.001) & 0.996 (.000) \\\\ \n",
      "I.18.12 & $\\tau=rF\\sin(\\theta)$ &  0.760 (.002) &  0.981 (.000) & 0.999 (.000) \\\\ \n",
      "I.29.16 & $x=\\sqrt{x_1^2+x_2^2-2x_1 x_2 \\cos(\\theta_1 - \\theta_2)}$ &  0.298 (.007) &  0.902 (.002) & 0.983 (.001) \\\\ \n",
      "I.32.5 & $P=\\frac{q^2 a^2}{6\\pi\\epsilon c^3}$ &  0.444 (.015) &  0.835 (.009) & 0.988 (.001) \\\\ \n",
      "I.40.1 & $n=n_0 e^{-\\frac{magx}{k_b T}}$ &  0.736 (.003) &  0.899 (.003) & 0.981 (.001) \\\\ \n",
      "II.2.42 & $P=\\frac{\\kappa(T_2-T_1)A}{d}$ &  0.615 (.006) &  0.937 (.002) & 0.990 (.000) \\\\ \n",
      "\\bottomrule\n",
      "\\end{tabular}\n",
      "\\end{table}\n"
     ]
    }
   ],
   "source": [
    "equations_to_print = {\n",
    "    'feynman_I_6_2b':r'f=e^{-\\frac{(\\theta-\\theta_1)^2}{2\\sigma^2}}/\\sqrt{2\\pi\\sigma^2}',\n",
    "    'feynman_I_8_14':r'd=\\sqrt{(x_2-x_1)^2+(y_2-y_1)^2}',\n",
    "    'feynman_I_12_2':r'F=\\frac{q_1 q_2}{4 \\pi \\epsilon r^2}',\n",
    "    'feynman_I_12_11':r'F=q(E_f+Bv\\sin(\\theta))',\n",
    "    'feynman_I_18_12':r'\\tau=rF\\sin(\\theta)',\n",
    "    'feynman_I_29_16':r'x=\\sqrt{x_1^2+x_2^2-2x_1 x_2 \\cos(\\theta_1 - \\theta_2)}',\n",
    "    'feynman_I_32_5':r'P=\\frac{q^2 a^2}{6\\pi\\epsilon c^3}',\n",
    "    'feynman_I_40_1':r'n=n_0 e^{-\\frac{magx}{k_b T}}',\n",
    "    'feynman_II_2_42':r'P=\\frac{\\kappa(T_2-T_1)A}{d}'\n",
    "}\n",
    "print(generate_latex_table(df, equations_to_print))"
   ]
  },
  {
   "cell_type": "code",
   "execution_count": 9,
   "metadata": {},
   "outputs": [],
   "source": [
    "# Save the table to a file\n",
    "with open('tables/Table_2.tex','w') as f:\n",
    "    f.write(generate_latex_table(df, equations_to_print))\n",
    "    "
   ]
  }
 ],
 "metadata": {
  "kernelspec": {
   "display_name": "share",
   "language": "python",
   "name": "python3"
  },
  "language_info": {
   "codemirror_mode": {
    "name": "ipython",
    "version": 3
   },
   "file_extension": ".py",
   "mimetype": "text/x-python",
   "name": "python",
   "nbconvert_exporter": "python",
   "pygments_lexer": "ipython3",
   "version": "3.9.16"
  }
 },
 "nbformat": 4,
 "nbformat_minor": 2
}
