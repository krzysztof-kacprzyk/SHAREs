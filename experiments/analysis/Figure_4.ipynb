{
 "cells": [
  {
   "cell_type": "code",
   "execution_count": 1,
   "metadata": {},
   "outputs": [],
   "source": [
    "import sys\n",
    "sys.path.append('../../')\n",
    "from experiments.risk_scores_data import generate_data, get_nodes_feature, get_age_feature, get_bmi_feature\n",
    "from experiments.utils import create_df_from_cached_results, load_share_from_checkpoint\n",
    "from sklearn.metrics import r2_score\n",
    "from gplearn.gplearn.genetic import SymbolicRegressor\n",
    "from gplearn.gplearn.model import ShapeNN\n",
    "import matplotlib.pyplot as plt\n",
    "import time\n",
    "import torch\n",
    "import pandas as pd\n",
    "import numpy as np"
   ]
  },
  {
   "cell_type": "code",
   "execution_count": 2,
   "metadata": {},
   "outputs": [],
   "source": [
    "# Read the timestamp from the file\n",
    "with open('../results/Figure_4_timestamp.txt','r') as f:\n",
    "    timestamp = f.read()\n",
    "# Read dataframe\n",
    "res_df = pd.read_csv(f'../results/Figure_4_results.csv', index_col=0)"
   ]
  },
  {
   "cell_type": "code",
   "execution_count": 3,
   "metadata": {},
   "outputs": [
    {
     "data": {
      "text/html": [
       "<div>\n",
       "<style scoped>\n",
       "    .dataframe tbody tr th:only-of-type {\n",
       "        vertical-align: middle;\n",
       "    }\n",
       "\n",
       "    .dataframe tbody tr th {\n",
       "        vertical-align: top;\n",
       "    }\n",
       "\n",
       "    .dataframe thead th {\n",
       "        text-align: right;\n",
       "    }\n",
       "</style>\n",
       "<table border=\"1\" class=\"dataframe\">\n",
       "  <thead>\n",
       "    <tr style=\"text-align: right;\">\n",
       "      <th></th>\n",
       "      <th>id</th>\n",
       "      <th>equation</th>\n",
       "      <th>raw_fitness</th>\n",
       "      <th>r2</th>\n",
       "      <th>r2_val</th>\n",
       "      <th>r2_train</th>\n",
       "      <th>n_shapes</th>\n",
       "      <th>n_variables</th>\n",
       "    </tr>\n",
       "  </thead>\n",
       "  <tbody>\n",
       "    <tr>\n",
       "      <th>0</th>\n",
       "      <td>0</td>\n",
       "      <td>add(X0, X1)</td>\n",
       "      <td>7380.957000</td>\n",
       "      <td>-13860.535182</td>\n",
       "      <td>-12194.578675</td>\n",
       "      <td>-12972.325723</td>\n",
       "      <td>0</td>\n",
       "      <td>2</td>\n",
       "    </tr>\n",
       "    <tr>\n",
       "      <th>1</th>\n",
       "      <td>1</td>\n",
       "      <td>add(X0, shape(X2))</td>\n",
       "      <td>230.545044</td>\n",
       "      <td>-431.966654</td>\n",
       "      <td>-353.711970</td>\n",
       "      <td>-388.147904</td>\n",
       "      <td>1</td>\n",
       "      <td>2</td>\n",
       "    </tr>\n",
       "    <tr>\n",
       "      <th>2</th>\n",
       "      <td>2</td>\n",
       "      <td>div(div(shape(X1), shape(X0)), shape(X2))</td>\n",
       "      <td>0.494983</td>\n",
       "      <td>0.070415</td>\n",
       "      <td>0.189743</td>\n",
       "      <td>0.133656</td>\n",
       "      <td>3</td>\n",
       "      <td>3</td>\n",
       "    </tr>\n",
       "    <tr>\n",
       "      <th>3</th>\n",
       "      <td>3</td>\n",
       "      <td>shape(add(add(X0, shape(X1)), shape(X2)))</td>\n",
       "      <td>0.125024</td>\n",
       "      <td>0.765204</td>\n",
       "      <td>0.778889</td>\n",
       "      <td>0.851743</td>\n",
       "      <td>3</td>\n",
       "      <td>3</td>\n",
       "    </tr>\n",
       "    <tr>\n",
       "      <th>4</th>\n",
       "      <td>4</td>\n",
       "      <td>div(shape(mul(shape(X1), shape(X2))), shape(X0))</td>\n",
       "      <td>0.093954</td>\n",
       "      <td>0.823552</td>\n",
       "      <td>0.804884</td>\n",
       "      <td>0.844692</td>\n",
       "      <td>4</td>\n",
       "      <td>3</td>\n",
       "    </tr>\n",
       "    <tr>\n",
       "      <th>...</th>\n",
       "      <td>...</td>\n",
       "      <td>...</td>\n",
       "      <td>...</td>\n",
       "      <td>...</td>\n",
       "      <td>...</td>\n",
       "      <td>...</td>\n",
       "      <td>...</td>\n",
       "      <td>...</td>\n",
       "    </tr>\n",
       "    <tr>\n",
       "      <th>414</th>\n",
       "      <td>414</td>\n",
       "      <td>div(X1, mul(shape(X2), shape(X0)))</td>\n",
       "      <td>388.863190</td>\n",
       "      <td>-729.290221</td>\n",
       "      <td>-668.999508</td>\n",
       "      <td>-656.759397</td>\n",
       "      <td>2</td>\n",
       "      <td>3</td>\n",
       "    </tr>\n",
       "    <tr>\n",
       "      <th>415</th>\n",
       "      <td>415</td>\n",
       "      <td>add(X2, shape(add(X1, X0)))</td>\n",
       "      <td>74.481209</td>\n",
       "      <td>-138.876682</td>\n",
       "      <td>-141.589148</td>\n",
       "      <td>-123.217457</td>\n",
       "      <td>1</td>\n",
       "      <td>3</td>\n",
       "    </tr>\n",
       "    <tr>\n",
       "      <th>416</th>\n",
       "      <td>416</td>\n",
       "      <td>add(shape(div(X0, shape(X1))), shape(X2))</td>\n",
       "      <td>0.137409</td>\n",
       "      <td>0.741944</td>\n",
       "      <td>0.664848</td>\n",
       "      <td>0.830918</td>\n",
       "      <td>3</td>\n",
       "      <td>3</td>\n",
       "    </tr>\n",
       "    <tr>\n",
       "      <th>417</th>\n",
       "      <td>417</td>\n",
       "      <td>add(mul(X0, shape(X1)), X2)</td>\n",
       "      <td>375.457855</td>\n",
       "      <td>-704.114879</td>\n",
       "      <td>-537.588892</td>\n",
       "      <td>-523.983110</td>\n",
       "      <td>1</td>\n",
       "      <td>3</td>\n",
       "    </tr>\n",
       "    <tr>\n",
       "      <th>418</th>\n",
       "      <td>418</td>\n",
       "      <td>add(add(shape(X0), shape(X1)), shape(X2))</td>\n",
       "      <td>0.000584</td>\n",
       "      <td>0.998904</td>\n",
       "      <td>0.998844</td>\n",
       "      <td>0.999131</td>\n",
       "      <td>3</td>\n",
       "      <td>3</td>\n",
       "    </tr>\n",
       "  </tbody>\n",
       "</table>\n",
       "<p>419 rows × 8 columns</p>\n",
       "</div>"
      ],
      "text/plain": [
       "      id                                          equation  raw_fitness  \\\n",
       "0      0                                       add(X0, X1)  7380.957000   \n",
       "1      1                                add(X0, shape(X2))   230.545044   \n",
       "2      2         div(div(shape(X1), shape(X0)), shape(X2))     0.494983   \n",
       "3      3         shape(add(add(X0, shape(X1)), shape(X2)))     0.125024   \n",
       "4      4  div(shape(mul(shape(X1), shape(X2))), shape(X0))     0.093954   \n",
       "..   ...                                               ...          ...   \n",
       "414  414                div(X1, mul(shape(X2), shape(X0)))   388.863190   \n",
       "415  415                       add(X2, shape(add(X1, X0)))    74.481209   \n",
       "416  416         add(shape(div(X0, shape(X1))), shape(X2))     0.137409   \n",
       "417  417                       add(mul(X0, shape(X1)), X2)   375.457855   \n",
       "418  418         add(add(shape(X0), shape(X1)), shape(X2))     0.000584   \n",
       "\n",
       "               r2        r2_val      r2_train  n_shapes  n_variables  \n",
       "0   -13860.535182 -12194.578675 -12972.325723         0            2  \n",
       "1     -431.966654   -353.711970   -388.147904         1            2  \n",
       "2        0.070415      0.189743      0.133656         3            3  \n",
       "3        0.765204      0.778889      0.851743         3            3  \n",
       "4        0.823552      0.804884      0.844692         4            3  \n",
       "..            ...           ...           ...       ...          ...  \n",
       "414   -729.290221   -668.999508   -656.759397         2            3  \n",
       "415   -138.876682   -141.589148   -123.217457         1            3  \n",
       "416      0.741944      0.664848      0.830918         3            3  \n",
       "417   -704.114879   -537.588892   -523.983110         1            3  \n",
       "418      0.998904      0.998844      0.999131         3            3  \n",
       "\n",
       "[419 rows x 8 columns]"
      ]
     },
     "execution_count": 3,
     "metadata": {},
     "output_type": "execute_result"
    }
   ],
   "source": [
    "res_df"
   ]
  },
  {
   "cell_type": "code",
   "execution_count": 4,
   "metadata": {},
   "outputs": [
    {
     "data": {
      "text/plain": [
       "id                              376\n",
       "equation       div(X0, mul(X2, X1))\n",
       "raw_fitness                0.835831\n",
       "r2                        -0.569701\n",
       "r2_val                    -0.267081\n",
       "r2_train                  -0.498106\n",
       "n_shapes                          0\n",
       "n_variables                       3\n",
       "Name: 376, dtype: object"
      ]
     },
     "execution_count": 4,
     "metadata": {},
     "output_type": "execute_result"
    }
   ],
   "source": [
    "res_df[res_df['n_shapes'] == 0].sort_values(by='r2_train',ascending=False).iloc[0,:]"
   ]
  },
  {
   "cell_type": "code",
   "execution_count": 5,
   "metadata": {},
   "outputs": [
    {
     "data": {
      "text/plain": [
       "id                            242\n",
       "equation       mul(X1, shape(X2))\n",
       "raw_fitness              0.189925\n",
       "r2                       0.643317\n",
       "r2_val                    0.63029\n",
       "r2_train                 0.679479\n",
       "n_shapes                        1\n",
       "n_variables                     2\n",
       "Name: 242, dtype: object"
      ]
     },
     "execution_count": 5,
     "metadata": {},
     "output_type": "execute_result"
    }
   ],
   "source": [
    "res_df[res_df['n_shapes'] == 1].sort_values(by='r2_train',ascending=False).iloc[0,:]"
   ]
  },
  {
   "cell_type": "code",
   "execution_count": 6,
   "metadata": {},
   "outputs": [
    {
     "data": {
      "text/plain": [
       "id                                   301\n",
       "equation       add(shape(X1), shape(X2))\n",
       "raw_fitness                     0.118383\n",
       "r2                              0.777676\n",
       "r2_val                          0.846697\n",
       "r2_train                        0.870079\n",
       "n_shapes                               2\n",
       "n_variables                            2\n",
       "Name: 301, dtype: object"
      ]
     },
     "execution_count": 6,
     "metadata": {},
     "output_type": "execute_result"
    }
   ],
   "source": [
    "res_df[res_df['n_shapes'] == 2].sort_values(by='r2_train',ascending=False).iloc[0,:]"
   ]
  },
  {
   "cell_type": "code",
   "execution_count": 7,
   "metadata": {},
   "outputs": [
    {
     "data": {
      "text/plain": [
       "id                                                   418\n",
       "equation       add(add(shape(X0), shape(X1)), shape(X2))\n",
       "raw_fitness                                     0.000584\n",
       "r2                                              0.998904\n",
       "r2_val                                          0.998844\n",
       "r2_train                                        0.999131\n",
       "n_shapes                                               3\n",
       "n_variables                                            3\n",
       "Name: 418, dtype: object"
      ]
     },
     "execution_count": 7,
     "metadata": {},
     "output_type": "execute_result"
    }
   ],
   "source": [
    "res_df[res_df['n_shapes'] == 3].sort_values(by='r2_train',ascending=False).iloc[0,:]"
   ]
  },
  {
   "cell_type": "code",
   "execution_count": 8,
   "metadata": {},
   "outputs": [
    {
     "data": {
      "text/plain": [
       "id                                                          303\n",
       "equation       shape(add(add(shape(X2), shape(X0)), shape(X1)))\n",
       "raw_fitness                                            0.003376\n",
       "r2                                                      0.99366\n",
       "r2_val                                                 0.988938\n",
       "r2_train                                               0.995273\n",
       "n_shapes                                                      4\n",
       "n_variables                                                   3\n",
       "Name: 303, dtype: object"
      ]
     },
     "execution_count": 8,
     "metadata": {},
     "output_type": "execute_result"
    }
   ],
   "source": [
    "res_df[res_df['n_shapes'] == 4].sort_values(by='r2_train',ascending=False).iloc[0,:]"
   ]
  },
  {
   "cell_type": "code",
   "execution_count": 11,
   "metadata": {},
   "outputs": [],
   "source": [
    "def evaluate_shape(shape,t):\n",
    "    shape.to(torch.device('cpu'))\n",
    "    t = torch.from_numpy(t).float()\n",
    "    shape.eval()\n",
    "    with torch.no_grad():\n",
    "        return shape(t).numpy().flatten()"
   ]
  },
  {
   "cell_type": "code",
   "execution_count": 12,
   "metadata": {},
   "outputs": [],
   "source": [
    "colors = ['#377eb8', '#ff7f00', '#4daf4a',\n",
    "          '#f781bf', '#a65628', '#984ea3',\n",
    "          '#999999', '#e41a1c', '#dede00']\n",
    "linewidth = 2.0\n",
    "alpha = 0.5\n",
    "markersize = 5.0\n",
    "label_fontsize = 15"
   ]
  },
  {
   "cell_type": "code",
   "execution_count": 13,
   "metadata": {},
   "outputs": [],
   "source": [
    "def plot_1(ax,s):\n",
    "    t = np.linspace(0,50,1000)\n",
    "    node = get_nodes_feature()\n",
    "    ax.plot(t,node(t),'-', c=colors[0], markersize=markersize,linewidth=linewidth, alpha=alpha, label=\"Ground truth\")\n",
    "    ax.plot(t,evaluate_shape(s,t),c=colors[1],linewidth=linewidth, alpha=alpha, label=r\"$s_1(x_{nodes})+s_2(x_{age})+s_3(x_{bmi})$\")\n",
    "    ax.set_xlabel(r'$x_{nodes}$', fontsize=label_fontsize)\n",
    "    ax.set_ylabel(r\"$s_1$\", fontsize=label_fontsize)\n"
   ]
  },
  {
   "cell_type": "code",
   "execution_count": 14,
   "metadata": {},
   "outputs": [],
   "source": [
    "def plot_2(ax,s):\n",
    "    t = np.linspace(45,70,1000)\n",
    "    node = get_age_feature()\n",
    "    ax.plot(t,node(t),'-', c=colors[0], markersize=markersize,linewidth=linewidth, alpha=alpha, label=\"Ground truth\")\n",
    "    ax.plot(t,evaluate_shape(s,t),c=colors[1],linewidth=linewidth, alpha=alpha, label=r\"$s_1(x_{nodes})+s_2(x_{age})+s_3(x_{bmi})$\")\n",
    "    ax.set_xlabel(r'$x_{age}$', fontsize=label_fontsize)\n",
    "    ax.set_ylabel(r\"$s_2$\", fontsize=label_fontsize)\n"
   ]
  },
  {
   "cell_type": "code",
   "execution_count": 15,
   "metadata": {},
   "outputs": [],
   "source": [
    "def plot_3(ax,s):\n",
    "    t = np.linspace(17,45,1000)\n",
    "    node = get_bmi_feature()\n",
    "    ax.plot(t,node(t),'-', c=colors[0], markersize=markersize,linewidth=linewidth, alpha=alpha, label=\"Ground truth\")\n",
    "    ax.plot(t,evaluate_shape(s,t),c=colors[1],linewidth=linewidth, alpha=alpha, label=r\"SHARE\")\n",
    "    ax.set_xlabel(r'$x_{bmi}$', fontsize=label_fontsize)\n",
    "    ax.set_ylabel(r\"$s_3$\", fontsize=label_fontsize)\n"
   ]
  },
  {
   "cell_type": "code",
   "execution_count": 16,
   "metadata": {},
   "outputs": [
    {
     "name": "stdout",
     "output_type": "stream",
     "text": [
      "add(add(shape(X0), shape(X1)), shape(X2))\n"
     ]
    },
    {
     "data": {
      "image/png": "[encoded data removed]",
      "text/plain": [
       "<Figure size 600x250 with 3 Axes>"
      ]
     },
     "metadata": {},
     "output_type": "display_data"
    }
   ],
   "source": [
    "sorted_filtered = res_df[res_df['n_shapes'] == 3].sort_values(by='r2_train',ascending=False)\n",
    "eq = sorted_filtered.iloc[0,1]\n",
    "id = sorted_filtered.iloc[0,0]\n",
    "esr_best = load_share_from_checkpoint(timestamp, eq, checkpoint_dir='../results/checkpoints', task='regression',n_features=3, equation_id=id)\n",
    "s1 = esr_best._program.model.shape_functions[0]\n",
    "s2 = esr_best._program.model.shape_functions[1]\n",
    "s3 = esr_best._program.model.shape_functions[2]\n",
    "\n",
    "fig, axs = plt.subplots(1,3, figsize=(6,2.5))\n",
    "plot_1(axs[0],s1)\n",
    "plot_2(axs[1],s2)\n",
    "plot_3(axs[2],s3)\n",
    "handles, labels = axs[2].get_legend_handles_labels()\n",
    "fig.legend(handles, labels, loc='upper center', fontsize=13)\n",
    "plt.subplots_adjust(left=0.12, bottom=0.20, right=0.98, top=0.65, wspace=0.65, hspace=None)\n",
    "plt.savefig('figures/Figure_4.pdf')"
   ]
  },
  {
   "cell_type": "code",
   "execution_count": null,
   "metadata": {},
   "outputs": [],
   "source": []
  }
 ],
 "metadata": {
  "kernelspec": {
   "display_name": "share",
   "language": "python",
   "name": "python3"
  },
  "language_info": {
   "codemirror_mode": {
    "name": "ipython",
    "version": 3
   },
   "file_extension": ".py",
   "mimetype": "text/x-python",
   "name": "python",
   "nbconvert_exporter": "python",
   "pygments_lexer": "ipython3",
   "version": "3.9.16"
  }
 },
 "nbformat": 4,
 "nbformat_minor": 2
}
