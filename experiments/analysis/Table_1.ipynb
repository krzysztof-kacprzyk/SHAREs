{
 "cells": [
  {
   "cell_type": "code",
   "execution_count": 1,
   "metadata": {},
   "outputs": [],
   "source": [
    "import sys\n",
    "sys.path.append('../../')\n",
    "\n",
    "import numpy as np\n",
    "from experiments.load_data import load_data\n",
    "from sklearn.model_selection import train_test_split\n",
    "from sklearn.metrics import r2_score\n",
    "import pandas as pd\n",
    "import pysr"
   ]
  },
  {
   "cell_type": "code",
   "execution_count": 2,
   "metadata": {},
   "outputs": [
    {
     "name": "stdout",
     "output_type": "stream",
     "text": [
      "Checking if ../results/Table_1_results.pkl exists...\n",
      "Loading model from ../results/Table_1_results.pkl\n"
     ]
    }
   ],
   "source": [
    "dataset_name = 'stress_strain'\n",
    "\n",
    "data_dir = '../data/'\n",
    "\n",
    "df = load_data('stress_strain', data_dir=data_dir)\n",
    "\n",
    "X = df[['Strain']]\n",
    "y = df['target']\n",
    "\n",
    "X_train, X_test, y_train, y_test = train_test_split(X, y, test_size=0.2, random_state=42)\n",
    "\n",
    "# Read the model from a file\n",
    "model = pysr.PySRRegressor.from_file(\"../results/Table_1_results.pkl\")"
   ]
  },
  {
   "cell_type": "code",
   "execution_count": 3,
   "metadata": {},
   "outputs": [],
   "source": [
    "equation_ids = [2,3,4,5,7,8,10,12]\n",
    "res = []\n",
    "for i in equation_ids:\n",
    "    res.append(r2_score(y_test,model.predict(X_test,i)))"
   ]
  },
  {
   "cell_type": "code",
   "execution_count": 4,
   "metadata": {},
   "outputs": [],
   "source": [
    "df = model.equations_.loc[equation_ids,['complexity']]"
   ]
  },
  {
   "cell_type": "code",
   "execution_count": 5,
   "metadata": {},
   "outputs": [],
   "source": [
    "latex_equations = [model.latex(id) for id in equation_ids]"
   ]
  },
  {
   "cell_type": "code",
   "execution_count": 6,
   "metadata": {},
   "outputs": [],
   "source": [
    "df['equation'] = latex_equations\n",
    "df['r2'] = res"
   ]
  },
  {
   "cell_type": "code",
   "execution_count": 7,
   "metadata": {},
   "outputs": [],
   "source": [
    "df = df[['equation','complexity','r2']]"
   ]
  },
  {
   "cell_type": "code",
   "execution_count": 8,
   "metadata": {},
   "outputs": [
    {
     "name": "stdout",
     "output_type": "stream",
     "text": [
      "\\begin{tabular}{p{3cm}ccc}\n",
      "\\toprule\n",
      "                                          equation &  complexity &    r2 \\\\\n",
      "\\midrule\n",
      "                                 63.3 e^{- Strain} &           4 & 0.163 \\\\\n",
      "                                78.8 - 285. Strain &           5 & 0.529 \\\\\n",
      "              74.9 \\cos{\\left(7.78 Strain \\right)} &           6 & 0.679 \\\\\n",
      "71.2 \\cos{\\left(\\frac{Strain}{Strain - 0.277} \\... &           8 & 0.750 \\\\\n",
      "147. \\cos{\\left(8.58 Strain - 0.429 \\right)} - ... &          10 & 0.770 \\\\\n",
      "- 428. Strain + 428. \\cos{\\left(0.0711 \\log{\\le... &          11 & 0.836 \\\\\n",
      "428. \\cos{\\left(3.31 Strain - 0.0751 \\log{\\left... &          15 & 0.933 \\\\\n",
      "168. \\cos{\\left(\\left(7.23 - \\cos{\\left(1.00 e^... &          18 & 0.970 \\\\\n",
      "\\bottomrule\n",
      "\\end{tabular}\n",
      "\n"
     ]
    },
    {
     "name": "stderr",
     "output_type": "stream",
     "text": [
      "C:\\Users\\krkac\\AppData\\Local\\Temp\\ipykernel_34360\\2364476821.py:2: FutureWarning: In future versions `DataFrame.to_latex` is expected to utilise the base implementation of `Styler.to_latex` for formatting and rendering. The arguments signature may therefore change. It is recommended instead to use `DataFrame.style.to_latex` which also contains additional functionality.\n",
      "  print(df.to_latex(escape=False, index=False, column_format='p{3cm}ccc', float_format=\"%.3f\"))\n"
     ]
    }
   ],
   "source": [
    "# Print latex booktabs table without escaping the equations with precision 3\n",
    "print(df.to_latex(escape=False, index=False, column_format='p{3cm}ccc', float_format=\"%.3f\"))"
   ]
  },
  {
   "cell_type": "code",
   "execution_count": 10,
   "metadata": {},
   "outputs": [
    {
     "name": "stderr",
     "output_type": "stream",
     "text": [
      "C:\\Users\\krkac\\AppData\\Local\\Temp\\ipykernel_34360\\2720865529.py:3: FutureWarning: In future versions `DataFrame.to_latex` is expected to utilise the base implementation of `Styler.to_latex` for formatting and rendering. The arguments signature may therefore change. It is recommended instead to use `DataFrame.style.to_latex` which also contains additional functionality.\n",
      "  f.write(df.to_latex(escape=False, index=False, column_format='p{3cm}ccc', float_format=\"%.3f\"))\n"
     ]
    }
   ],
   "source": [
    "# Save the table to a file\n",
    "with open(f'tables/Table_1.tex','w') as f:\n",
    "    f.write(df.to_latex(escape=False, index=False, column_format='p{3cm}ccc', float_format=\"%.3f\"))"
   ]
  },
  {
   "cell_type": "code",
   "execution_count": null,
   "metadata": {},
   "outputs": [],
   "source": []
  }
 ],
 "metadata": {
  "kernelspec": {
   "display_name": "share",
   "language": "python",
   "name": "python3"
  },
  "language_info": {
   "codemirror_mode": {
    "name": "ipython",
    "version": 3
   },
   "file_extension": ".py",
   "mimetype": "text/x-python",
   "name": "python",
   "nbconvert_exporter": "python",
   "pygments_lexer": "ipython3",
   "version": "3.9.16"
  }
 },
 "nbformat": 4,
 "nbformat_minor": 2
}
