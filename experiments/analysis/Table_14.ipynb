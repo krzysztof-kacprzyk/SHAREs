{
 "cells": [
  {
   "cell_type": "code",
   "execution_count": 2,
   "metadata": {},
   "outputs": [],
   "source": [
    "import pandas as pd\n",
    "import glob\n",
    "\n",
    "classification_datasets = ['diabetes','banana','breast_cancer','breast']\n",
    "classification_models = ['LogisticRegression','LogisticGAM','ExplainableBoostingClassifierNo','ExplainableBoostingClassifier','XGBClassifier','SymbolicClassifier']\n"
   ]
  },
  {
   "cell_type": "code",
   "execution_count": 7,
   "metadata": {},
   "outputs": [
    {
     "name": "stdout",
     "output_type": "stream",
     "text": [
      "['../results\\\\diabetes_LogisticRegression_20240307-151422.csv']\n",
      "['../results\\\\diabetes_LogisticGAM_20240307-163451.csv']\n",
      "['../results\\\\diabetes_ExplainableBoostingClassifierNo_20240307-152346.csv']\n",
      "['../results\\\\diabetes_ExplainableBoostingClassifier_20240307-151437.csv']\n",
      "['../results\\\\diabetes_XGBClassifier_20240307-151424.csv']\n",
      "['../results\\\\diabetes_SymbolicClassifier_20231203-003154.csv']\n",
      "['../results\\\\banana_LogisticRegression_20240307-152359.csv']\n",
      "['../results\\\\banana_LogisticGAM_20240307-185936.csv']\n",
      "['../results\\\\banana_ExplainableBoostingClassifierNo_20240307-185945.csv']\n",
      "['../results\\\\banana_ExplainableBoostingClassifier_20240307-152412.csv']\n",
      "['../results\\\\banana_XGBClassifier_20240307-152400.csv']\n",
      "['../results\\\\banana_SymbolicClassifier_20231203-170915.csv']\n",
      "['../results\\\\breast_cancer_LogisticRegression_20240307-163847.csv']\n",
      "['../results\\\\breast_cancer_LogisticGAM_20240307-163754.csv']\n",
      "['../results\\\\breast_cancer_ExplainableBoostingClassifierNo_20240307-163934.csv']\n",
      "['../results\\\\breast_cancer_ExplainableBoostingClassifier_20240307-163854.csv']\n",
      "['../results\\\\breast_cancer_XGBClassifier_20240307-163847.csv']\n",
      "['../results\\\\breast_cancer_SymbolicClassifier_20231203-220936.csv']\n",
      "['../results\\\\breast_LogisticRegression_20240307-163531.csv']\n",
      "['../results\\\\breast_LogisticGAM_20240307-163511.csv']\n",
      "['../results\\\\breast_ExplainableBoostingClassifierNo_20240307-163718.csv']\n",
      "['../results\\\\breast_ExplainableBoostingClassifier_20240307-163538.csv']\n",
      "['../results\\\\breast_XGBClassifier_20240307-163531.csv']\n",
      "['../results\\\\breast_SymbolicClassifier_20231203-174602.csv']\n",
      "dataset                          banana   breast breast_cancer diabetes\n",
      "model                                                                  \n",
      "ExplainableBoostingClassifier      6.66     0.53          0.20     1.17\n",
      "ExplainableBoostingClassifierNo    0.57     0.08          0.04     0.08\n",
      "LogisticGAM                        0.09     0.17          0.47     0.09\n",
      "LogisticRegression                 0.01     0.00          0.00     0.01\n",
      "SymbolicClassifier               874.04  7535.68       2321.60  6133.11\n",
      "XGBClassifier                      0.09     0.02          0.01     0.05\n"
     ]
    }
   ],
   "source": [
    "# Iterate over the classification datasets and models, read the data, and add a row to the results dataframe\n",
    "\n",
    "data_list = []\n",
    "for dataset in classification_datasets:\n",
    "    for model in classification_models:\n",
    "        files = glob.glob(f'../results/{dataset}_{model}_*.csv')\n",
    "        print(files)\n",
    "        assert len(files) <= 1\n",
    "        if len(files) == 0:\n",
    "            continue\n",
    "        file = files[0]\n",
    "        data = pd.read_csv(file)\n",
    "        data_dict = {'dataset': dataset, 'model': model, 'score_mean': data['score'].mean(), 'score_std': data['score'].std(), 'time': f\"{data['time'].mean():.2f}\"}\n",
    "        data_list.append(data_dict)\n",
    "\n",
    "df = pd.DataFrame(data_list, columns=['dataset','model','score_mean','score_std','time'])\n",
    "\n",
    "# Now pivot the DataFrame\n",
    "pivot_df = df.pivot(index='model', columns='dataset', values='time')\n",
    "\n",
    "print(pivot_df)\n",
    "\n",
    "\n"
   ]
  },
  {
   "cell_type": "code",
   "execution_count": 8,
   "metadata": {},
   "outputs": [
    {
     "name": "stdout",
     "output_type": "stream",
     "text": [
      "\\begin{tabular}{lllll}\n",
      "\\toprule\n",
      "{} &  banana &   cancer &   breast & diabetes \\\\\n",
      "\\midrule\n",
      "Linear  &    0.01 &     0.00 &     0.00 &     0.01 \\\\\n",
      "GAM-S   &    0.09 &     0.47 &     0.17 &     0.09 \\\\\n",
      "EBM-1   &    0.57 &     0.04 &     0.08 &     0.08 \\\\\n",
      "EBM-2   &    6.66 &     0.20 &     0.53 &     1.17 \\\\\n",
      "XGBoost &    0.09 &     0.01 &     0.02 &     0.05 \\\\\n",
      "SHARE   &  874.04 &  2321.60 &  7535.68 &  6133.11 \\\\\n",
      "\\bottomrule\n",
      "\\end{tabular}\n",
      "\n"
     ]
    },
    {
     "name": "stderr",
     "output_type": "stream",
     "text": [
      "C:\\Users\\krkac\\AppData\\Local\\Temp\\ipykernel_33000\\3979049685.py:18: FutureWarning: In future versions `DataFrame.to_latex` is expected to utilise the base implementation of `Styler.to_latex` for formatting and rendering. The arguments signature may therefore change. It is recommended instead to use `DataFrame.style.to_latex` which also contains additional functionality.\n",
      "  print(ready_df.to_latex())\n",
      "C:\\Users\\krkac\\AppData\\Local\\Temp\\ipykernel_33000\\3979049685.py:22: FutureWarning: In future versions `DataFrame.to_latex` is expected to utilise the base implementation of `Styler.to_latex` for formatting and rendering. The arguments signature may therefore change. It is recommended instead to use `DataFrame.style.to_latex` which also contains additional functionality.\n",
      "  f.write(ready_df.to_latex())\n"
     ]
    }
   ],
   "source": [
    "columns_in_order = ['banana', 'breast_cancer', 'breast', 'diabetes']\n",
    "column_names = ['banana', 'cancer', 'breast', 'diabetes']\n",
    "\n",
    "ready_df = pivot_df[columns_in_order]\n",
    "ready_df.columns = column_names\n",
    "\n",
    "models_in_order = ['LogisticRegression', 'LogisticGAM', 'ExplainableBoostingClassifierNo', 'ExplainableBoostingClassifier', 'XGBClassifier', 'SymbolicClassifier']\n",
    "ready_df = ready_df.reindex(models_in_order)\n",
    "model_names = ['Linear', 'GAM-S', 'EBM-1', 'EBM-2', 'XGBoost', 'SHARE']\n",
    "ready_df.index = model_names\n",
    "\n",
    "# Remove the index names\n",
    "ready_df.index.name = None\n",
    "ready_df.columns.name = None\n",
    "\n",
    "\n",
    "# Format to latex\n",
    "print(ready_df.to_latex())\n",
    "\n",
    "# Save to tex file\n",
    "with open('tables/Table_14.tex', 'w') as f:\n",
    "    f.write(ready_df.to_latex())"
   ]
  },
  {
   "cell_type": "code",
   "execution_count": 9,
   "metadata": {},
   "outputs": [
    {
     "name": "stdout",
     "output_type": "stream",
     "text": [
      "['../results\\\\diabetes_LogisticRegression_20240307-151422.csv']\n",
      "['../results\\\\diabetes_LogisticGAM_20240307-163451.csv']\n",
      "['../results\\\\diabetes_ExplainableBoostingClassifierNo_20240307-152346.csv']\n",
      "['../results\\\\diabetes_ExplainableBoostingClassifier_20240307-151437.csv']\n",
      "['../results\\\\diabetes_XGBClassifier_20240307-151424.csv']\n",
      "['../results\\\\diabetes_SymbolicClassifier_20231203-003154.csv']\n",
      "['../results\\\\banana_LogisticRegression_20240307-152359.csv']\n",
      "['../results\\\\banana_LogisticGAM_20240307-185936.csv']\n",
      "['../results\\\\banana_ExplainableBoostingClassifierNo_20240307-185945.csv']\n",
      "['../results\\\\banana_ExplainableBoostingClassifier_20240307-152412.csv']\n",
      "['../results\\\\banana_XGBClassifier_20240307-152400.csv']\n",
      "['../results\\\\banana_SymbolicClassifier_20231203-170915.csv']\n",
      "['../results\\\\breast_cancer_LogisticRegression_20240307-163847.csv']\n",
      "['../results\\\\breast_cancer_LogisticGAM_20240307-163754.csv']\n",
      "['../results\\\\breast_cancer_ExplainableBoostingClassifierNo_20240307-163934.csv']\n",
      "['../results\\\\breast_cancer_ExplainableBoostingClassifier_20240307-163854.csv']\n",
      "['../results\\\\breast_cancer_XGBClassifier_20240307-163847.csv']\n",
      "['../results\\\\breast_cancer_SymbolicClassifier_20231203-220936.csv']\n",
      "['../results\\\\breast_LogisticRegression_20240307-163531.csv']\n",
      "['../results\\\\breast_LogisticGAM_20240307-163511.csv']\n",
      "['../results\\\\breast_ExplainableBoostingClassifierNo_20240307-163718.csv']\n",
      "['../results\\\\breast_ExplainableBoostingClassifier_20240307-163538.csv']\n",
      "['../results\\\\breast_XGBClassifier_20240307-163531.csv']\n",
      "['../results\\\\breast_SymbolicClassifier_20231203-174602.csv']\n"
     ]
    }
   ],
   "source": [
    "all_time = 0\n",
    "data_list = []\n",
    "for dataset in classification_datasets:\n",
    "    for model in classification_models:\n",
    "        files = glob.glob(f'../results/{dataset}_{model}_*.csv')\n",
    "        print(files)\n",
    "        assert len(files) <= 1\n",
    "        if len(files) == 0:\n",
    "            continue\n",
    "        file = files[0]\n",
    "        data = pd.read_csv(file)\n",
    "        all_time = data['time'].sum()\n",
    "\n",
    "# Read the time from the files\n",
    "file_names = [\"../results/Figure_4_time.txt\", \"../results/Figure_5_time.txt\", \"../results/Figure_6_time.txt\", \"../results/Figure_7_time.txt\",\"../results/Table_1_time.txt\",\"../results/Table_3_time.txt\"]\n",
    "for file_name in file_names:\n",
    "    with open(file_name, 'r') as file:\n",
    "        time = float(file.read())\n",
    "        all_time += time\n"
   ]
  },
  {
   "cell_type": "code",
   "execution_count": 11,
   "metadata": {},
   "outputs": [
    {
     "name": "stdout",
     "output_type": "stream",
     "text": [
      "Total time: 52918.82s\n",
      "Total time: 14.70h\n"
     ]
    }
   ],
   "source": [
    "print(f\"Total time: {all_time:.2f}s\")\n",
    "print(f\"Total time: {all_time/3600:.2f}h\")"
   ]
  },
  {
   "cell_type": "code",
   "execution_count": null,
   "metadata": {},
   "outputs": [],
   "source": []
  }
 ],
 "metadata": {
  "kernelspec": {
   "display_name": "share",
   "language": "python",
   "name": "python3"
  },
  "language_info": {
   "codemirror_mode": {
    "name": "ipython",
    "version": 3
   },
   "file_extension": ".py",
   "mimetype": "text/x-python",
   "name": "python",
   "nbconvert_exporter": "python",
   "pygments_lexer": "ipython3",
   "version": "3.9.16"
  }
 },
 "nbformat": 4,
 "nbformat_minor": 2
}
