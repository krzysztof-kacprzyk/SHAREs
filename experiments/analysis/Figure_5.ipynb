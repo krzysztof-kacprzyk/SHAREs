{
 "cells": [
  {
   "cell_type": "code",
   "execution_count": 1,
   "metadata": {},
   "outputs": [],
   "source": [
    "import sys\n",
    "sys.path.append('../../')\n",
    "from experiments.risk_scores_data import generate_data, get_nodes_feature, get_age_feature, get_bmi_feature\n",
    "from experiments.utils import create_df_from_cached_results, load_share_from_checkpoint\n",
    "from sklearn.metrics import r2_score\n",
    "from gplearn.gplearn.genetic import SymbolicRegressor\n",
    "from gplearn.gplearn.model import ShapeNN\n",
    "import matplotlib.pyplot as plt\n",
    "import time\n",
    "import torch\n",
    "import pandas as pd\n",
    "import numpy as np\n",
    "plt.rcParams['pdf.fonttype'] = 42\n",
    "plt.rcParams['ps.fonttype'] = 42"
   ]
  },
  {
   "cell_type": "code",
   "execution_count": 2,
   "metadata": {},
   "outputs": [],
   "source": [
    "# Read the timestamp from the file\n",
    "with open('../results/Figure_5_timestamp.txt','r') as f:\n",
    "    timestamp = f.read()\n",
    "# Read dataframe\n",
    "res_df = pd.read_csv(f'../results/Figure_5_results.csv', index_col=0)"
   ]
  },
  {
   "cell_type": "code",
   "execution_count": 3,
   "metadata": {},
   "outputs": [
    {
     "data": {
      "text/html": [
       "<div>\n",
       "<style scoped>\n",
       "    .dataframe tbody tr th:only-of-type {\n",
       "        vertical-align: middle;\n",
       "    }\n",
       "\n",
       "    .dataframe tbody tr th {\n",
       "        vertical-align: top;\n",
       "    }\n",
       "\n",
       "    .dataframe thead th {\n",
       "        text-align: right;\n",
       "    }\n",
       "</style>\n",
       "<table border=\"1\" class=\"dataframe\">\n",
       "  <thead>\n",
       "    <tr style=\"text-align: right;\">\n",
       "      <th></th>\n",
       "      <th>id</th>\n",
       "      <th>equation</th>\n",
       "      <th>raw_fitness</th>\n",
       "      <th>r2</th>\n",
       "      <th>r2_val</th>\n",
       "      <th>r2_train</th>\n",
       "      <th>n_shapes</th>\n",
       "      <th>n_variables</th>\n",
       "    </tr>\n",
       "  </thead>\n",
       "  <tbody>\n",
       "    <tr>\n",
       "      <th>0</th>\n",
       "      <td>0</td>\n",
       "      <td>add(X0, X1)</td>\n",
       "      <td>56.171210</td>\n",
       "      <td>-0.196146</td>\n",
       "      <td>-0.470612</td>\n",
       "      <td>-0.254017</td>\n",
       "      <td>0</td>\n",
       "      <td>2</td>\n",
       "    </tr>\n",
       "    <tr>\n",
       "      <th>1</th>\n",
       "      <td>1</td>\n",
       "      <td>add(X0, shape(X2))</td>\n",
       "      <td>8.016266</td>\n",
       "      <td>0.829296</td>\n",
       "      <td>0.708522</td>\n",
       "      <td>0.819090</td>\n",
       "      <td>1</td>\n",
       "      <td>2</td>\n",
       "    </tr>\n",
       "    <tr>\n",
       "      <th>2</th>\n",
       "      <td>2</td>\n",
       "      <td>div(div(shape(X1), shape(X0)), shape(X2))</td>\n",
       "      <td>43.026199</td>\n",
       "      <td>0.083773</td>\n",
       "      <td>-0.042899</td>\n",
       "      <td>0.027062</td>\n",
       "      <td>3</td>\n",
       "      <td>3</td>\n",
       "    </tr>\n",
       "    <tr>\n",
       "      <th>3</th>\n",
       "      <td>3</td>\n",
       "      <td>shape(add(add(X0, shape(X1)), shape(X2)))</td>\n",
       "      <td>6.029292</td>\n",
       "      <td>0.871608</td>\n",
       "      <td>0.708854</td>\n",
       "      <td>0.884999</td>\n",
       "      <td>3</td>\n",
       "      <td>3</td>\n",
       "    </tr>\n",
       "    <tr>\n",
       "      <th>4</th>\n",
       "      <td>4</td>\n",
       "      <td>div(shape(mul(shape(X1), shape(X2))), shape(X0))</td>\n",
       "      <td>2.317979</td>\n",
       "      <td>0.950639</td>\n",
       "      <td>0.911877</td>\n",
       "      <td>0.959921</td>\n",
       "      <td>4</td>\n",
       "      <td>3</td>\n",
       "    </tr>\n",
       "    <tr>\n",
       "      <th>...</th>\n",
       "      <td>...</td>\n",
       "      <td>...</td>\n",
       "      <td>...</td>\n",
       "      <td>...</td>\n",
       "      <td>...</td>\n",
       "      <td>...</td>\n",
       "      <td>...</td>\n",
       "      <td>...</td>\n",
       "    </tr>\n",
       "    <tr>\n",
       "      <th>483</th>\n",
       "      <td>483</td>\n",
       "      <td>add(X2, shape(add(X1, X0)))</td>\n",
       "      <td>53.213726</td>\n",
       "      <td>-0.133167</td>\n",
       "      <td>-0.556808</td>\n",
       "      <td>-0.205556</td>\n",
       "      <td>1</td>\n",
       "      <td>3</td>\n",
       "    </tr>\n",
       "    <tr>\n",
       "      <th>484</th>\n",
       "      <td>484</td>\n",
       "      <td>div(shape(X2), add(X0, X1))</td>\n",
       "      <td>9.620143</td>\n",
       "      <td>0.795142</td>\n",
       "      <td>0.148714</td>\n",
       "      <td>0.613118</td>\n",
       "      <td>1</td>\n",
       "      <td>3</td>\n",
       "    </tr>\n",
       "    <tr>\n",
       "      <th>485</th>\n",
       "      <td>485</td>\n",
       "      <td>add(shape(X2), add(X1, X0))</td>\n",
       "      <td>3.072365</td>\n",
       "      <td>0.934575</td>\n",
       "      <td>0.538496</td>\n",
       "      <td>0.876133</td>\n",
       "      <td>1</td>\n",
       "      <td>3</td>\n",
       "    </tr>\n",
       "    <tr>\n",
       "      <th>486</th>\n",
       "      <td>486</td>\n",
       "      <td>add(mul(X0, shape(X1)), X2)</td>\n",
       "      <td>59.241882</td>\n",
       "      <td>-0.261535</td>\n",
       "      <td>-0.358356</td>\n",
       "      <td>-0.264831</td>\n",
       "      <td>1</td>\n",
       "      <td>3</td>\n",
       "    </tr>\n",
       "    <tr>\n",
       "      <th>487</th>\n",
       "      <td>487</td>\n",
       "      <td>mul(shape(X2), mul(X1, X0))</td>\n",
       "      <td>0.003032</td>\n",
       "      <td>0.999935</td>\n",
       "      <td>0.999899</td>\n",
       "      <td>0.999948</td>\n",
       "      <td>1</td>\n",
       "      <td>3</td>\n",
       "    </tr>\n",
       "  </tbody>\n",
       "</table>\n",
       "<p>488 rows × 8 columns</p>\n",
       "</div>"
      ],
      "text/plain": [
       "      id                                          equation  raw_fitness  \\\n",
       "0      0                                       add(X0, X1)    56.171210   \n",
       "1      1                                add(X0, shape(X2))     8.016266   \n",
       "2      2         div(div(shape(X1), shape(X0)), shape(X2))    43.026199   \n",
       "3      3         shape(add(add(X0, shape(X1)), shape(X2)))     6.029292   \n",
       "4      4  div(shape(mul(shape(X1), shape(X2))), shape(X0))     2.317979   \n",
       "..   ...                                               ...          ...   \n",
       "483  483                       add(X2, shape(add(X1, X0)))    53.213726   \n",
       "484  484                       div(shape(X2), add(X0, X1))     9.620143   \n",
       "485  485                       add(shape(X2), add(X1, X0))     3.072365   \n",
       "486  486                       add(mul(X0, shape(X1)), X2)    59.241882   \n",
       "487  487                       mul(shape(X2), mul(X1, X0))     0.003032   \n",
       "\n",
       "           r2    r2_val  r2_train  n_shapes  n_variables  \n",
       "0   -0.196146 -0.470612 -0.254017         0            2  \n",
       "1    0.829296  0.708522  0.819090         1            2  \n",
       "2    0.083773 -0.042899  0.027062         3            3  \n",
       "3    0.871608  0.708854  0.884999         3            3  \n",
       "4    0.950639  0.911877  0.959921         4            3  \n",
       "..        ...       ...       ...       ...          ...  \n",
       "483 -0.133167 -0.556808 -0.205556         1            3  \n",
       "484  0.795142  0.148714  0.613118         1            3  \n",
       "485  0.934575  0.538496  0.876133         1            3  \n",
       "486 -0.261535 -0.358356 -0.264831         1            3  \n",
       "487  0.999935  0.999899  0.999948         1            3  \n",
       "\n",
       "[488 rows x 8 columns]"
      ]
     },
     "execution_count": 3,
     "metadata": {},
     "output_type": "execute_result"
    }
   ],
   "source": [
    "res_df"
   ]
  },
  {
   "cell_type": "code",
   "execution_count": 4,
   "metadata": {},
   "outputs": [
    {
     "data": {
      "text/plain": [
       "id                   395\n",
       "equation              X0\n",
       "raw_fitness    43.723259\n",
       "r2              0.068929\n",
       "r2_val           -0.1152\n",
       "r2_train       -0.005554\n",
       "n_shapes               0\n",
       "n_variables            1\n",
       "Name: 395, dtype: object"
      ]
     },
     "execution_count": 4,
     "metadata": {},
     "output_type": "execute_result"
    }
   ],
   "source": [
    "res_df[res_df['n_shapes'] == 0].sort_values(by='r2_train',ascending=False).iloc[0,:]"
   ]
  },
  {
   "cell_type": "code",
   "execution_count": 5,
   "metadata": {},
   "outputs": [
    {
     "data": {
      "text/plain": [
       "id                                     487\n",
       "equation       mul(shape(X2), mul(X1, X0))\n",
       "raw_fitness                       0.003032\n",
       "r2                                0.999935\n",
       "r2_val                            0.999899\n",
       "r2_train                          0.999948\n",
       "n_shapes                                 1\n",
       "n_variables                              3\n",
       "Name: 487, dtype: object"
      ]
     },
     "execution_count": 5,
     "metadata": {},
     "output_type": "execute_result"
    }
   ],
   "source": [
    "res_df[res_df['n_shapes'] == 1].sort_values(by='r2_train',ascending=False).iloc[0,:]"
   ]
  },
  {
   "cell_type": "code",
   "execution_count": 6,
   "metadata": {},
   "outputs": [
    {
     "data": {
      "text/plain": [
       "id                                            350\n",
       "equation       mul(mul(shape(X2), shape(X0)), X1)\n",
       "raw_fitness                              0.007136\n",
       "r2                                       0.999848\n",
       "r2_val                                   0.999752\n",
       "r2_train                                 0.999895\n",
       "n_shapes                                        2\n",
       "n_variables                                     3\n",
       "Name: 350, dtype: object"
      ]
     },
     "execution_count": 6,
     "metadata": {},
     "output_type": "execute_result"
    }
   ],
   "source": [
    "res_df[res_df['n_shapes'] == 2].sort_values(by='r2_train',ascending=False).iloc[0,:]"
   ]
  },
  {
   "cell_type": "code",
   "execution_count": 7,
   "metadata": {},
   "outputs": [
    {
     "data": {
      "text/plain": [
       "id                                                    94\n",
       "equation       div(mul(shape(X2), shape(X1)), shape(X0))\n",
       "raw_fitness                                      0.00828\n",
       "r2                                              0.999824\n",
       "r2_val                                          0.999612\n",
       "r2_train                                        0.999838\n",
       "n_shapes                                               3\n",
       "n_variables                                            3\n",
       "Name: 94, dtype: object"
      ]
     },
     "execution_count": 7,
     "metadata": {},
     "output_type": "execute_result"
    }
   ],
   "source": [
    "res_df[res_df['n_shapes'] == 3].sort_values(by='r2_train',ascending=False).iloc[0,:]"
   ]
  },
  {
   "cell_type": "code",
   "execution_count": 8,
   "metadata": {},
   "outputs": [
    {
     "data": {
      "text/plain": [
       "id                                                          215\n",
       "equation       shape(mul(mul(shape(X2), shape(X0)), shape(X1)))\n",
       "raw_fitness                                            0.009031\n",
       "r2                                                     0.999808\n",
       "r2_val                                                 0.999403\n",
       "r2_train                                               0.999842\n",
       "n_shapes                                                      4\n",
       "n_variables                                                   3\n",
       "Name: 215, dtype: object"
      ]
     },
     "execution_count": 8,
     "metadata": {},
     "output_type": "execute_result"
    }
   ],
   "source": [
    "res_df[res_df['n_shapes'] == 4].sort_values(by='r2_train',ascending=False).iloc[0,:]"
   ]
  },
  {
   "cell_type": "code",
   "execution_count": 9,
   "metadata": {},
   "outputs": [],
   "source": [
    "def _protected_inverse(x1):\n",
    "    \"\"\"Closure of inverse for zero arguments.\"\"\"\n",
    "    with np.errstate(divide='ignore', invalid='ignore'):\n",
    "        return np.where(np.abs(x1) > 0.001, 1. / x1, 0.)\n",
    "    \n",
    "def evaluate_shape(shape,t,invert=False, scale=1.0):\n",
    "    shape.to(torch.device('cpu'))\n",
    "    t = torch.from_numpy(t).float()\n",
    "    shape.eval()\n",
    "    with torch.no_grad():\n",
    "        if invert:\n",
    "            return scale * _protected_inverse(shape(t).numpy().flatten())\n",
    "        else:\n",
    "            return scale * shape(t).numpy().flatten()"
   ]
  },
  {
   "cell_type": "code",
   "execution_count": 10,
   "metadata": {},
   "outputs": [],
   "source": [
    "colors = ['#377eb8', '#ff7f00', '#4daf4a',\n",
    "          '#f781bf', '#a65628', '#984ea3',\n",
    "          '#999999', '#e41a1c', '#dede00']\n",
    "linewidth = 3.0\n",
    "alpha = 0.5\n",
    "markersize = 5.0\n",
    "label_fontsize = 18"
   ]
  },
  {
   "cell_type": "code",
   "execution_count": 11,
   "metadata": {},
   "outputs": [],
   "source": [
    "def extract_slope_intercept(shape,x_low, x_high, invert=False, scale=1.0):\n",
    "    x = np.linspace(x_low,x_high,100)\n",
    "    ys = evaluate_shape(shape,x,invert=invert,scale=scale)\n",
    "    slope, intercept = np.polyfit(x,ys,1)\n",
    "    # slope = (ys[1]-ys[0])/(args[1]-args[0])\n",
    "    # intercept = ys[0] - slope * args[0]\n",
    "    return slope, intercept"
   ]
  },
  {
   "cell_type": "code",
   "execution_count": 12,
   "metadata": {},
   "outputs": [],
   "source": [
    "def plot_1(ax):\n",
    "    sorted_filtered = res_df[res_df['n_shapes'] == 1].sort_values(by='r2_train',ascending=False)\n",
    "    eq = sorted_filtered.iloc[0,1]\n",
    "    id = sorted_filtered.iloc[0,0]\n",
    "    esr_best_1 = load_share_from_checkpoint(timestamp, eq, checkpoint_dir='../results/checkpoints', task='regression',n_features=3, equation_id=id)\n",
    "\n",
    "    s3 = esr_best_1._program.model.shape_functions[0]\n",
    "\n",
    "    t = np.linspace(0,5,1000)\n",
    "    ax.plot(t,np.sin(t),'-', c=colors[0], markersize=markersize,linewidth=linewidth, alpha=alpha, label=r'$\\sin$')\n",
    "    ax.plot(t,evaluate_shape(s3,t),c=colors[1],linewidth=linewidth, alpha=alpha, label=r\"$s_3$\")\n",
    "    ax.set_xlabel(r'$\\theta$', fontsize=label_fontsize)\n",
    "    ax.set_ylabel(\"Value\", fontsize=label_fontsize)\n",
    "    # plt.xscale('log')\n",
    "    ax.legend(fontsize=label_fontsize)\n",
    "    ax.tick_params(axis='both', which='major', labelsize=15)\n"
   ]
  },
  {
   "cell_type": "code",
   "execution_count": 13,
   "metadata": {},
   "outputs": [],
   "source": [
    "def plot_2(ax):\n",
    "    sorted_filtered = res_df[res_df['n_shapes'] == 3].sort_values(by='r2_train',ascending=False)\n",
    "    eq = sorted_filtered.iloc[0,1]\n",
    "    id = sorted_filtered.iloc[0,0]\n",
    "    esr_best_3 = load_share_from_checkpoint(timestamp, eq, checkpoint_dir='../results/checkpoints', task='regression',n_features=3, equation_id=id)\n",
    "    print(esr_best_3)\n",
    "    s1 = esr_best_3._program.model.shape_functions[2]\n",
    "    s2 = esr_best_3._program.model.shape_functions[1]\n",
    "    s3 = esr_best_3._program.model.shape_functions[0]\n",
    "\n",
    "\n",
    "\n",
    "    t = np.linspace(0,5,1000)\n",
    "\n",
    "    a_org, b_org = extract_slope_intercept(s2,2,5)\n",
    "\n",
    "\n",
    "    max_s3 = np.max(evaluate_shape(s3,t))\n",
    "    min_s3 = np.min(evaluate_shape(s3,t))\n",
    "\n",
    "    amplitude_s3 = (max_s3 - min_s3) / 2\n",
    "\n",
    "\n",
    "    # plt.plot(t,np.sin(t),'-', c=colors[0], markersize=markersize,linewidth=linewidth, alpha=alpha, label=r'$\\sin$')\n",
    "    ax.plot(t,evaluate_shape(s1,t,invert=True,scale=amplitude_s3*a_org),c=colors[2],linewidth=linewidth, alpha=alpha, label=r\"$s_1$\")\n",
    "    ax.plot(t,evaluate_shape(s2,t, scale=1/a_org),c=colors[3],linewidth=linewidth, alpha=alpha, label=r\"$s_2$\")\n",
    "    ax.plot(t,evaluate_shape(s3,t, scale=1/amplitude_s3),c=colors[1],linewidth=linewidth, alpha=alpha, label=r\"$s_3$\")\n",
    "    ax.set_xlabel(r'$r$ / $F$ / $\\theta$', fontsize=label_fontsize)\n",
    "    ax.set_ylabel(\"Value\", fontsize=label_fontsize)\n",
    "    # plt.xscale('log')\n",
    "    ax.legend(fontsize=label_fontsize)\n",
    "    ax.tick_params(axis='both', which='major', labelsize=15)\n",
    "\n",
    "    a1, b1 = extract_slope_intercept(s1,2,5,invert=True,scale=amplitude_s3*a_org)\n",
    "    a2, b2 = extract_slope_intercept(s2,2,5,scale=1/a_org)\n",
    "    print(a1,b1,a2,b2)"
   ]
  },
  {
   "cell_type": "code",
   "execution_count": null,
   "metadata": {},
   "outputs": [],
   "source": []
  },
  {
   "cell_type": "code",
   "execution_count": 14,
   "metadata": {},
   "outputs": [
    {
     "name": "stdout",
     "output_type": "stream",
     "text": [
      "mul(shape(X2), mul(X1, X0))\n",
      "div(mul(shape(X2), shape(X1)), shape(X0))\n",
      "div(mul(shape(X2), shape(X1)), shape(X0))\n",
      "-0.983170118379121 -0.07251801235841135 1.0000000402714948 0.016562161162349653\n"
     ]
    },
    {
     "data": {
      "image/png": "[encoded data removed]",
      "text/plain": [
       "<Figure size 1000x400 with 2 Axes>"
      ]
     },
     "metadata": {},
     "output_type": "display_data"
    }
   ],
   "source": [
    "title_fontsize = 22\n",
    "fig, (ax1, ax2) = plt.subplots(1,2, figsize=(10,4))\n",
    "plot_1(ax1)\n",
    "plot_2(ax2)\n",
    "ax1.title.set_text(r\"$\\tau = r F s_3(\\theta)$\")\n",
    "ax2.title.set_text(r\"$\\tau = s_1(r) s_2(F) s_3(\\theta) $\")\n",
    "ax1.title.set_fontsize(title_fontsize)\n",
    "ax2.title.set_fontsize(title_fontsize)\n",
    "plt.subplots_adjust(left=0.10, bottom=0.15, right=0.98, top=0.9, wspace=0.3, hspace=None)\n",
    "\n",
    "plt.savefig('figures/Figure_5.pdf')"
   ]
  },
  {
   "cell_type": "code",
   "execution_count": null,
   "metadata": {},
   "outputs": [],
   "source": []
  }
 ],
 "metadata": {
  "kernelspec": {
   "display_name": "share",
   "language": "python",
   "name": "python3"
  },
  "language_info": {
   "codemirror_mode": {
    "name": "ipython",
    "version": 3
   },
   "file_extension": ".py",
   "mimetype": "text/x-python",
   "name": "python",
   "nbconvert_exporter": "python",
   "pygments_lexer": "ipython3",
   "version": "3.9.16"
  }
 },
 "nbformat": 4,
 "nbformat_minor": 2
}
