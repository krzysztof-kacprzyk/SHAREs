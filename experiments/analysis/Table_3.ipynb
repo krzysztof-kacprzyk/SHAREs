{
 "cells": [
  {
   "cell_type": "code",
   "execution_count": 1,
   "metadata": {},
   "outputs": [],
   "source": [
    "import sys\n",
    "sys.path.append('../../')\n",
    "\n",
    "import numpy as np\n",
    "from experiments.load_data import load_data\n",
    "from sklearn.model_selection import train_test_split\n",
    "from sklearn.metrics import r2_score\n",
    "import pandas as pd\n",
    "import pysr\n",
    "from experiments.temperature import generate_data"
   ]
  },
  {
   "cell_type": "code",
   "execution_count": 2,
   "metadata": {},
   "outputs": [
    {
     "name": "stdout",
     "output_type": "stream",
     "text": [
      "Checking if ../results/Table_3_results.pkl exists...\n",
      "Loading model from ../results/Table_3_results.pkl\n"
     ]
    }
   ],
   "source": [
    "# Generate data\n",
    "df = generate_data(1000, (1,800), (1.0,4.0), (-100,0), seed=0, noise=0.0)\n",
    "\n",
    "feature_columns = ['energy','mass','initial_temp']\n",
    "target_column = 'temperature'\n",
    "\n",
    "X = df[feature_columns].values\n",
    "y = df[target_column].values\n",
    "\n",
    "df_test = generate_data(1000, (1,800), (1.0,4.0), (-100,0), seed=1, noise=0.0)\n",
    "X_test = df_test[feature_columns].values\n",
    "y_test = df_test[target_column].values\n",
    "\n",
    "# Read the model from a file\n",
    "model = pysr.PySRRegressor.from_file(\"../results/Table_3_results.pkl\")"
   ]
  },
  {
   "cell_type": "code",
   "execution_count": 9,
   "metadata": {},
   "outputs": [],
   "source": [
    "equation_ids = [2,3,5,10,14,19,24]\n",
    "res = []\n",
    "for i in equation_ids:\n",
    "    res.append(r2_score(y_test,model.predict(X_test,i)))"
   ]
  },
  {
   "cell_type": "code",
   "execution_count": 10,
   "metadata": {},
   "outputs": [],
   "source": [
    "df = model.equations_.loc[equation_ids,['complexity']]"
   ]
  },
  {
   "cell_type": "code",
   "execution_count": 11,
   "metadata": {},
   "outputs": [],
   "source": [
    "latex_equations = [model.latex(id) for id in equation_ids]"
   ]
  },
  {
   "cell_type": "code",
   "execution_count": 12,
   "metadata": {},
   "outputs": [],
   "source": [
    "df['equation'] = latex_equations\n",
    "df['r2'] = res"
   ]
  },
  {
   "cell_type": "code",
   "execution_count": 13,
   "metadata": {},
   "outputs": [],
   "source": [
    "df = df[['equation','complexity','r2']]"
   ]
  },
  {
   "cell_type": "code",
   "execution_count": 19,
   "metadata": {},
   "outputs": [
    {
     "name": "stdout",
     "output_type": "stream",
     "text": [
      "\\begin{tabular}{lrr}\n",
      "\\toprule\n",
      "                                                                                                                                                                                                                                           equation &  complexity &    r2 \\\\\n",
      "\\midrule\n",
      "                                                                                                                                                                                                                     13.5 \\log{\\left(x_{0} \\right)} &           4 & 0.384 \\\\\n",
      "                                                                                                                                                                                                                          \\frac{0.193 x_{0}}{x_{1}} &           5 & 0.485 \\\\\n",
      "                                                                                                                                                                                                39.4 \\log{\\left(\\frac{x_{0}}{x_{1}} \\right)} - 141. &           8 & 0.733 \\\\\n",
      "                                                                                                                                         74.0 \\cos{\\left(\\log{\\left(\\frac{0.739 x_{0}}{x_{1}} + 19.1 \\right)} \\right)} + 39.1 + \\frac{x_{2}}{x_{0}} &          17 & 0.768 \\\\\n",
      "                                                                            \\frac{x_{2}}{\\log{\\left(x_{0} \\right)}} + 65.0 \\cos{\\left(\\log{\\left(\\frac{x_{0}}{x_{1}} + 41.5 \\cos{\\left(\\frac{0.0275 x_{0}}{x_{1}} \\right)} \\right)} \\right)} + 50.9 &          23 & 0.817 \\\\\n",
      "                                                - 1.63 e^{e^{\\cos{\\left(\\frac{0.0101 x_{0}}{x_{1}} \\right)}}} + 58.6 \\cos{\\left(\\log{\\left(\\frac{0.653 x_{0}}{x_{1}} + 27.1 \\cos{\\left(\\frac{0.0261 x_{0}}{x_{1}} \\right)} \\right)} \\right)} + 67.6 &          33 & 0.841 \\\\\n",
      "\\frac{x_{2}}{\\log{\\left(x_{0} \\right)}} - 1.72 e^{e^{\\cos{\\left(\\frac{0.0103 x_{0}}{x_{1}} \\right)}}} + 56.3 \\cos{\\left(\\log{\\left(\\frac{0.582 x_{0}}{x_{1}} + 31.7 \\cos{\\left(\\frac{0.0214 x_{0}}{x_{1}} + 0.925 \\right)} \\right)} \\right)} + 80.1 &          40 & 0.867 \\\\\n",
      "\\bottomrule\n",
      "\\end{tabular}\n",
      "\n"
     ]
    },
    {
     "name": "stderr",
     "output_type": "stream",
     "text": [
      "C:\\Users\\krkac\\AppData\\Local\\Temp\\ipykernel_63320\\1279090205.py:3: FutureWarning: In future versions `DataFrame.to_latex` is expected to utilise the base implementation of `Styler.to_latex` for formatting and rendering. The arguments signature may therefore change. It is recommended instead to use `DataFrame.style.to_latex` which also contains additional functionality.\n",
      "  print(df.to_latex(escape=False, index=False, float_format=\"%.3f\"))\n"
     ]
    }
   ],
   "source": [
    "# Print latex booktabs table without escaping the equations with precision 3\n",
    "with pd.option_context(\"max_colwidth\", 1000):\n",
    "    print(df.to_latex(escape=False, index=False, float_format=\"%.3f\"))"
   ]
  },
  {
   "cell_type": "code",
   "execution_count": 20,
   "metadata": {},
   "outputs": [
    {
     "name": "stderr",
     "output_type": "stream",
     "text": [
      "C:\\Users\\krkac\\AppData\\Local\\Temp\\ipykernel_63320\\3682725400.py:4: FutureWarning: In future versions `DataFrame.to_latex` is expected to utilise the base implementation of `Styler.to_latex` for formatting and rendering. The arguments signature may therefore change. It is recommended instead to use `DataFrame.style.to_latex` which also contains additional functionality.\n",
      "  f.write(df.to_latex(escape=False, index=False, float_format=\"%.3f\"))\n"
     ]
    }
   ],
   "source": [
    "# Save the table to a file\n",
    "with open(f'tables/Table_3.tex','w') as f:\n",
    "    with pd.option_context(\"max_colwidth\", 1000):\n",
    "        f.write(df.to_latex(escape=False, index=False, float_format=\"%.3f\"))"
   ]
  },
  {
   "cell_type": "code",
   "execution_count": null,
   "metadata": {},
   "outputs": [],
   "source": []
  }
 ],
 "metadata": {
  "kernelspec": {
   "display_name": "share",
   "language": "python",
   "name": "python3"
  },
  "language_info": {
   "codemirror_mode": {
    "name": "ipython",
    "version": 3
   },
   "file_extension": ".py",
   "mimetype": "text/x-python",
   "name": "python",
   "nbconvert_exporter": "python",
   "pygments_lexer": "ipython3",
   "version": "3.9.16"
  }
 },
 "nbformat": 4,
 "nbformat_minor": 2
}
