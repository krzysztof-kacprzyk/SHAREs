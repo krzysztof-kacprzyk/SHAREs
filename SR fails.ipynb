{
 "cells": [
  {
   "cell_type": "code",
   "execution_count": 7,
   "id": "9beb9dfa",
   "metadata": {},
   "outputs": [],
   "source": [
    "import numpy as np\n",
    "import matplotlib.pyplot as plt\n",
    "from gplearn.gplearn.genetic import SymbolicRegressor\n",
    "from load_data import load_data, load_stress_strain\n",
    "from benchmarks import run_experiment, categorical_variables_per_dataset, create_categorical_variable_dict\n",
    "from interpret.glassbox import ExplainableBoostingClassifier, ExplainableBoostingRegressor\n",
    "from sklearn.linear_model import LinearRegression\n",
    "from sklearn.preprocessing import StandardScaler\n",
    "from sklearn.model_selection import train_test_split\n",
    "from sklearn.metrics import r2_score\n",
    "from collections import defaultdict\n",
    "import pandas as pd\n",
    "# from xgboost import XGBClassifier, XGBRegressor\n",
    "import time\n",
    "import pysr"
   ]
  },
  {
   "cell_type": "code",
   "execution_count": 2,
   "id": "ee1d78d8",
   "metadata": {},
   "outputs": [],
   "source": [
    "global_seed = 42\n",
    "def get_model(model,task,length=None):\n",
    "    if model == 'xgb':\n",
    "        if task == 'regression':\n",
    "            return XGBRegressor()\n",
    "        elif task == 'classification':\n",
    "            return XGBClassifier()\n",
    "    elif model == 'pysr':\n",
    "        if task == 'regression':\n",
    "            parameter_dict = {\n",
    "                'binary_operators':[\"+\", \"*\", \"/\", \"-\"],\n",
    "                'unary_operators':[\n",
    "                    \"log\",\n",
    "                    \"exp\",\n",
    "                    \"cos\",\n",
    "                ],\n",
    "                'loss':\"L2DistLoss()\",\n",
    "                'maxsize':length,\n",
    "                'procs':0,\n",
    "                'multithreading':False,\n",
    "                'populations':15,\n",
    "                'niterations':400,\n",
    "                'population_size':33,\n",
    "                'model_selection':'accuracy',\n",
    "                'random_state':global_seed,\n",
    "                'deterministic':True\n",
    "            }\n",
    "            return pysr.PySRRegressor(**parameter_dict)\n",
    "        elif task == 'classification':\n",
    "            raise ValueError()"
   ]
  },
  {
   "cell_type": "code",
   "execution_count": 3,
   "id": "f0996444",
   "metadata": {},
   "outputs": [
    {
     "name": "stderr",
     "output_type": "stream",
     "text": [
      "C:\\Users\\krkac\\Miniconda3\\envs\\share\\lib\\site-packages\\pysr\\sr.py:1257: UserWarning: Note: it looks like you are running in Jupyter. The progress bar will be turned off.\n",
      "  warnings.warn(\n",
      "C:\\Users\\krkac\\Miniconda3\\envs\\share\\lib\\site-packages\\pysr\\julia_helpers.py:139: UserWarning: `torch` was loaded before the Julia instance started. This may cause a segfault when running `PySRRegressor.fit`. To avoid this, please run `pysr.julia_helpers.init_julia()` *before* importing `torch`. For updates, see https://github.com/pytorch/pytorch/issues/78829\n",
      "  warnings.warn(\n"
     ]
    },
    {
     "data": {
      "text/html": [
       "<style>#sk-container-id-1 {color: black;background-color: white;}#sk-container-id-1 pre{padding: 0;}#sk-container-id-1 div.sk-toggleable {background-color: white;}#sk-container-id-1 label.sk-toggleable__label {cursor: pointer;display: block;width: 100%;margin-bottom: 0;padding: 0.3em;box-sizing: border-box;text-align: center;}#sk-container-id-1 label.sk-toggleable__label-arrow:before {content: \"▸\";float: left;margin-right: 0.25em;color: #696969;}#sk-container-id-1 label.sk-toggleable__label-arrow:hover:before {color: black;}#sk-container-id-1 div.sk-estimator:hover label.sk-toggleable__label-arrow:before {color: black;}#sk-container-id-1 div.sk-toggleable__content {max-height: 0;max-width: 0;overflow: hidden;text-align: left;background-color: #f0f8ff;}#sk-container-id-1 div.sk-toggleable__content pre {margin: 0.2em;color: black;border-radius: 0.25em;background-color: #f0f8ff;}#sk-container-id-1 input.sk-toggleable__control:checked~div.sk-toggleable__content {max-height: 200px;max-width: 100%;overflow: auto;}#sk-container-id-1 input.sk-toggleable__control:checked~label.sk-toggleable__label-arrow:before {content: \"▾\";}#sk-container-id-1 div.sk-estimator input.sk-toggleable__control:checked~label.sk-toggleable__label {background-color: #d4ebff;}#sk-container-id-1 div.sk-label input.sk-toggleable__control:checked~label.sk-toggleable__label {background-color: #d4ebff;}#sk-container-id-1 input.sk-hidden--visually {border: 0;clip: rect(1px 1px 1px 1px);clip: rect(1px, 1px, 1px, 1px);height: 1px;margin: -1px;overflow: hidden;padding: 0;position: absolute;width: 1px;}#sk-container-id-1 div.sk-estimator {font-family: monospace;background-color: #f0f8ff;border: 1px dotted black;border-radius: 0.25em;box-sizing: border-box;margin-bottom: 0.5em;}#sk-container-id-1 div.sk-estimator:hover {background-color: #d4ebff;}#sk-container-id-1 div.sk-parallel-item::after {content: \"\";width: 100%;border-bottom: 1px solid gray;flex-grow: 1;}#sk-container-id-1 div.sk-label:hover label.sk-toggleable__label {background-color: #d4ebff;}#sk-container-id-1 div.sk-serial::before {content: \"\";position: absolute;border-left: 1px solid gray;box-sizing: border-box;top: 0;bottom: 0;left: 50%;z-index: 0;}#sk-container-id-1 div.sk-serial {display: flex;flex-direction: column;align-items: center;background-color: white;padding-right: 0.2em;padding-left: 0.2em;position: relative;}#sk-container-id-1 div.sk-item {position: relative;z-index: 1;}#sk-container-id-1 div.sk-parallel {display: flex;align-items: stretch;justify-content: center;background-color: white;position: relative;}#sk-container-id-1 div.sk-item::before, #sk-container-id-1 div.sk-parallel-item::before {content: \"\";position: absolute;border-left: 1px solid gray;box-sizing: border-box;top: 0;bottom: 0;left: 50%;z-index: -1;}#sk-container-id-1 div.sk-parallel-item {display: flex;flex-direction: column;z-index: 1;position: relative;background-color: white;}#sk-container-id-1 div.sk-parallel-item:first-child::after {align-self: flex-end;width: 50%;}#sk-container-id-1 div.sk-parallel-item:last-child::after {align-self: flex-start;width: 50%;}#sk-container-id-1 div.sk-parallel-item:only-child::after {width: 0;}#sk-container-id-1 div.sk-dashed-wrapped {border: 1px dashed gray;margin: 0 0.4em 0.5em 0.4em;box-sizing: border-box;padding-bottom: 0.4em;background-color: white;}#sk-container-id-1 div.sk-label label {font-family: monospace;font-weight: bold;display: inline-block;line-height: 1.2em;}#sk-container-id-1 div.sk-label-container {text-align: center;}#sk-container-id-1 div.sk-container {/* jupyter's `normalize.less` sets `[hidden] { display: none; }` but bootstrap.min.css set `[hidden] { display: none !important; }` so we also need the `!important` here to be able to override the default hidden behavior on the sphinx rendered scikit-learn.org. See: https://github.com/scikit-learn/scikit-learn/issues/21755 */display: inline-block !important;position: relative;}#sk-container-id-1 div.sk-text-repr-fallback {display: none;}</style><div id=\"sk-container-id-1\" class=\"sk-top-container\"><div class=\"sk-text-repr-fallback\"><pre>PySRRegressor.equations_ = [\n",
       "\t    pick     score                                           equation  \\\n",
       "\t0         0.000000                                          58.354744   \n",
       "\t1         0.001521                               (58.426434 - Strain)   \n",
       "\t2         0.166513                           (63.26248 / exp(Strain))   \n",
       "\t3         0.399641                ((Strain * -285.22687) - -78.79336)   \n",
       "\t4         0.317204              (cos(Strain * 7.7813773) * 74.902084)   \n",
       "\t5         0.099284   (cos(Strain / (Strain + -0.2774532)) * 71.15296)   \n",
       "\t6         0.008795  ((cos(exp(Strain) * 6.0501447) + -0.53034693) ...   \n",
       "\t7         0.131199  ((cos((0.050053578 - Strain) * -8.578677) + -0...   \n",
       "\t8         0.725110  (((cos(log(Strain) * -0.07111955) + -0.7564094...   \n",
       "\t9         0.312107  ((cos((log(Strain) - (Strain * 44.28688)) * 0....   \n",
       "\t10        0.003008  ((cos((log(Strain / 0.85937274) - (Strain * 44...   \n",
       "\t11        0.879954  ((cos((7.2326336 - cos(exp(Strain * -420.9701)...   \n",
       "\t12        0.004833  ((cos((7.2326336 - cos(exp((Strain * -420.9701...   \n",
       "\t13        0.015387  (((cos((7.232092 - cos(exp(Strain * -345.91092...   \n",
       "\t14        0.079801  (((cos((7.162485 - cos(exp((Strain * -345.9124...   \n",
       "\t15        0.001180  ((((cos((7.162485 - cos(exp((Strain * -345.912...   \n",
       "\t16        0.000317  ((((cos((7.162485 - cos(exp((Strain * -345.912...   \n",
       "\t17  &gt;&gt;&gt;&gt;  0.168320  (exp(exp(1.4557954 - (Strain * 1.3054712))) * ...   \n",
       "\t\n",
       "\t          loss  complexity  \n",
       "\t0   524.200740           1  \n",
       "\t1   522.608200           3  \n",
       "\t2   442.446380           4  \n",
       "\t3   296.687070           5  \n",
       "\t4   216.042200           6  \n",
       "\t5   177.133850           8  \n",
       "\t6   175.582810           9  \n",
       "\t7   153.993700          10  \n",
       "\t8    74.574750          11  \n",
       "\t9    39.948406          13  \n",
       "\t10   39.708790          15  \n",
       "\t11   16.471285          16  \n",
       "\t12   16.312834          18  \n",
       "\t13   15.818466          20  \n",
       "\t14   14.605186          21  \n",
       "\t15   14.570756          23  \n",
       "\t16   14.561521          25  \n",
       "\t17   12.305705          26  \n",
       "]</pre><b>In a Jupyter environment, please rerun this cell to show the HTML representation or trust the notebook. <br />On GitHub, the HTML representation is unable to render, please try loading this page with nbviewer.org.</b></div><div class=\"sk-container\" hidden><div class=\"sk-item\"><div class=\"sk-estimator sk-toggleable\"><input class=\"sk-toggleable__control sk-hidden--visually\" id=\"sk-estimator-id-1\" type=\"checkbox\" checked><label for=\"sk-estimator-id-1\" class=\"sk-toggleable__label sk-toggleable__label-arrow\">PySRRegressor</label><div class=\"sk-toggleable__content\"><pre>PySRRegressor.equations_ = [\n",
       "\t    pick     score                                           equation  \\\n",
       "\t0         0.000000                                          58.354744   \n",
       "\t1         0.001521                               (58.426434 - Strain)   \n",
       "\t2         0.166513                           (63.26248 / exp(Strain))   \n",
       "\t3         0.399641                ((Strain * -285.22687) - -78.79336)   \n",
       "\t4         0.317204              (cos(Strain * 7.7813773) * 74.902084)   \n",
       "\t5         0.099284   (cos(Strain / (Strain + -0.2774532)) * 71.15296)   \n",
       "\t6         0.008795  ((cos(exp(Strain) * 6.0501447) + -0.53034693) ...   \n",
       "\t7         0.131199  ((cos((0.050053578 - Strain) * -8.578677) + -0...   \n",
       "\t8         0.725110  (((cos(log(Strain) * -0.07111955) + -0.7564094...   \n",
       "\t9         0.312107  ((cos((log(Strain) - (Strain * 44.28688)) * 0....   \n",
       "\t10        0.003008  ((cos((log(Strain / 0.85937274) - (Strain * 44...   \n",
       "\t11        0.879954  ((cos((7.2326336 - cos(exp(Strain * -420.9701)...   \n",
       "\t12        0.004833  ((cos((7.2326336 - cos(exp((Strain * -420.9701...   \n",
       "\t13        0.015387  (((cos((7.232092 - cos(exp(Strain * -345.91092...   \n",
       "\t14        0.079801  (((cos((7.162485 - cos(exp((Strain * -345.9124...   \n",
       "\t15        0.001180  ((((cos((7.162485 - cos(exp((Strain * -345.912...   \n",
       "\t16        0.000317  ((((cos((7.162485 - cos(exp((Strain * -345.912...   \n",
       "\t17  &gt;&gt;&gt;&gt;  0.168320  (exp(exp(1.4557954 - (Strain * 1.3054712))) * ...   \n",
       "\t\n",
       "\t          loss  complexity  \n",
       "\t0   524.200740           1  \n",
       "\t1   522.608200           3  \n",
       "\t2   442.446380           4  \n",
       "\t3   296.687070           5  \n",
       "\t4   216.042200           6  \n",
       "\t5   177.133850           8  \n",
       "\t6   175.582810           9  \n",
       "\t7   153.993700          10  \n",
       "\t8    74.574750          11  \n",
       "\t9    39.948406          13  \n",
       "\t10   39.708790          15  \n",
       "\t11   16.471285          16  \n",
       "\t12   16.312834          18  \n",
       "\t13   15.818466          20  \n",
       "\t14   14.605186          21  \n",
       "\t15   14.570756          23  \n",
       "\t16   14.561521          25  \n",
       "\t17   12.305705          26  \n",
       "]</pre></div></div></div></div></div>"
      ],
      "text/plain": [
       "PySRRegressor.equations_ = [\n",
       "\t    pick     score                                           equation  \\\n",
       "\t0         0.000000                                          58.354744   \n",
       "\t1         0.001521                               (58.426434 - Strain)   \n",
       "\t2         0.166513                           (63.26248 / exp(Strain))   \n",
       "\t3         0.399641                ((Strain * -285.22687) - -78.79336)   \n",
       "\t4         0.317204              (cos(Strain * 7.7813773) * 74.902084)   \n",
       "\t5         0.099284   (cos(Strain / (Strain + -0.2774532)) * 71.15296)   \n",
       "\t6         0.008795  ((cos(exp(Strain) * 6.0501447) + -0.53034693) ...   \n",
       "\t7         0.131199  ((cos((0.050053578 - Strain) * -8.578677) + -0...   \n",
       "\t8         0.725110  (((cos(log(Strain) * -0.07111955) + -0.7564094...   \n",
       "\t9         0.312107  ((cos((log(Strain) - (Strain * 44.28688)) * 0....   \n",
       "\t10        0.003008  ((cos((log(Strain / 0.85937274) - (Strain * 44...   \n",
       "\t11        0.879954  ((cos((7.2326336 - cos(exp(Strain * -420.9701)...   \n",
       "\t12        0.004833  ((cos((7.2326336 - cos(exp((Strain * -420.9701...   \n",
       "\t13        0.015387  (((cos((7.232092 - cos(exp(Strain * -345.91092...   \n",
       "\t14        0.079801  (((cos((7.162485 - cos(exp((Strain * -345.9124...   \n",
       "\t15        0.001180  ((((cos((7.162485 - cos(exp((Strain * -345.912...   \n",
       "\t16        0.000317  ((((cos((7.162485 - cos(exp((Strain * -345.912...   \n",
       "\t17  >>>>  0.168320  (exp(exp(1.4557954 - (Strain * 1.3054712))) * ...   \n",
       "\t\n",
       "\t          loss  complexity  \n",
       "\t0   524.200740           1  \n",
       "\t1   522.608200           3  \n",
       "\t2   442.446380           4  \n",
       "\t3   296.687070           5  \n",
       "\t4   216.042200           6  \n",
       "\t5   177.133850           8  \n",
       "\t6   175.582810           9  \n",
       "\t7   153.993700          10  \n",
       "\t8    74.574750          11  \n",
       "\t9    39.948406          13  \n",
       "\t10   39.708790          15  \n",
       "\t11   16.471285          16  \n",
       "\t12   16.312834          18  \n",
       "\t13   15.818466          20  \n",
       "\t14   14.605186          21  \n",
       "\t15   14.570756          23  \n",
       "\t16   14.561521          25  \n",
       "\t17   12.305705          26  \n",
       "]"
      ]
     },
     "execution_count": 3,
     "metadata": {},
     "output_type": "execute_result"
    }
   ],
   "source": [
    "task = 'regression'\n",
    "\n",
    "dataset_name = 'stress_strain'\n",
    "\n",
    "df = load_data('stress_strain')\n",
    "\n",
    "X = df[['Strain']]\n",
    "y = df['target']\n",
    "\n",
    "X_train, X_test, y_train, y_test = train_test_split(X, y, test_size=0.2, random_state=42)\n",
    "\n",
    "# X_min = X_org.min()\n",
    "# X_max = X_org.max()\n",
    "\n",
    "# X = sc_X.fit_transform(X_org)\n",
    "# y = sc_y.fit_transform(y_org).reshape(-1)\n",
    "\n",
    "# lengths = [5,10,20,40]\n",
    "# lengths = [10,15,20,25]\n",
    "# models = {}\n",
    "\n",
    "length = 25\n",
    "\n",
    "model = get_model('pysr',task,length)\n",
    "model.fit(X_train,y_train)"
   ]
  },
  {
   "cell_type": "code",
   "execution_count": 9,
   "id": "204a0f70",
   "metadata": {},
   "outputs": [],
   "source": [
    "n_equations = 18\n",
    "res = []\n",
    "for i in range(n_equations):\n",
    "    res.append(r2_score(y_test,model.predict(X_test,i)))"
   ]
  },
  {
   "cell_type": "code",
   "execution_count": 30,
   "id": "342212b6",
   "metadata": {},
   "outputs": [
    {
     "data": {
      "text/plain": [
       "0.9698554256786489"
      ]
     },
     "execution_count": 30,
     "metadata": {},
     "output_type": "execute_result"
    }
   ],
   "source": [
    "res[12]"
   ]
  },
  {
   "cell_type": "code",
   "execution_count": 35,
   "id": "034f691e",
   "metadata": {},
   "outputs": [
    {
     "name": "stdout",
     "output_type": "stream",
     "text": [
      "74.9 \\cos{\\left(7.78 Strain \\right)}\n"
     ]
    }
   ],
   "source": [
    "print(model.latex(4))"
   ]
  },
  {
   "cell_type": "code",
   "execution_count": 3,
   "id": "2fcdcfee",
   "metadata": {},
   "outputs": [
    {
     "name": "stderr",
     "output_type": "stream",
     "text": [
      "C:\\Users\\krkac\\Miniconda3\\envs\\esr\\lib\\site-packages\\pysr\\sr.py:1257: UserWarning: Note: it looks like you are running in Jupyter. The progress bar will be turned off.\n",
      "  warnings.warn(\n",
      "C:\\Users\\krkac\\Miniconda3\\envs\\esr\\lib\\site-packages\\pysr\\julia_helpers.py:139: UserWarning: `torch` was loaded before the Julia instance started. This may cause a segfault when running `PySRRegressor.fit`. To avoid this, please run `pysr.julia_helpers.init_julia()` *before* importing `torch`. For updates, see https://github.com/pytorch/pytorch/issues/78829\n",
      "  warnings.warn(\n",
      "C:\\Users\\krkac\\Miniconda3\\envs\\esr\\lib\\site-packages\\pysr\\sr.py:1257: UserWarning: Note: it looks like you are running in Jupyter. The progress bar will be turned off.\n",
      "  warnings.warn(\n",
      "C:\\Users\\krkac\\Miniconda3\\envs\\esr\\lib\\site-packages\\pysr\\sr.py:1257: UserWarning: Note: it looks like you are running in Jupyter. The progress bar will be turned off.\n",
      "  warnings.warn(\n",
      "C:\\Users\\krkac\\Miniconda3\\envs\\esr\\lib\\site-packages\\pysr\\sr.py:1257: UserWarning: Note: it looks like you are running in Jupyter. The progress bar will be turned off.\n",
      "  warnings.warn(\n"
     ]
    }
   ],
   "source": [
    "task = 'regression'\n",
    "\n",
    "dataset_name = 'stress_strain'\n",
    "\n",
    "sc_X = StandardScaler()\n",
    "sc_y = StandardScaler()\n",
    "\n",
    "df = load_data('stress_strain')\n",
    "\n",
    "X_org = df[['Strain']]\n",
    "y_org = df[['target']]\n",
    "\n",
    "X_min = X_org.min()\n",
    "X_max = X_org.max()\n",
    "\n",
    "X = sc_X.fit_transform(X_org)\n",
    "y = sc_y.fit_transform(y_org).reshape(-1)\n",
    "\n",
    "# lengths = [5,10,20,40]\n",
    "lengths = [10,15,20,25]\n",
    "models = {}\n",
    "\n",
    "for length in lengths:\n",
    "    model = get_model('pysr',task,length)\n",
    "    model.fit(X,y)\n",
    "    models[length] = model\n"
   ]
  },
  {
   "cell_type": "code",
   "execution_count": 14,
   "id": "9d1aa0d6",
   "metadata": {},
   "outputs": [
    {
     "name": "stderr",
     "output_type": "stream",
     "text": [
      "C:\\Users\\krkac\\Miniconda3\\envs\\esr\\lib\\site-packages\\sklearn\\base.py:450: UserWarning: X does not have valid feature names, but StandardScaler was fitted with feature names\n",
      "  warnings.warn(\n",
      "C:\\Users\\krkac\\Miniconda3\\envs\\esr\\lib\\site-packages\\sklearn\\base.py:450: UserWarning: X does not have valid feature names, but StandardScaler was fitted with feature names\n",
      "  warnings.warn(\n",
      "C:\\Users\\krkac\\Miniconda3\\envs\\esr\\lib\\site-packages\\sklearn\\base.py:450: UserWarning: X does not have valid feature names, but StandardScaler was fitted with feature names\n",
      "  warnings.warn(\n"
     ]
    },
    {
     "data": {
      "image/png": "[encoded data removed]",
      "text/plain": [
       "<Figure size 640x480 with 1 Axes>"
      ]
     },
     "metadata": {},
     "output_type": "display_data"
    }
   ],
   "source": [
    "colors = ['#377eb8', '#ff7f00', '#4daf4a',\n",
    "          '#f781bf', '#a65628', '#984ea3',\n",
    "          '#999999', '#e41a1c', '#dede00']\n",
    "linewidth = 3.0\n",
    "alpha = 0.5\n",
    "markersize = 5.0\n",
    "label_fontsize = 15\n",
    "lengths = [10,15,20]\n",
    "plt.plot()\n",
    "plt.plot(X_org[::10],y_org[::10], '-', c=colors[0], markersize=markersize,linewidth=linewidth, alpha=alpha, label='Ground truth')\n",
    "\n",
    "for i, length in enumerate(lengths):\n",
    "    model = models[length]\n",
    "    t = np.linspace(X_min,X_max,1000)\n",
    "    T = t.reshape(-1,1)\n",
    "    T_trans = sc_X.transform(T)\n",
    "    y_pred = sc_y.inverse_transform(model.predict(T_trans).reshape(-1,1)).reshape(-1)\n",
    "    plt.plot(t,y_pred,c=colors[i+1],linewidth=linewidth, alpha=alpha, label=f\"Max length {length}\")\n",
    "plt.xlabel('Strain', fontsize=label_fontsize)\n",
    "plt.ylabel('Stress', fontsize=label_fontsize)\n",
    "# plt.xscale('log')\n",
    "plt.legend()\n",
    "plt.savefig('sr_fails.pdf')"
   ]
  },
  {
   "cell_type": "code",
   "execution_count": 8,
   "id": "2c026667",
   "metadata": {},
   "outputs": [
    {
     "name": "stdout",
     "output_type": "stream",
     "text": [
      "-0.4838337*x0 + cos(x0**2) - 0.42902564744781\n",
      "- 0.484 x_{0} + \\cos{\\left(x_{0}^{2} \\right)} - 0.429\n",
      "--------------------\n",
      "-x0 + 0.7413008*cos(x0 - cos(x0)) - 0.057454807611312/(x0 + 1.3551172)\n",
      "- x_{0} + 0.741 \\cos{\\left(x_{0} - \\cos{\\left(x_{0} \\right)} \\right)} - \\frac{0.0575}{x_{0} + 1.36}\n",
      "--------------------\n",
      "-0.04382756*x0*exp(1.5508696*x0) - x0 + 0.6804873*log(log(x0 + 1.5508696) + 1.5508696)\n",
      "- 0.0438 x_{0} e^{1.55 x_{0}} - x_{0} + 0.681 \\log{\\left(\\log{\\left(x_{0} + 1.55 \\right)} + 1.55 \\right)}\n",
      "--------------------\n",
      "-0.5559469*exp(x0) + 1.37766285945361*cos(0.21196046 - 0.56881034/(12.3810832147427*x0 + 16.7189269585099)) - 0.299785064833363\n",
      "- 0.556 e^{x_{0}} + 1.38 \\cos{\\left(0.212 - \\frac{0.569}{12.4 x_{0} + 16.7} \\right)} - 0.300\n",
      "--------------------\n"
     ]
    }
   ],
   "source": [
    "for length in lengths:\n",
    "    model = models[length]\n",
    "    print(model.sympy())\n",
    "    print(model.latex())\n",
    "    print(\"-\"*20)"
   ]
  },
  {
   "cell_type": "code",
   "execution_count": 21,
   "id": "18c67bac",
   "metadata": {},
   "outputs": [
    {
     "ename": "AttributeError",
     "evalue": "'PySRRegressor' object has no attribute 'best_equation'",
     "output_type": "error",
     "traceback": [
      "\u001b[1;31m---------------------------------------------------------------------------\u001b[0m",
      "\u001b[1;31mAttributeError\u001b[0m                            Traceback (most recent call last)",
      "Cell \u001b[1;32mIn [21], line 1\u001b[0m\n\u001b[1;32m----> 1\u001b[0m model\u001b[38;5;241m.\u001b[39mbest_equation\n",
      "\u001b[1;31mAttributeError\u001b[0m: 'PySRRegressor' object has no attribute 'best_equation'"
     ]
    }
   ],
   "source": []
  },
  {
   "cell_type": "code",
   "execution_count": 5,
   "id": "e9c57e63",
   "metadata": {},
   "outputs": [
    {
     "name": "stderr",
     "output_type": "stream",
     "text": [
      "10it [00:00, 14.13it/s]\n",
      "0it [00:00, ?it/s]C:\\Users\\krkac\\Miniconda3\\envs\\esr\\lib\\site-packages\\pysr\\sr.py:1215: UserWarning: Note: Setting `random_state` without also setting `deterministic` to True and `procs` to 0 will result in non-deterministic searches. \n",
      "  warnings.warn(\n",
      "C:\\Users\\krkac\\Miniconda3\\envs\\esr\\lib\\site-packages\\pysr\\sr.py:1257: UserWarning: Note: it looks like you are running in Jupyter. The progress bar will be turned off.\n",
      "  warnings.warn(\n",
      "C:\\Users\\krkac\\Miniconda3\\envs\\esr\\lib\\site-packages\\pysr\\julia_helpers.py:139: UserWarning: `torch` was loaded before the Julia instance started. This may cause a segfault when running `PySRRegressor.fit`. To avoid this, please run `pysr.julia_helpers.init_julia()` *before* importing `torch`. For updates, see https://github.com/pytorch/pytorch/issues/78829\n",
      "  warnings.warn(\n",
      "1it [00:41, 41.77s/it]C:\\Users\\krkac\\Miniconda3\\envs\\esr\\lib\\site-packages\\pysr\\sr.py:1215: UserWarning: Note: Setting `random_state` without also setting `deterministic` to True and `procs` to 0 will result in non-deterministic searches. \n",
      "  warnings.warn(\n",
      "C:\\Users\\krkac\\Miniconda3\\envs\\esr\\lib\\site-packages\\pysr\\sr.py:1257: UserWarning: Note: it looks like you are running in Jupyter. The progress bar will be turned off.\n",
      "  warnings.warn(\n",
      "2it [00:50, 22.20s/it]C:\\Users\\krkac\\Miniconda3\\envs\\esr\\lib\\site-packages\\pysr\\sr.py:1215: UserWarning: Note: Setting `random_state` without also setting `deterministic` to True and `procs` to 0 will result in non-deterministic searches. \n",
      "  warnings.warn(\n",
      "C:\\Users\\krkac\\Miniconda3\\envs\\esr\\lib\\site-packages\\pysr\\sr.py:1257: UserWarning: Note: it looks like you are running in Jupyter. The progress bar will be turned off.\n",
      "  warnings.warn(\n",
      "3it [00:58, 15.94s/it]C:\\Users\\krkac\\Miniconda3\\envs\\esr\\lib\\site-packages\\pysr\\sr.py:1215: UserWarning: Note: Setting `random_state` without also setting `deterministic` to True and `procs` to 0 will result in non-deterministic searches. \n",
      "  warnings.warn(\n",
      "C:\\Users\\krkac\\Miniconda3\\envs\\esr\\lib\\site-packages\\pysr\\sr.py:1257: UserWarning: Note: it looks like you are running in Jupyter. The progress bar will be turned off.\n",
      "  warnings.warn(\n",
      "4it [01:07, 12.92s/it]C:\\Users\\krkac\\Miniconda3\\envs\\esr\\lib\\site-packages\\pysr\\sr.py:1215: UserWarning: Note: Setting `random_state` without also setting `deterministic` to True and `procs` to 0 will result in non-deterministic searches. \n",
      "  warnings.warn(\n",
      "C:\\Users\\krkac\\Miniconda3\\envs\\esr\\lib\\site-packages\\pysr\\sr.py:1257: UserWarning: Note: it looks like you are running in Jupyter. The progress bar will be turned off.\n",
      "  warnings.warn(\n",
      "5it [01:15, 11.46s/it]C:\\Users\\krkac\\Miniconda3\\envs\\esr\\lib\\site-packages\\pysr\\sr.py:1215: UserWarning: Note: Setting `random_state` without also setting `deterministic` to True and `procs` to 0 will result in non-deterministic searches. \n",
      "  warnings.warn(\n",
      "C:\\Users\\krkac\\Miniconda3\\envs\\esr\\lib\\site-packages\\pysr\\sr.py:1257: UserWarning: Note: it looks like you are running in Jupyter. The progress bar will be turned off.\n",
      "  warnings.warn(\n",
      "6it [01:26, 11.11s/it]C:\\Users\\krkac\\Miniconda3\\envs\\esr\\lib\\site-packages\\pysr\\sr.py:1215: UserWarning: Note: Setting `random_state` without also setting `deterministic` to True and `procs` to 0 will result in non-deterministic searches. \n",
      "  warnings.warn(\n",
      "C:\\Users\\krkac\\Miniconda3\\envs\\esr\\lib\\site-packages\\pysr\\sr.py:1257: UserWarning: Note: it looks like you are running in Jupyter. The progress bar will be turned off.\n",
      "  warnings.warn(\n",
      "7it [01:36, 10.87s/it]C:\\Users\\krkac\\Miniconda3\\envs\\esr\\lib\\site-packages\\pysr\\sr.py:1215: UserWarning: Note: Setting `random_state` without also setting `deterministic` to True and `procs` to 0 will result in non-deterministic searches. \n",
      "  warnings.warn(\n",
      "C:\\Users\\krkac\\Miniconda3\\envs\\esr\\lib\\site-packages\\pysr\\sr.py:1257: UserWarning: Note: it looks like you are running in Jupyter. The progress bar will be turned off.\n",
      "  warnings.warn(\n",
      "8it [01:46, 10.64s/it]C:\\Users\\krkac\\Miniconda3\\envs\\esr\\lib\\site-packages\\pysr\\sr.py:1215: UserWarning: Note: Setting `random_state` without also setting `deterministic` to True and `procs` to 0 will result in non-deterministic searches. \n",
      "  warnings.warn(\n",
      "C:\\Users\\krkac\\Miniconda3\\envs\\esr\\lib\\site-packages\\pysr\\sr.py:1257: UserWarning: Note: it looks like you are running in Jupyter. The progress bar will be turned off.\n",
      "  warnings.warn(\n",
      "9it [01:55, 10.13s/it]C:\\Users\\krkac\\Miniconda3\\envs\\esr\\lib\\site-packages\\pysr\\sr.py:1215: UserWarning: Note: Setting `random_state` without also setting `deterministic` to True and `procs` to 0 will result in non-deterministic searches. \n",
      "  warnings.warn(\n",
      "C:\\Users\\krkac\\Miniconda3\\envs\\esr\\lib\\site-packages\\pysr\\sr.py:1257: UserWarning: Note: it looks like you are running in Jupyter. The progress bar will be turned off.\n",
      "  warnings.warn(\n",
      "10it [02:06, 12.62s/it]\n"
     ]
    }
   ],
   "source": [
    "task = 'regression'\n",
    "dataset_names = ['stress_strain']\n",
    "global_seed = 0\n",
    "model_names = ['xgb','pysr']\n",
    "\n",
    "# First test all datasets\n",
    "# for i, dataset_name in enumerate(dataset_names):\n",
    "#     if i < 30:\n",
    "#         continue\n",
    "#     model = LinearRegression()\n",
    "#     run_experiment(dataset_name, model, None, task, random_state=global_seed)\n",
    "\n",
    "results = defaultdict(list)\n",
    "for dataset_name in dataset_names:\n",
    "    results['dataset_name'].append(dataset_name)\n",
    "    for model_name in model_names:\n",
    "        model = get_model(model_name,task)\n",
    "        t1 = time.time()\n",
    "        score_mean, score_std = run_experiment(dataset_name, model, None, task, random_state=global_seed)\n",
    "        t2 = time.time()\n",
    "        results[f'{model_name}_mean'].append(score_mean)\n",
    "        results[f'{model_name}_std'].append(score_std)\n",
    "        results[f'{model_name}_time'].append(t2-t1)\n",
    "        \n",
    "df = pd.DataFrame(results)\n",
    "    \n",
    "\n",
    "    "
   ]
  },
  {
   "cell_type": "code",
   "execution_count": 6,
   "id": "b34f27c4",
   "metadata": {},
   "outputs": [
    {
     "data": {
      "text/html": [
       "<div>\n",
       "<style scoped>\n",
       "    .dataframe tbody tr th:only-of-type {\n",
       "        vertical-align: middle;\n",
       "    }\n",
       "\n",
       "    .dataframe tbody tr th {\n",
       "        vertical-align: top;\n",
       "    }\n",
       "\n",
       "    .dataframe thead th {\n",
       "        text-align: right;\n",
       "    }\n",
       "</style>\n",
       "<table border=\"1\" class=\"dataframe\">\n",
       "  <thead>\n",
       "    <tr style=\"text-align: right;\">\n",
       "      <th></th>\n",
       "      <th>dataset_name</th>\n",
       "      <th>xgb_mean</th>\n",
       "      <th>xgb_std</th>\n",
       "      <th>xgb_time</th>\n",
       "      <th>pysr_mean</th>\n",
       "      <th>pysr_std</th>\n",
       "      <th>pysr_time</th>\n",
       "    </tr>\n",
       "  </thead>\n",
       "  <tbody>\n",
       "    <tr>\n",
       "      <th>0</th>\n",
       "      <td>stress_strain</td>\n",
       "      <td>0.981797</td>\n",
       "      <td>0.053731</td>\n",
       "      <td>0.716897</td>\n",
       "      <td>0.920131</td>\n",
       "      <td>0.056593</td>\n",
       "      <td>126.245818</td>\n",
       "    </tr>\n",
       "  </tbody>\n",
       "</table>\n",
       "</div>"
      ],
      "text/plain": [
       "    dataset_name  xgb_mean   xgb_std  xgb_time  pysr_mean  pysr_std  \\\n",
       "0  stress_strain  0.981797  0.053731  0.716897   0.920131  0.056593   \n",
       "\n",
       "    pysr_time  \n",
       "0  126.245818  "
      ]
     },
     "execution_count": 6,
     "metadata": {},
     "output_type": "execute_result"
    }
   ],
   "source": [
    "df"
   ]
  },
  {
   "cell_type": "code",
   "execution_count": 6,
   "id": "61c75b1a",
   "metadata": {},
   "outputs": [
    {
     "data": {
      "text/html": [
       "<style>#sk-container-id-1 {color: black;background-color: white;}#sk-container-id-1 pre{padding: 0;}#sk-container-id-1 div.sk-toggleable {background-color: white;}#sk-container-id-1 label.sk-toggleable__label {cursor: pointer;display: block;width: 100%;margin-bottom: 0;padding: 0.3em;box-sizing: border-box;text-align: center;}#sk-container-id-1 label.sk-toggleable__label-arrow:before {content: \"▸\";float: left;margin-right: 0.25em;color: #696969;}#sk-container-id-1 label.sk-toggleable__label-arrow:hover:before {color: black;}#sk-container-id-1 div.sk-estimator:hover label.sk-toggleable__label-arrow:before {color: black;}#sk-container-id-1 div.sk-toggleable__content {max-height: 0;max-width: 0;overflow: hidden;text-align: left;background-color: #f0f8ff;}#sk-container-id-1 div.sk-toggleable__content pre {margin: 0.2em;color: black;border-radius: 0.25em;background-color: #f0f8ff;}#sk-container-id-1 input.sk-toggleable__control:checked~div.sk-toggleable__content {max-height: 200px;max-width: 100%;overflow: auto;}#sk-container-id-1 input.sk-toggleable__control:checked~label.sk-toggleable__label-arrow:before {content: \"▾\";}#sk-container-id-1 div.sk-estimator input.sk-toggleable__control:checked~label.sk-toggleable__label {background-color: #d4ebff;}#sk-container-id-1 div.sk-label input.sk-toggleable__control:checked~label.sk-toggleable__label {background-color: #d4ebff;}#sk-container-id-1 input.sk-hidden--visually {border: 0;clip: rect(1px 1px 1px 1px);clip: rect(1px, 1px, 1px, 1px);height: 1px;margin: -1px;overflow: hidden;padding: 0;position: absolute;width: 1px;}#sk-container-id-1 div.sk-estimator {font-family: monospace;background-color: #f0f8ff;border: 1px dotted black;border-radius: 0.25em;box-sizing: border-box;margin-bottom: 0.5em;}#sk-container-id-1 div.sk-estimator:hover {background-color: #d4ebff;}#sk-container-id-1 div.sk-parallel-item::after {content: \"\";width: 100%;border-bottom: 1px solid gray;flex-grow: 1;}#sk-container-id-1 div.sk-label:hover label.sk-toggleable__label {background-color: #d4ebff;}#sk-container-id-1 div.sk-serial::before {content: \"\";position: absolute;border-left: 1px solid gray;box-sizing: border-box;top: 0;bottom: 0;left: 50%;z-index: 0;}#sk-container-id-1 div.sk-serial {display: flex;flex-direction: column;align-items: center;background-color: white;padding-right: 0.2em;padding-left: 0.2em;position: relative;}#sk-container-id-1 div.sk-item {position: relative;z-index: 1;}#sk-container-id-1 div.sk-parallel {display: flex;align-items: stretch;justify-content: center;background-color: white;position: relative;}#sk-container-id-1 div.sk-item::before, #sk-container-id-1 div.sk-parallel-item::before {content: \"\";position: absolute;border-left: 1px solid gray;box-sizing: border-box;top: 0;bottom: 0;left: 50%;z-index: -1;}#sk-container-id-1 div.sk-parallel-item {display: flex;flex-direction: column;z-index: 1;position: relative;background-color: white;}#sk-container-id-1 div.sk-parallel-item:first-child::after {align-self: flex-end;width: 50%;}#sk-container-id-1 div.sk-parallel-item:last-child::after {align-self: flex-start;width: 50%;}#sk-container-id-1 div.sk-parallel-item:only-child::after {width: 0;}#sk-container-id-1 div.sk-dashed-wrapped {border: 1px dashed gray;margin: 0 0.4em 0.5em 0.4em;box-sizing: border-box;padding-bottom: 0.4em;background-color: white;}#sk-container-id-1 div.sk-label label {font-family: monospace;font-weight: bold;display: inline-block;line-height: 1.2em;}#sk-container-id-1 div.sk-label-container {text-align: center;}#sk-container-id-1 div.sk-container {/* jupyter's `normalize.less` sets `[hidden] { display: none; }` but bootstrap.min.css set `[hidden] { display: none !important; }` so we also need the `!important` here to be able to override the default hidden behavior on the sphinx rendered scikit-learn.org. See: https://github.com/scikit-learn/scikit-learn/issues/21755 */display: inline-block !important;position: relative;}#sk-container-id-1 div.sk-text-repr-fallback {display: none;}</style><div id=\"sk-container-id-1\" class=\"sk-top-container\"><div class=\"sk-text-repr-fallback\"><pre>PySRRegressor.equations_ = [\n",
       "\t   pick     score                                           equation  \\\n",
       "\t0        0.000000                                                 x0   \n",
       "\t1        0.246906                                            sin(x0)   \n",
       "\t2        0.005211                                   (x0 * 0.5543091)   \n",
       "\t3        0.513018                                 log(x0 + 1.427377)   \n",
       "\t4        0.305602                  (-0.118532754 / (x0 + 1.3478292))   \n",
       "\t5        0.126188                       ((x0 + 0.7830945) / exp(x0))   \n",
       "\t6        1.506495    ((-0.27010724 / (x0 + 1.3774464)) + 0.65499437)   \n",
       "\t7        0.015955           (sin(x0 + 1.0151263) / (x0 + 1.3974577))   \n",
       "\t8  &gt;&gt;&gt;&gt;  0.084274  (sin((x0 + 0.99540925) * 0.8221157) / (x0 + 1....   \n",
       "\t\n",
       "\t       loss  complexity  \n",
       "\t0  0.891385           1  \n",
       "\t1  0.696363           2  \n",
       "\t2  0.692743           3  \n",
       "\t3  0.414736           4  \n",
       "\t4  0.305527           5  \n",
       "\t5  0.269307           6  \n",
       "\t6  0.059701           7  \n",
       "\t7  0.058756           8  \n",
       "\t8  0.049643          10  \n",
       "]</pre><b>In a Jupyter environment, please rerun this cell to show the HTML representation or trust the notebook. <br />On GitHub, the HTML representation is unable to render, please try loading this page with nbviewer.org.</b></div><div class=\"sk-container\" hidden><div class=\"sk-item\"><div class=\"sk-estimator sk-toggleable\"><input class=\"sk-toggleable__control sk-hidden--visually\" id=\"sk-estimator-id-1\" type=\"checkbox\" checked><label for=\"sk-estimator-id-1\" class=\"sk-toggleable__label sk-toggleable__label-arrow\">PySRRegressor</label><div class=\"sk-toggleable__content\"><pre>PySRRegressor.equations_ = [\n",
       "\t   pick     score                                           equation  \\\n",
       "\t0        0.000000                                                 x0   \n",
       "\t1        0.246906                                            sin(x0)   \n",
       "\t2        0.005211                                   (x0 * 0.5543091)   \n",
       "\t3        0.513018                                 log(x0 + 1.427377)   \n",
       "\t4        0.305602                  (-0.118532754 / (x0 + 1.3478292))   \n",
       "\t5        0.126188                       ((x0 + 0.7830945) / exp(x0))   \n",
       "\t6        1.506495    ((-0.27010724 / (x0 + 1.3774464)) + 0.65499437)   \n",
       "\t7        0.015955           (sin(x0 + 1.0151263) / (x0 + 1.3974577))   \n",
       "\t8  &gt;&gt;&gt;&gt;  0.084274  (sin((x0 + 0.99540925) * 0.8221157) / (x0 + 1....   \n",
       "\t\n",
       "\t       loss  complexity  \n",
       "\t0  0.891385           1  \n",
       "\t1  0.696363           2  \n",
       "\t2  0.692743           3  \n",
       "\t3  0.414736           4  \n",
       "\t4  0.305527           5  \n",
       "\t5  0.269307           6  \n",
       "\t6  0.059701           7  \n",
       "\t7  0.058756           8  \n",
       "\t8  0.049643          10  \n",
       "]</pre></div></div></div></div></div>"
      ],
      "text/plain": [
       "PySRRegressor.equations_ = [\n",
       "\t   pick     score                                           equation  \\\n",
       "\t0        0.000000                                                 x0   \n",
       "\t1        0.246906                                            sin(x0)   \n",
       "\t2        0.005211                                   (x0 * 0.5543091)   \n",
       "\t3        0.513018                                 log(x0 + 1.427377)   \n",
       "\t4        0.305602                  (-0.118532754 / (x0 + 1.3478292))   \n",
       "\t5        0.126188                       ((x0 + 0.7830945) / exp(x0))   \n",
       "\t6        1.506495    ((-0.27010724 / (x0 + 1.3774464)) + 0.65499437)   \n",
       "\t7        0.015955           (sin(x0 + 1.0151263) / (x0 + 1.3974577))   \n",
       "\t8  >>>>  0.084274  (sin((x0 + 0.99540925) * 0.8221157) / (x0 + 1....   \n",
       "\t\n",
       "\t       loss  complexity  \n",
       "\t0  0.891385           1  \n",
       "\t1  0.696363           2  \n",
       "\t2  0.692743           3  \n",
       "\t3  0.414736           4  \n",
       "\t4  0.305527           5  \n",
       "\t5  0.269307           6  \n",
       "\t6  0.059701           7  \n",
       "\t7  0.058756           8  \n",
       "\t8  0.049643          10  \n",
       "]"
      ]
     },
     "execution_count": 6,
     "metadata": {},
     "output_type": "execute_result"
    }
   ],
   "source": [
    "model"
   ]
  },
  {
   "cell_type": "code",
   "execution_count": 15,
   "id": "a0e8599a",
   "metadata": {},
   "outputs": [
    {
     "data": {
      "text/plain": [
       "[<matplotlib.lines.Line2D at 0x214f51ac8e0>]"
      ]
     },
     "execution_count": 15,
     "metadata": {},
     "output_type": "execute_result"
    },
    {
     "data": {
      "image/png": "[encoded data removed]",
      "text/plain": [
       "<Figure size 640x480 with 1 Axes>"
      ]
     },
     "metadata": {},
     "output_type": "display_data"
    }
   ],
   "source": [
    "\n",
    "plt.plot(t,model.predict(X_t))"
   ]
  },
  {
   "cell_type": "code",
   "execution_count": 4,
   "id": "f18e34ff",
   "metadata": {},
   "outputs": [],
   "source": [
    "sc_X = StandardScaler()\n",
    "sc_y = StandardScaler()"
   ]
  },
  {
   "cell_type": "code",
   "execution_count": 5,
   "id": "ac2d79b3",
   "metadata": {},
   "outputs": [],
   "source": [
    "df = load_data('stress_strain')"
   ]
  },
  {
   "cell_type": "code",
   "execution_count": 6,
   "id": "a2868a99",
   "metadata": {},
   "outputs": [],
   "source": [
    "X = df[['Strain']]\n",
    "y = df[['target']]"
   ]
  },
  {
   "cell_type": "code",
   "execution_count": 7,
   "id": "7c7c60ec",
   "metadata": {},
   "outputs": [],
   "source": [
    "X = sc_X.fit_transform(X)\n",
    "y = sc_y.fit_transform(y)"
   ]
  },
  {
   "cell_type": "code",
   "execution_count": 24,
   "id": "1ef5d678",
   "metadata": {},
   "outputs": [
    {
     "data": {
      "text/plain": [
       "[<matplotlib.lines.Line2D at 0x21547817e80>]"
      ]
     },
     "execution_count": 24,
     "metadata": {},
     "output_type": "execute_result"
    },
    {
     "data": {
      "image/png": "[encoded data removed]",
      "text/plain": [
       "<Figure size 640x480 with 1 Axes>"
      ]
     },
     "metadata": {},
     "output_type": "display_data"
    }
   ],
   "source": [
    "t = np.linspace(-1.2,2.5,1000)\n",
    "X_t = t.reshape(-1,1)\n",
    "plt.plot(X.reshape(-1),y.reshape(-1))\n",
    "plt.plot(t,model.predict(X_t))"
   ]
  },
  {
   "cell_type": "code",
   "execution_count": 8,
   "id": "1a3d2a0c",
   "metadata": {},
   "outputs": [
    {
     "data": {
      "text/plain": [
       "array([-0.08981417])"
      ]
     },
     "execution_count": 8,
     "metadata": {},
     "output_type": "execute_result"
    }
   ],
   "source": [
    "y[-1]"
   ]
  },
  {
   "cell_type": "code",
   "execution_count": 14,
   "id": "36a29e3c",
   "metadata": {},
   "outputs": [
    {
     "data": {
      "text/plain": [
       "617"
      ]
     },
     "execution_count": 14,
     "metadata": {},
     "output_type": "execute_result"
    }
   ],
   "source": [
    "df.index[-1]"
   ]
  },
  {
   "cell_type": "code",
   "execution_count": 39,
   "id": "e0df841c",
   "metadata": {},
   "outputs": [],
   "source": [
    "indexes = [0,1,2,3,4,5]\n",
    "dfs = []\n",
    "for i in indexes:\n",
    "    dfs.append(load_stress_strain(i))"
   ]
  },
  {
   "cell_type": "code",
   "execution_count": 63,
   "id": "b469aef1",
   "metadata": {},
   "outputs": [],
   "source": [
    "def plot_subplot(ax, df):\n",
    "    ax.plot(df['Strain'],df['target'], linewidth=linewidth)\n",
    "    ax.set_xlabel('Strain', fontsize=label_fontsize)\n",
    "    ax.set_ylabel('Stress', fontsize=label_fontsize)\n",
    "    ax.tick_params(axis='both', which='major', labelsize=15)"
   ]
  },
  {
   "cell_type": "code",
   "execution_count": 72,
   "id": "fa5f78d5",
   "metadata": {
    "scrolled": true
   },
   "outputs": [
    {
     "data": {
      "image/png": "[encoded data removed]",
      "text/plain": [
       "<Figure size 800x200 with 2 Axes>"
      ]
     },
     "metadata": {},
     "output_type": "display_data"
    }
   ],
   "source": [
    "# visualize the shape functions\n",
    "colors = ['#377eb8', '#ff7f00', '#4daf4a',\n",
    "          '#f781bf', '#a65628', '#984ea3',\n",
    "          '#999999', '#e41a1c', '#dede00']\n",
    "linewidth = 2.5\n",
    "alpha = 0.5\n",
    "markersize = 5.0\n",
    "label_fontsize = 18\n",
    "title_fontsize = 18\n",
    "\n",
    "f, (ax1, ax2) = plt.subplots(1, 2, figsize=(8,2))\n",
    "plot_subplot(ax1,dfs[0])\n",
    "plot_subplot(ax2,dfs[5])\n",
    "\n",
    "ax1.title.set_text(r'Aluminium at $20 ^{\\circ}$C')\n",
    "ax2.title.set_text(r'Aluminium at $300 ^{\\circ}$C')\n",
    "ax1.title.set_fontsize(title_fontsize)\n",
    "ax2.title.set_fontsize(title_fontsize)\n",
    "ax1.set_xticks([0.000,0.050,0.100])\n",
    "\n",
    "plt.subplots_adjust(left=0.12, bottom=0.30, right=0.98, top=0.85, wspace=0.3, hspace=None)\n",
    "\n",
    "\n",
    "# plt.savefig(\"sample_stress_strain_curves.pdf\")"
   ]
  },
  {
   "cell_type": "code",
   "execution_count": null,
   "id": "0f765980",
   "metadata": {},
   "outputs": [],
   "source": []
  }
 ],
 "metadata": {
  "kernelspec": {
   "display_name": "Python 3 (ipykernel)",
   "language": "python",
   "name": "python3"
  },
  "language_info": {
   "codemirror_mode": {
    "name": "ipython",
    "version": 3
   },
   "file_extension": ".py",
   "mimetype": "text/x-python",
   "name": "python",
   "nbconvert_exporter": "python",
   "pygments_lexer": "ipython3",
   "version": "3.9.16"
  }
 },
 "nbformat": 4,
 "nbformat_minor": 5
}
