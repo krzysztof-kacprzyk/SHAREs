{
 "cells": [
  {
   "cell_type": "code",
   "execution_count": 1,
   "id": "3a9e89a6",
   "metadata": {},
   "outputs": [],
   "source": [
    "%reload_ext autoreload\n",
    "%autoreload 2\n",
    "%matplotlib inline"
   ]
  },
  {
   "cell_type": "code",
   "execution_count": 2,
   "id": "f0ef40c6",
   "metadata": {},
   "outputs": [],
   "source": [
    "import pandas as pd\n",
    "import numpy as np\n",
    "import matplotlib.pyplot as plt\n",
    "from gplearn.gplearn.genetic import SymbolicRegressor\n",
    "from gplearn.gplearn.model import ShapeNN\n",
    "import torch\n",
    "from temperature import generate_data\n",
    "\n",
    "import pytorch_lightning as pl\n",
    "from pytorch_lightning.callbacks.model_checkpoint import ModelCheckpoint\n",
    "from pytorch_lightning.loggers import TensorBoardLogger\n",
    "\n",
    "from nam.config import defaults\n",
    "from nam.data import FoldedDataset\n",
    "from nam.data import NAMDataset\n",
    "from nam.models import NAM, FeatureNN\n",
    "from nam.models import get_num_units\n",
    "from nam.trainer import LitNAM\n",
    "from nam.types import Config\n",
    "from nam.utils import parse_args\n",
    "from nam.utils import plot_mean_feature_importance\n",
    "from nam.utils import plot_nams\n",
    "\n",
    "\n",
    "from nam.data import load_gallup_data, load_housing_data, load_sklearn_housing_data, load_breast_data\n",
    "\n",
    "import sklearn"
   ]
  },
  {
   "cell_type": "code",
   "execution_count": 3,
   "id": "b026fbb6",
   "metadata": {},
   "outputs": [
    {
     "data": {
      "text/plain": [
       "(array([  2.,   7.,   9.,  18.,  19., 247.,  42.,  41.,  56.,  41.,  48.,\n",
       "        340.,  20.,  20.,  31.,  22.,  15.,  11.,   8.,   3.]),\n",
       " array([-96.70526648, -79.30820348, -61.91114047, -44.51407747,\n",
       "        -27.11701446,  -9.71995146,   7.67711155,  25.07417455,\n",
       "         42.47123756,  59.86830056,  77.26536357,  94.66242657,\n",
       "        112.05948958, 129.45655258, 146.85361559, 164.25067859,\n",
       "        181.6477416 , 199.0448046 , 216.4418676 , 233.83893061,\n",
       "        251.23599361]),\n",
       " <BarContainer object of 20 artists>)"
      ]
     },
     "execution_count": 3,
     "metadata": {},
     "output_type": "execute_result"
    },
    {
     "data": {
      "image/png": "[encoded data removed]",
      "text/plain": [
       "<Figure size 640x480 with 1 Axes>"
      ]
     },
     "metadata": {},
     "output_type": "display_data"
    }
   ],
   "source": [
    "df = generate_data(1000, (1,800), (1.0,1.5), (-100,-10), seed=0, noise=0.0)\n",
    "\n",
    "feature_columns = ['energy','mass','initial_temp']\n",
    "target_column = 'temperature'\n",
    "\n",
    "X = df[feature_columns].values\n",
    "y = df[target_column].values\n",
    "\n",
    "# plt.hist(X[:,0]/X[:,1])\n",
    "plt.hist(y,bins=20)"
   ]
  },
  {
   "cell_type": "code",
   "execution_count": 5,
   "id": "e8e845c5",
   "metadata": {
    "scrolled": true
   },
   "outputs": [
    {
     "ename": "AssertionError",
     "evalue": "Torch not compiled with CUDA enabled",
     "output_type": "error",
     "traceback": [
      "\u001b[1;31m---------------------------------------------------------------------------\u001b[0m",
      "\u001b[1;31mAssertionError\u001b[0m                            Traceback (most recent call last)",
      "Cell \u001b[1;32mIn[5], line 67\u001b[0m\n\u001b[0;32m     52\u001b[0m \u001b[38;5;66;03m# esr_parameter_dict = {\u001b[39;00m\n\u001b[0;32m     53\u001b[0m \u001b[38;5;66;03m#     # 'parsimony_coefficient': scipy.stats()\u001b[39;00m\n\u001b[0;32m     54\u001b[0m \u001b[38;5;66;03m#     'optim_dict': DictionaryDistribution({\u001b[39;00m\n\u001b[1;32m   (...)\u001b[0m\n\u001b[0;32m     63\u001b[0m \u001b[38;5;66;03m#     })\u001b[39;00m\n\u001b[0;32m     64\u001b[0m \u001b[38;5;66;03m# }\u001b[39;00m\n\u001b[0;32m     66\u001b[0m esr \u001b[38;5;241m=\u001b[39m SymbolicRegressor(\u001b[38;5;241m*\u001b[39m\u001b[38;5;241m*\u001b[39mgp_config, categorical_variables\u001b[38;5;241m=\u001b[39m{})\n\u001b[1;32m---> 67\u001b[0m \u001b[43mesr\u001b[49m\u001b[38;5;241;43m.\u001b[39;49m\u001b[43mfit\u001b[49m\u001b[43m(\u001b[49m\u001b[43mX\u001b[49m\u001b[43m,\u001b[49m\u001b[43my\u001b[49m\u001b[43m)\u001b[49m\n",
      "File \u001b[1;32mC:\\PhD\\Papers\\ExtendedSR\\share\\gplearn\\gplearn\\genetic.py:521\u001b[0m, in \u001b[0;36mBaseSymbolic.fit\u001b[1;34m(self, X, y, sample_weight)\u001b[0m\n\u001b[0;32m    518\u001b[0m device \u001b[38;5;241m=\u001b[39m torch\u001b[38;5;241m.\u001b[39mdevice(\u001b[38;5;28mself\u001b[39m\u001b[38;5;241m.\u001b[39moptim_dict[\u001b[38;5;124m'\u001b[39m\u001b[38;5;124mdevice\u001b[39m\u001b[38;5;124m'\u001b[39m])\n\u001b[0;32m    519\u001b[0m params[\u001b[38;5;124m'\u001b[39m\u001b[38;5;124mohe_matrices\u001b[39m\u001b[38;5;124m'\u001b[39m] \u001b[38;5;241m=\u001b[39m \u001b[38;5;28mself\u001b[39m\u001b[38;5;241m.\u001b[39m_create_ohe_matrices(X,\u001b[38;5;28mself\u001b[39m\u001b[38;5;241m.\u001b[39mcategorical_variables, device\u001b[38;5;241m=\u001b[39mdevice)\n\u001b[1;32m--> 521\u001b[0m X \u001b[38;5;241m=\u001b[39m \u001b[43mtorch\u001b[49m\u001b[38;5;241;43m.\u001b[39;49m\u001b[43mfrom_numpy\u001b[49m\u001b[43m(\u001b[49m\u001b[43mnp\u001b[49m\u001b[38;5;241;43m.\u001b[39;49m\u001b[43marray\u001b[49m\u001b[43m(\u001b[49m\u001b[43mX\u001b[49m\u001b[43m)\u001b[49m\u001b[43m)\u001b[49m\u001b[38;5;241;43m.\u001b[39;49m\u001b[43mfloat\u001b[49m\u001b[43m(\u001b[49m\u001b[43m)\u001b[49m\u001b[38;5;241;43m.\u001b[39;49m\u001b[43mto\u001b[49m\u001b[43m(\u001b[49m\u001b[43mdevice\u001b[49m\u001b[43m)\u001b[49m\n\u001b[0;32m    522\u001b[0m y \u001b[38;5;241m=\u001b[39m torch\u001b[38;5;241m.\u001b[39mfrom_numpy(np\u001b[38;5;241m.\u001b[39marray(y))\u001b[38;5;241m.\u001b[39mfloat()\u001b[38;5;241m.\u001b[39mto(device)\n\u001b[0;32m    523\u001b[0m \u001b[38;5;66;03m# print(params['ohe_matrices'])\u001b[39;00m\n",
      "File \u001b[1;32m~\\Miniconda3\\envs\\esr\\lib\\site-packages\\torch\\cuda\\__init__.py:211\u001b[0m, in \u001b[0;36m_lazy_init\u001b[1;34m()\u001b[0m\n\u001b[0;32m    207\u001b[0m     \u001b[38;5;28;01mraise\u001b[39;00m \u001b[38;5;167;01mRuntimeError\u001b[39;00m(\n\u001b[0;32m    208\u001b[0m         \u001b[38;5;124m\"\u001b[39m\u001b[38;5;124mCannot re-initialize CUDA in forked subprocess. To use CUDA with \u001b[39m\u001b[38;5;124m\"\u001b[39m\n\u001b[0;32m    209\u001b[0m         \u001b[38;5;124m\"\u001b[39m\u001b[38;5;124mmultiprocessing, you must use the \u001b[39m\u001b[38;5;124m'\u001b[39m\u001b[38;5;124mspawn\u001b[39m\u001b[38;5;124m'\u001b[39m\u001b[38;5;124m start method\u001b[39m\u001b[38;5;124m\"\u001b[39m)\n\u001b[0;32m    210\u001b[0m \u001b[38;5;28;01mif\u001b[39;00m \u001b[38;5;129;01mnot\u001b[39;00m \u001b[38;5;28mhasattr\u001b[39m(torch\u001b[38;5;241m.\u001b[39m_C, \u001b[38;5;124m'\u001b[39m\u001b[38;5;124m_cuda_getDeviceCount\u001b[39m\u001b[38;5;124m'\u001b[39m):\n\u001b[1;32m--> 211\u001b[0m     \u001b[38;5;28;01mraise\u001b[39;00m \u001b[38;5;167;01mAssertionError\u001b[39;00m(\u001b[38;5;124m\"\u001b[39m\u001b[38;5;124mTorch not compiled with CUDA enabled\u001b[39m\u001b[38;5;124m\"\u001b[39m)\n\u001b[0;32m    212\u001b[0m \u001b[38;5;28;01mif\u001b[39;00m _cudart \u001b[38;5;129;01mis\u001b[39;00m \u001b[38;5;28;01mNone\u001b[39;00m:\n\u001b[0;32m    213\u001b[0m     \u001b[38;5;28;01mraise\u001b[39;00m \u001b[38;5;167;01mAssertionError\u001b[39;00m(\n\u001b[0;32m    214\u001b[0m         \u001b[38;5;124m\"\u001b[39m\u001b[38;5;124mlibcudart functions unavailable. It looks like you have a broken build?\u001b[39m\u001b[38;5;124m\"\u001b[39m)\n",
      "\u001b[1;31mAssertionError\u001b[0m: Torch not compiled with CUDA enabled"
     ]
    }
   ],
   "source": [
    "task = 'regression'\n",
    "global_seed = 0\n",
    "config = defaults()\n",
    "config.regression=True\n",
    "\n",
    "constructor_dict_FeatureNN = {\n",
    "    'config':config,\n",
    "    'name':'FeatureNN',\n",
    "    'input_shape':1,\n",
    "    'num_units':1000,\n",
    "    'feature_num':0\n",
    "}\n",
    "constructor_dict_ShapeNN = {\n",
    "    'n_hidden_layers':5,\n",
    "    'width':20,\n",
    "    'activation_name':'ELU'\n",
    "        }\n",
    "\n",
    "\n",
    "gp_config = {\n",
    "    'population_size':10,\n",
    "    'generations':1,\n",
    "    'function_set':('add','mul','div','shape'),\n",
    "    'verbose':True,\n",
    "    'random_state':global_seed,\n",
    "    'const_range':None,\n",
    "    'n_jobs':5,\n",
    "    'p_crossover':0.55,\n",
    "    'p_subtree_mutation':0.15,\n",
    "    'p_point_mutation':0.15,\n",
    "    'p_hoist_mutation':0.05,\n",
    "    'p_point_replace':0.2,\n",
    "    'parsimony_coefficient':0.0,\n",
    "    'metric': ('mse' if task == 'regression' else 'log loss'),\n",
    "    'parsimony_coefficient':0.0,\n",
    "    'optim_dict': {\n",
    "        'alg':'adam',\n",
    "        'lr': 1e-2,\n",
    "        'max_n_epochs':500,\n",
    "        'tol':1e-3,\n",
    "        'n_iter_no_change':10,\n",
    "        'task':task,\n",
    "        'device':'cuda',\n",
    "        'batch_size':2000,\n",
    "        'shape_class':ShapeNN,\n",
    "        'constructor_dict': constructor_dict_ShapeNN,\n",
    "        'num_workers_dataloader': 0,\n",
    "        'seed':0\n",
    "        }\n",
    "    }\n",
    "                           \n",
    "# esr_parameter_dict = {\n",
    "#     # 'parsimony_coefficient': scipy.stats()\n",
    "#     'optim_dict': DictionaryDistribution({\n",
    "#         'alg':['adam'],\n",
    "#         'lr': scipy.stats.loguniform(1e-5,1),\n",
    "#         'max_n_epochs':[200],\n",
    "#         'tol':[1e-4],\n",
    "#         'n_iter_no_change':[10],\n",
    "#         'task':[task],\n",
    "#         'device':['cuda'],\n",
    "#         'batch_size':[20000]\n",
    "#     })\n",
    "# }\n",
    "\n",
    "esr = SymbolicRegressor(**gp_config, categorical_variables={})\n",
    "esr.fit(X,y)"
   ]
  },
  {
   "cell_type": "code",
   "execution_count": 21,
   "id": "f985f48b",
   "metadata": {},
   "outputs": [],
   "source": [
    "numerical_arguments = {\n",
    "    0: (1.0,1200),\n",
    "    1: (1.0,1.5),\n",
    "    2: (-100,-10)\n",
    "}\n",
    "categorical_arguments = {}"
   ]
  },
  {
   "cell_type": "code",
   "execution_count": 3,
   "id": "e68037bd",
   "metadata": {},
   "outputs": [
    {
     "ename": "NameError",
     "evalue": "name 'global_seed' is not defined",
     "output_type": "error",
     "traceback": [
      "\u001b[1;31m---------------------------------------------------------------------------\u001b[0m",
      "\u001b[1;31mNameError\u001b[0m                                 Traceback (most recent call last)",
      "Cell \u001b[1;32mIn[3], line 16\u001b[0m\n\u001b[0;32m      3\u001b[0m \u001b[38;5;28;01mfrom\u001b[39;00m \u001b[38;5;21;01mgplearn\u001b[39;00m\u001b[38;5;21;01m.\u001b[39;00m\u001b[38;5;21;01mgplearn\u001b[39;00m\u001b[38;5;21;01m.\u001b[39;00m\u001b[38;5;21;01mutils\u001b[39;00m \u001b[38;5;28;01mimport\u001b[39;00m check_random_state\n\u001b[0;32m      4\u001b[0m \u001b[38;5;28;01mfrom\u001b[39;00m \u001b[38;5;21;01mgplearn\u001b[39;00m\u001b[38;5;21;01m.\u001b[39;00m\u001b[38;5;21;01mgplearn\u001b[39;00m\u001b[38;5;21;01m.\u001b[39;00m\u001b[38;5;21;01m_program\u001b[39;00m \u001b[38;5;28;01mimport\u001b[39;00m _Program\n\u001b[0;32m      6\u001b[0m program_config \u001b[38;5;241m=\u001b[39m {\n\u001b[0;32m      7\u001b[0m \u001b[38;5;124m'\u001b[39m\u001b[38;5;124mfunction_set\u001b[39m\u001b[38;5;124m'\u001b[39m : [_function_map[\u001b[38;5;124m'\u001b[39m\u001b[38;5;124madd\u001b[39m\u001b[38;5;124m'\u001b[39m],_function_map[\u001b[38;5;124m'\u001b[39m\u001b[38;5;124msub\u001b[39m\u001b[38;5;124m'\u001b[39m],_function_map[\u001b[38;5;124m'\u001b[39m\u001b[38;5;124mmul\u001b[39m\u001b[38;5;124m'\u001b[39m],_function_map[\u001b[38;5;124m'\u001b[39m\u001b[38;5;124mdiv\u001b[39m\u001b[38;5;124m'\u001b[39m],_function_map[\u001b[38;5;124m'\u001b[39m\u001b[38;5;124mshape\u001b[39m\u001b[38;5;124m'\u001b[39m]],\n\u001b[0;32m      8\u001b[0m \u001b[38;5;124m'\u001b[39m\u001b[38;5;124marities\u001b[39m\u001b[38;5;124m'\u001b[39m : {\u001b[38;5;241m1\u001b[39m: [_function_map[\u001b[38;5;124m'\u001b[39m\u001b[38;5;124mshape\u001b[39m\u001b[38;5;124m'\u001b[39m]], \u001b[38;5;241m2\u001b[39m: [_function_map[\u001b[38;5;124m'\u001b[39m\u001b[38;5;124madd\u001b[39m\u001b[38;5;124m'\u001b[39m],_function_map[\u001b[38;5;124m'\u001b[39m\u001b[38;5;124msub\u001b[39m\u001b[38;5;124m'\u001b[39m],_function_map[\u001b[38;5;124m'\u001b[39m\u001b[38;5;124mmul\u001b[39m\u001b[38;5;124m'\u001b[39m],_function_map[\u001b[38;5;124m'\u001b[39m\u001b[38;5;124mdiv\u001b[39m\u001b[38;5;124m'\u001b[39m]]},\n\u001b[0;32m      9\u001b[0m \u001b[38;5;124m'\u001b[39m\u001b[38;5;124minit_depth\u001b[39m\u001b[38;5;124m'\u001b[39m : (\u001b[38;5;241m2\u001b[39m,\u001b[38;5;241m5\u001b[39m),\n\u001b[0;32m     10\u001b[0m \u001b[38;5;124m'\u001b[39m\u001b[38;5;124minit_method\u001b[39m\u001b[38;5;124m'\u001b[39m : \u001b[38;5;124m'\u001b[39m\u001b[38;5;124mhalf and half\u001b[39m\u001b[38;5;124m'\u001b[39m,\n\u001b[0;32m     11\u001b[0m \u001b[38;5;124m'\u001b[39m\u001b[38;5;124mn_features\u001b[39m\u001b[38;5;124m'\u001b[39m : \u001b[38;5;241m3\u001b[39m,\n\u001b[0;32m     12\u001b[0m \u001b[38;5;124m'\u001b[39m\u001b[38;5;124mconst_range\u001b[39m\u001b[38;5;124m'\u001b[39m : \u001b[38;5;28;01mNone\u001b[39;00m,\n\u001b[0;32m     13\u001b[0m \u001b[38;5;124m'\u001b[39m\u001b[38;5;124mmetric\u001b[39m\u001b[38;5;124m'\u001b[39m : _fitness_map[\u001b[38;5;124m'\u001b[39m\u001b[38;5;124mmse\u001b[39m\u001b[38;5;124m'\u001b[39m],\n\u001b[0;32m     14\u001b[0m \u001b[38;5;124m'\u001b[39m\u001b[38;5;124mp_point_replace\u001b[39m\u001b[38;5;124m'\u001b[39m : \u001b[38;5;241m0.2\u001b[39m,\n\u001b[0;32m     15\u001b[0m \u001b[38;5;124m'\u001b[39m\u001b[38;5;124mparsimony_coefficient\u001b[39m\u001b[38;5;124m'\u001b[39m : \u001b[38;5;241m0.0\u001b[39m,\n\u001b[1;32m---> 16\u001b[0m \u001b[38;5;124m'\u001b[39m\u001b[38;5;124mrandom_state\u001b[39m\u001b[38;5;124m'\u001b[39m: check_random_state(\u001b[43mglobal_seed\u001b[49m\u001b[38;5;241m+\u001b[39m\u001b[38;5;241m1\u001b[39m),\n\u001b[0;32m     17\u001b[0m \u001b[38;5;124m'\u001b[39m\u001b[38;5;124moptim_dict\u001b[39m\u001b[38;5;124m'\u001b[39m: {\n\u001b[0;32m     18\u001b[0m         \u001b[38;5;124m'\u001b[39m\u001b[38;5;124malg\u001b[39m\u001b[38;5;124m'\u001b[39m:\u001b[38;5;124m'\u001b[39m\u001b[38;5;124madam\u001b[39m\u001b[38;5;124m'\u001b[39m,\n\u001b[0;32m     19\u001b[0m         \u001b[38;5;124m'\u001b[39m\u001b[38;5;124mlr\u001b[39m\u001b[38;5;124m'\u001b[39m: \u001b[38;5;241m1e-2\u001b[39m,\n\u001b[0;32m     20\u001b[0m         \u001b[38;5;124m'\u001b[39m\u001b[38;5;124mmax_n_epochs\u001b[39m\u001b[38;5;124m'\u001b[39m:\u001b[38;5;241m1000\u001b[39m,\n\u001b[0;32m     21\u001b[0m         \u001b[38;5;124m'\u001b[39m\u001b[38;5;124mtol\u001b[39m\u001b[38;5;124m'\u001b[39m:\u001b[38;5;241m1e-3\u001b[39m,\n\u001b[0;32m     22\u001b[0m         \u001b[38;5;124m'\u001b[39m\u001b[38;5;124mn_iter_no_change\u001b[39m\u001b[38;5;124m'\u001b[39m:\u001b[38;5;241m10\u001b[39m,\n\u001b[0;32m     23\u001b[0m         \u001b[38;5;124m'\u001b[39m\u001b[38;5;124mtask\u001b[39m\u001b[38;5;124m'\u001b[39m:task,\n\u001b[0;32m     24\u001b[0m         \u001b[38;5;124m'\u001b[39m\u001b[38;5;124mdevice\u001b[39m\u001b[38;5;124m'\u001b[39m:\u001b[38;5;124m'\u001b[39m\u001b[38;5;124mcpu\u001b[39m\u001b[38;5;124m'\u001b[39m,\n\u001b[0;32m     25\u001b[0m         \u001b[38;5;124m'\u001b[39m\u001b[38;5;124mbatch_size\u001b[39m\u001b[38;5;124m'\u001b[39m:\u001b[38;5;241m5000\u001b[39m,\n\u001b[0;32m     26\u001b[0m         \u001b[38;5;124m'\u001b[39m\u001b[38;5;124mshape_class\u001b[39m\u001b[38;5;124m'\u001b[39m:ShapeNN,\n\u001b[0;32m     27\u001b[0m         \u001b[38;5;124m'\u001b[39m\u001b[38;5;124mconstructor_dict\u001b[39m\u001b[38;5;124m'\u001b[39m: constructor_dict_ShapeNN,\n\u001b[0;32m     28\u001b[0m         \u001b[38;5;124m'\u001b[39m\u001b[38;5;124mnum_workers_dataloader\u001b[39m\u001b[38;5;124m'\u001b[39m: \u001b[38;5;241m0\u001b[39m,\n\u001b[0;32m     29\u001b[0m         \u001b[38;5;124m'\u001b[39m\u001b[38;5;124mseed\u001b[39m\u001b[38;5;124m'\u001b[39m:\u001b[38;5;241m0\u001b[39m\n\u001b[0;32m     30\u001b[0m         }\n\u001b[0;32m     31\u001b[0m }\n\u001b[0;32m     33\u001b[0m \u001b[38;5;66;03m# for i in range(10):\u001b[39;00m\n\u001b[0;32m     34\u001b[0m \u001b[38;5;66;03m#     program = _Program(**program_config)\u001b[39;00m\n\u001b[0;32m     35\u001b[0m \u001b[38;5;66;03m#     print(program)\u001b[39;00m\n\u001b[0;32m     37\u001b[0m program_list \u001b[38;5;241m=\u001b[39m [_function_map[\u001b[38;5;124m'\u001b[39m\u001b[38;5;124mshape\u001b[39m\u001b[38;5;124m'\u001b[39m],_function_map[\u001b[38;5;124m'\u001b[39m\u001b[38;5;124madd\u001b[39m\u001b[38;5;124m'\u001b[39m],_function_map[\u001b[38;5;124m'\u001b[39m\u001b[38;5;124mdiv\u001b[39m\u001b[38;5;124m'\u001b[39m],\u001b[38;5;241m0\u001b[39m,\u001b[38;5;241m1\u001b[39m,_function_map[\u001b[38;5;124m'\u001b[39m\u001b[38;5;124mshape\u001b[39m\u001b[38;5;124m'\u001b[39m],\u001b[38;5;241m2\u001b[39m]\n",
      "\u001b[1;31mNameError\u001b[0m: name 'global_seed' is not defined"
     ]
    }
   ],
   "source": [
    "from gplearn.gplearn.functions import _function_map\n",
    "from gplearn.gplearn.fitness import _fitness_map\n",
    "from gplearn.gplearn.utils import check_random_state\n",
    "from gplearn.gplearn._program import _Program\n",
    "\n",
    "program_config = {\n",
    "'function_set' : [_function_map['add'],_function_map['sub'],_function_map['mul'],_function_map['div'],_function_map['shape']],\n",
    "'arities' : {1: [_function_map['shape']], 2: [_function_map['add'],_function_map['sub'],_function_map['mul'],_function_map['div']]},\n",
    "'init_depth' : (2,5),\n",
    "'init_method' : 'half and half',\n",
    "'n_features' : 3,\n",
    "'const_range' : None,\n",
    "'metric' : _fitness_map['mse'],\n",
    "'p_point_replace' : 0.2,\n",
    "'parsimony_coefficient' : 0.0,\n",
    "'random_state': check_random_state(global_seed+1),\n",
    "'optim_dict': {\n",
    "        'alg':'adam',\n",
    "        'lr': 1e-2,\n",
    "        'max_n_epochs':1000,\n",
    "        'tol':1e-3,\n",
    "        'n_iter_no_change':10,\n",
    "        'task':task,\n",
    "        'device':'cpu',\n",
    "        'batch_size':5000,\n",
    "        'shape_class':ShapeNN,\n",
    "        'constructor_dict': constructor_dict_ShapeNN,\n",
    "        'num_workers_dataloader': 0,\n",
    "        'seed':0\n",
    "        }\n",
    "}\n",
    "\n",
    "# for i in range(10):\n",
    "#     program = _Program(**program_config)\n",
    "#     print(program)\n",
    "\n",
    "program_list = [_function_map['shape'],_function_map['add'],_function_map['div'],0,1,_function_map['shape'],2]\n",
    "program = _Program(**program_config, program=program_list)"
   ]
  },
  {
   "cell_type": "code",
   "execution_count": null,
   "id": "96ffcfe2",
   "metadata": {},
   "outputs": [],
   "source": [
    "device = torch.device('cpu')\n",
    "# params['ohe_matrices'] = self._create_ohe_matrices(X,self.categorical_variables, device=device)\n",
    "\n",
    "X_t = torch.from_numpy(np.array(X)).float().to(device)\n",
    "y_t = torch.from_numpy(np.array(y)).float().to(device)\n",
    "program.raw_fitness(X_t,y_t,sample_weight=np.ones(X_t.shape[0]),ohe_matrices={})"
   ]
  },
  {
   "cell_type": "code",
   "execution_count": 8,
   "id": "f8c4eef8",
   "metadata": {},
   "outputs": [],
   "source": [
    "%reload_ext tensorboard"
   ]
  },
  {
   "cell_type": "code",
   "execution_count": 9,
   "id": "fefdbe58",
   "metadata": {},
   "outputs": [
    {
     "data": {
      "text/html": [
       "\n",
       "      <iframe id=\"tensorboard-frame-99bbc5a08428468b\" width=\"100%\" height=\"800\" frameborder=\"0\">\n",
       "      </iframe>\n",
       "      <script>\n",
       "        (function() {\n",
       "          const frame = document.getElementById(\"tensorboard-frame-99bbc5a08428468b\");\n",
       "          const url = new URL(\"/\", window.location);\n",
       "          const port = 6006;\n",
       "          if (port) {\n",
       "            url.port = port;\n",
       "          }\n",
       "          frame.src = url;\n",
       "        })();\n",
       "      </script>\n",
       "    "
      ],
      "text/plain": [
       "<IPython.core.display.HTML object>"
      ]
     },
     "metadata": {},
     "output_type": "display_data"
    }
   ],
   "source": [
    "%tensorboard --logdir tb_logs"
   ]
  },
  {
   "cell_type": "code",
   "execution_count": 19,
   "id": "9bf3f077",
   "metadata": {},
   "outputs": [
    {
     "name": "stdout",
     "output_type": "stream",
     "text": [
      "{1: (-100, -10), 0: (-130.12759908040366, 1119.5237121582031)}\n"
     ]
    },
    {
     "data": {
      "image/png": "[encoded data removed]",
      "text/plain": [
       "<Figure size 640x480 with 1 Axes>"
      ]
     },
     "metadata": {},
     "output_type": "display_data"
    },
    {
     "data": {
      "image/png": "[encoded data removed]",
      "text/plain": [
       "<Figure size 640x480 with 1 Axes>"
      ]
     },
     "metadata": {},
     "output_type": "display_data"
    }
   ],
   "source": [
    "program.plot_shape_functions(numerical_arguments, categorical_arguments, steps=1000)"
   ]
  },
  {
   "cell_type": "code",
   "execution_count": 3,
   "id": "0c01515a",
   "metadata": {},
   "outputs": [
    {
     "name": "stdout",
     "output_type": "stream",
     "text": [
      "Config(device='cpu', seed=2021, data_path='data/GALLUP.csv', experiment_name='NAM', regression=True, num_epochs=10, lr=0.01, batch_size=128, logdir='output', wandb=False, hidden_sizes=[], activation='exu', dropout=0.1, feature_dropout=0.1, decay_rate=0.995, l2_regularization=1.0, output_regularization=0.1, num_basis_functions=1000, units_multiplier=2, shuffle=True, cross_val=True, num_folds=5, num_splits=3, fold_num=1, num_models=1, num_workers=16, save_model_frequency=2, save_top_k=3, use_dnn=False, early_stopping_patience=50)\n"
     ]
    }
   ],
   "source": [
    "config = defaults()\n",
    "config.cross_val = True\n",
    "config.l2_regularization=1.0\n",
    "config.regression=True\n",
    "print(config)"
   ]
  },
  {
   "cell_type": "code",
   "execution_count": 16,
   "id": "22193801",
   "metadata": {},
   "outputs": [
    {
     "name": "stderr",
     "output_type": "stream",
     "text": [
      "C:\\Users\\krkac\\Miniconda3\\envs\\esr\\lib\\site-packages\\torch\\nn\\init.py:176: UserWarning: mean is more than 2 std from [a, b] in nn.init.trunc_normal_. The distribution of values may be incorrect.\n",
      "  return _no_grad_trunc_normal_(tensor, mean, std, a, b)\n"
     ]
    },
    {
     "data": {
      "text/plain": [
       "NAM(\n",
       "  (dropout): Dropout(p=0.1, inplace=False)\n",
       "  (feature_nns): ModuleList(\n",
       "    (0): FeatureNN(\n",
       "      (dropout): Dropout(p=0.1, inplace=False)\n",
       "      (model): ModuleList(\n",
       "        (0): ExU(in_features=1, out_features=1000)\n",
       "        (1): Linear(in_features=1000, out_features=1, bias=True)\n",
       "      )\n",
       "    )\n",
       "    (1): FeatureNN(\n",
       "      (dropout): Dropout(p=0.1, inplace=False)\n",
       "      (model): ModuleList(\n",
       "        (0): ExU(in_features=1, out_features=1000)\n",
       "        (1): Linear(in_features=1000, out_features=1, bias=True)\n",
       "      )\n",
       "    )\n",
       "    (2): FeatureNN(\n",
       "      (dropout): Dropout(p=0.1, inplace=False)\n",
       "      (model): ModuleList(\n",
       "        (0): ExU(in_features=1, out_features=1000)\n",
       "        (1): Linear(in_features=1000, out_features=1, bias=True)\n",
       "      )\n",
       "    )\n",
       "  )\n",
       ")"
      ]
     },
     "execution_count": 16,
     "metadata": {},
     "output_type": "execute_result"
    }
   ],
   "source": [
    "# dataset = load_sklearn_housing_data(config)\n",
    "\n",
    "df = generate_data(1000, (0,800), (1,10), (-100,0), seed=0)\n",
    "\n",
    "feature_columns = ['mass','energy','initial_temp']\n",
    "target_column = 'temperature'\n",
    "\n",
    "dataset = FoldedDataset(config,\n",
    "                      data_path=df,\n",
    "                      features_columns=feature_columns,\n",
    "                      targets_column=target_column)\n",
    "\n",
    "dataloaders = dataset.train_dataloaders()\n",
    "model = NAM(\n",
    "  config=config,\n",
    "  name=\"NAM\",\n",
    "  num_inputs=len(dataset[0][0]),\n",
    "  num_units=get_num_units(config, dataset.features),\n",
    ")\n",
    "model\n"
   ]
  },
  {
   "cell_type": "code",
   "execution_count": 17,
   "id": "39612a50",
   "metadata": {},
   "outputs": [
    {
     "name": "stderr",
     "output_type": "stream",
     "text": [
      "2023-01-20 23:25:48.015 | INFO     | nam.data.folded:train_dataloaders:80 - Fold[1]: train: 582, val: 84\n",
      "GPU available: True (cuda), used: False\n",
      "TPU available: False, using: 0 TPU cores\n",
      "IPU available: False, using: 0 IPUs\n",
      "HPU available: False, using: 0 HPUs\n",
      "C:\\Users\\krkac\\Miniconda3\\envs\\esr\\lib\\site-packages\\pytorch_lightning\\trainer\\setup.py:175: PossibleUserWarning: GPU available but not used. Set `accelerator` and `devices` using `Trainer(accelerator='gpu', devices=1)`.\n",
      "  rank_zero_warn(\n",
      "C:\\Users\\krkac\\Miniconda3\\envs\\esr\\lib\\site-packages\\pytorch_lightning\\callbacks\\model_checkpoint.py:612: UserWarning: Checkpoint directory output\\NAM\\fold_1\\checkpoints exists and is not empty.\n",
      "  rank_zero_warn(f\"Checkpoint directory {dirpath} exists and is not empty.\")\n",
      "\n",
      "  | Name  | Type | Params\n",
      "-------------------------------\n",
      "0 | model | NAM  | 6.0 K \n",
      "-------------------------------\n",
      "6.0 K     Trainable params\n",
      "0         Non-trainable params\n",
      "6.0 K     Total params\n",
      "0.024     Total estimated model params size (MB)\n"
     ]
    },
    {
     "data": {
      "application/vnd.jupyter.widget-view+json": {
       "model_id": "",
       "version_major": 2,
       "version_minor": 0
      },
      "text/plain": [
       "Sanity Checking: 0it [00:00, ?it/s]"
      ]
     },
     "metadata": {},
     "output_type": "display_data"
    },
    {
     "name": "stderr",
     "output_type": "stream",
     "text": [
      "C:\\Users\\krkac\\Miniconda3\\envs\\esr\\lib\\site-packages\\pytorch_lightning\\trainer\\connectors\\data_connector.py:224: PossibleUserWarning: The dataloader, val_dataloader 0, does not have many workers which may be a bottleneck. Consider increasing the value of the `num_workers` argument` (try 20 which is the number of cpus on this machine) in the `DataLoader` init to improve performance.\n",
      "  rank_zero_warn(\n",
      "C:\\Users\\krkac\\Miniconda3\\envs\\esr\\lib\\site-packages\\pytorch_lightning\\trainer\\connectors\\data_connector.py:224: PossibleUserWarning: The dataloader, train_dataloader, does not have many workers which may be a bottleneck. Consider increasing the value of the `num_workers` argument` (try 20 which is the number of cpus on this machine) in the `DataLoader` init to improve performance.\n",
      "  rank_zero_warn(\n",
      "C:\\Users\\krkac\\Miniconda3\\envs\\esr\\lib\\site-packages\\pytorch_lightning\\trainer\\trainer.py:1600: PossibleUserWarning: The number of training batches (5) is smaller than the logging interval Trainer(log_every_n_steps=50). Set a lower value for log_every_n_steps if you want to see logs for the training epoch.\n",
      "  rank_zero_warn(\n"
     ]
    },
    {
     "data": {
      "application/vnd.jupyter.widget-view+json": {
       "model_id": "c63214d013c54388b051e1d9df6eb2d8",
       "version_major": 2,
       "version_minor": 0
      },
      "text/plain": [
       "Training: 0it [00:00, ?it/s]"
      ]
     },
     "metadata": {},
     "output_type": "display_data"
    },
    {
     "data": {
      "application/vnd.jupyter.widget-view+json": {
       "model_id": "",
       "version_major": 2,
       "version_minor": 0
      },
      "text/plain": [
       "Validation: 0it [00:00, ?it/s]"
      ]
     },
     "metadata": {},
     "output_type": "display_data"
    },
    {
     "data": {
      "application/vnd.jupyter.widget-view+json": {
       "model_id": "",
       "version_major": 2,
       "version_minor": 0
      },
      "text/plain": [
       "Validation: 0it [00:00, ?it/s]"
      ]
     },
     "metadata": {},
     "output_type": "display_data"
    },
    {
     "data": {
      "application/vnd.jupyter.widget-view+json": {
       "model_id": "",
       "version_major": 2,
       "version_minor": 0
      },
      "text/plain": [
       "Validation: 0it [00:00, ?it/s]"
      ]
     },
     "metadata": {},
     "output_type": "display_data"
    },
    {
     "data": {
      "application/vnd.jupyter.widget-view+json": {
       "model_id": "",
       "version_major": 2,
       "version_minor": 0
      },
      "text/plain": [
       "Validation: 0it [00:00, ?it/s]"
      ]
     },
     "metadata": {},
     "output_type": "display_data"
    },
    {
     "data": {
      "application/vnd.jupyter.widget-view+json": {
       "model_id": "",
       "version_major": 2,
       "version_minor": 0
      },
      "text/plain": [
       "Validation: 0it [00:00, ?it/s]"
      ]
     },
     "metadata": {},
     "output_type": "display_data"
    },
    {
     "data": {
      "application/vnd.jupyter.widget-view+json": {
       "model_id": "",
       "version_major": 2,
       "version_minor": 0
      },
      "text/plain": [
       "Validation: 0it [00:00, ?it/s]"
      ]
     },
     "metadata": {},
     "output_type": "display_data"
    },
    {
     "data": {
      "application/vnd.jupyter.widget-view+json": {
       "model_id": "",
       "version_major": 2,
       "version_minor": 0
      },
      "text/plain": [
       "Validation: 0it [00:00, ?it/s]"
      ]
     },
     "metadata": {},
     "output_type": "display_data"
    },
    {
     "data": {
      "application/vnd.jupyter.widget-view+json": {
       "model_id": "",
       "version_major": 2,
       "version_minor": 0
      },
      "text/plain": [
       "Validation: 0it [00:00, ?it/s]"
      ]
     },
     "metadata": {},
     "output_type": "display_data"
    },
    {
     "data": {
      "application/vnd.jupyter.widget-view+json": {
       "model_id": "",
       "version_major": 2,
       "version_minor": 0
      },
      "text/plain": [
       "Validation: 0it [00:00, ?it/s]"
      ]
     },
     "metadata": {},
     "output_type": "display_data"
    },
    {
     "data": {
      "application/vnd.jupyter.widget-view+json": {
       "model_id": "",
       "version_major": 2,
       "version_minor": 0
      },
      "text/plain": [
       "Validation: 0it [00:00, ?it/s]"
      ]
     },
     "metadata": {},
     "output_type": "display_data"
    },
    {
     "name": "stderr",
     "output_type": "stream",
     "text": [
      "`Trainer.fit` stopped: `max_epochs=10` reached.\n",
      "2023-01-20 23:25:49.139 | INFO     | nam.data.folded:train_dataloaders:80 - Fold[2]: train: 582, val: 84\n",
      "GPU available: True (cuda), used: False\n",
      "TPU available: False, using: 0 TPU cores\n",
      "IPU available: False, using: 0 IPUs\n",
      "HPU available: False, using: 0 HPUs\n",
      "C:\\Users\\krkac\\Miniconda3\\envs\\esr\\lib\\site-packages\\pytorch_lightning\\callbacks\\model_checkpoint.py:612: UserWarning: Checkpoint directory output\\NAM\\fold_2\\checkpoints exists and is not empty.\n",
      "  rank_zero_warn(f\"Checkpoint directory {dirpath} exists and is not empty.\")\n",
      "\n",
      "  | Name  | Type | Params\n",
      "-------------------------------\n",
      "0 | model | NAM  | 6.0 K \n",
      "-------------------------------\n",
      "6.0 K     Trainable params\n",
      "0         Non-trainable params\n",
      "6.0 K     Total params\n",
      "0.024     Total estimated model params size (MB)\n"
     ]
    },
    {
     "data": {
      "application/vnd.jupyter.widget-view+json": {
       "model_id": "",
       "version_major": 2,
       "version_minor": 0
      },
      "text/plain": [
       "Sanity Checking: 0it [00:00, ?it/s]"
      ]
     },
     "metadata": {},
     "output_type": "display_data"
    },
    {
     "data": {
      "application/vnd.jupyter.widget-view+json": {
       "model_id": "f72d2d9fa20a43868786aef0fd1257f2",
       "version_major": 2,
       "version_minor": 0
      },
      "text/plain": [
       "Training: 0it [00:00, ?it/s]"
      ]
     },
     "metadata": {},
     "output_type": "display_data"
    },
    {
     "data": {
      "application/vnd.jupyter.widget-view+json": {
       "model_id": "",
       "version_major": 2,
       "version_minor": 0
      },
      "text/plain": [
       "Validation: 0it [00:00, ?it/s]"
      ]
     },
     "metadata": {},
     "output_type": "display_data"
    },
    {
     "data": {
      "application/vnd.jupyter.widget-view+json": {
       "model_id": "",
       "version_major": 2,
       "version_minor": 0
      },
      "text/plain": [
       "Validation: 0it [00:00, ?it/s]"
      ]
     },
     "metadata": {},
     "output_type": "display_data"
    },
    {
     "data": {
      "application/vnd.jupyter.widget-view+json": {
       "model_id": "",
       "version_major": 2,
       "version_minor": 0
      },
      "text/plain": [
       "Validation: 0it [00:00, ?it/s]"
      ]
     },
     "metadata": {},
     "output_type": "display_data"
    },
    {
     "data": {
      "application/vnd.jupyter.widget-view+json": {
       "model_id": "",
       "version_major": 2,
       "version_minor": 0
      },
      "text/plain": [
       "Validation: 0it [00:00, ?it/s]"
      ]
     },
     "metadata": {},
     "output_type": "display_data"
    },
    {
     "data": {
      "application/vnd.jupyter.widget-view+json": {
       "model_id": "",
       "version_major": 2,
       "version_minor": 0
      },
      "text/plain": [
       "Validation: 0it [00:00, ?it/s]"
      ]
     },
     "metadata": {},
     "output_type": "display_data"
    },
    {
     "data": {
      "application/vnd.jupyter.widget-view+json": {
       "model_id": "",
       "version_major": 2,
       "version_minor": 0
      },
      "text/plain": [
       "Validation: 0it [00:00, ?it/s]"
      ]
     },
     "metadata": {},
     "output_type": "display_data"
    },
    {
     "data": {
      "application/vnd.jupyter.widget-view+json": {
       "model_id": "",
       "version_major": 2,
       "version_minor": 0
      },
      "text/plain": [
       "Validation: 0it [00:00, ?it/s]"
      ]
     },
     "metadata": {},
     "output_type": "display_data"
    },
    {
     "data": {
      "application/vnd.jupyter.widget-view+json": {
       "model_id": "",
       "version_major": 2,
       "version_minor": 0
      },
      "text/plain": [
       "Validation: 0it [00:00, ?it/s]"
      ]
     },
     "metadata": {},
     "output_type": "display_data"
    },
    {
     "data": {
      "application/vnd.jupyter.widget-view+json": {
       "model_id": "",
       "version_major": 2,
       "version_minor": 0
      },
      "text/plain": [
       "Validation: 0it [00:00, ?it/s]"
      ]
     },
     "metadata": {},
     "output_type": "display_data"
    },
    {
     "data": {
      "application/vnd.jupyter.widget-view+json": {
       "model_id": "",
       "version_major": 2,
       "version_minor": 0
      },
      "text/plain": [
       "Validation: 0it [00:00, ?it/s]"
      ]
     },
     "metadata": {},
     "output_type": "display_data"
    },
    {
     "name": "stderr",
     "output_type": "stream",
     "text": [
      "`Trainer.fit` stopped: `max_epochs=10` reached.\n",
      "2023-01-20 23:25:50.260 | INFO     | nam.data.folded:train_dataloaders:80 - Fold[3]: train: 582, val: 84\n",
      "GPU available: True (cuda), used: False\n",
      "TPU available: False, using: 0 TPU cores\n",
      "IPU available: False, using: 0 IPUs\n",
      "HPU available: False, using: 0 HPUs\n",
      "C:\\Users\\krkac\\Miniconda3\\envs\\esr\\lib\\site-packages\\pytorch_lightning\\callbacks\\model_checkpoint.py:612: UserWarning: Checkpoint directory output\\NAM\\fold_3\\checkpoints exists and is not empty.\n",
      "  rank_zero_warn(f\"Checkpoint directory {dirpath} exists and is not empty.\")\n",
      "\n",
      "  | Name  | Type | Params\n",
      "-------------------------------\n",
      "0 | model | NAM  | 6.0 K \n",
      "-------------------------------\n",
      "6.0 K     Trainable params\n",
      "0         Non-trainable params\n",
      "6.0 K     Total params\n",
      "0.024     Total estimated model params size (MB)\n"
     ]
    },
    {
     "data": {
      "application/vnd.jupyter.widget-view+json": {
       "model_id": "",
       "version_major": 2,
       "version_minor": 0
      },
      "text/plain": [
       "Sanity Checking: 0it [00:00, ?it/s]"
      ]
     },
     "metadata": {},
     "output_type": "display_data"
    },
    {
     "data": {
      "application/vnd.jupyter.widget-view+json": {
       "model_id": "a0fa5e129c0d48b7add6b94125343e4b",
       "version_major": 2,
       "version_minor": 0
      },
      "text/plain": [
       "Training: 0it [00:00, ?it/s]"
      ]
     },
     "metadata": {},
     "output_type": "display_data"
    },
    {
     "data": {
      "application/vnd.jupyter.widget-view+json": {
       "model_id": "",
       "version_major": 2,
       "version_minor": 0
      },
      "text/plain": [
       "Validation: 0it [00:00, ?it/s]"
      ]
     },
     "metadata": {},
     "output_type": "display_data"
    },
    {
     "data": {
      "application/vnd.jupyter.widget-view+json": {
       "model_id": "",
       "version_major": 2,
       "version_minor": 0
      },
      "text/plain": [
       "Validation: 0it [00:00, ?it/s]"
      ]
     },
     "metadata": {},
     "output_type": "display_data"
    },
    {
     "data": {
      "application/vnd.jupyter.widget-view+json": {
       "model_id": "",
       "version_major": 2,
       "version_minor": 0
      },
      "text/plain": [
       "Validation: 0it [00:00, ?it/s]"
      ]
     },
     "metadata": {},
     "output_type": "display_data"
    },
    {
     "data": {
      "application/vnd.jupyter.widget-view+json": {
       "model_id": "",
       "version_major": 2,
       "version_minor": 0
      },
      "text/plain": [
       "Validation: 0it [00:00, ?it/s]"
      ]
     },
     "metadata": {},
     "output_type": "display_data"
    },
    {
     "data": {
      "application/vnd.jupyter.widget-view+json": {
       "model_id": "",
       "version_major": 2,
       "version_minor": 0
      },
      "text/plain": [
       "Validation: 0it [00:00, ?it/s]"
      ]
     },
     "metadata": {},
     "output_type": "display_data"
    },
    {
     "data": {
      "application/vnd.jupyter.widget-view+json": {
       "model_id": "",
       "version_major": 2,
       "version_minor": 0
      },
      "text/plain": [
       "Validation: 0it [00:00, ?it/s]"
      ]
     },
     "metadata": {},
     "output_type": "display_data"
    },
    {
     "data": {
      "application/vnd.jupyter.widget-view+json": {
       "model_id": "",
       "version_major": 2,
       "version_minor": 0
      },
      "text/plain": [
       "Validation: 0it [00:00, ?it/s]"
      ]
     },
     "metadata": {},
     "output_type": "display_data"
    },
    {
     "data": {
      "application/vnd.jupyter.widget-view+json": {
       "model_id": "",
       "version_major": 2,
       "version_minor": 0
      },
      "text/plain": [
       "Validation: 0it [00:00, ?it/s]"
      ]
     },
     "metadata": {},
     "output_type": "display_data"
    },
    {
     "data": {
      "application/vnd.jupyter.widget-view+json": {
       "model_id": "",
       "version_major": 2,
       "version_minor": 0
      },
      "text/plain": [
       "Validation: 0it [00:00, ?it/s]"
      ]
     },
     "metadata": {},
     "output_type": "display_data"
    },
    {
     "data": {
      "application/vnd.jupyter.widget-view+json": {
       "model_id": "",
       "version_major": 2,
       "version_minor": 0
      },
      "text/plain": [
       "Validation: 0it [00:00, ?it/s]"
      ]
     },
     "metadata": {},
     "output_type": "display_data"
    },
    {
     "name": "stderr",
     "output_type": "stream",
     "text": [
      "`Trainer.fit` stopped: `max_epochs=10` reached.\n",
      "2023-01-20 23:25:51.408 | INFO     | nam.data.folded:train_dataloaders:80 - Fold[4]: train: 582, val: 84\n",
      "GPU available: True (cuda), used: False\n",
      "TPU available: False, using: 0 TPU cores\n",
      "IPU available: False, using: 0 IPUs\n",
      "HPU available: False, using: 0 HPUs\n",
      "C:\\Users\\krkac\\Miniconda3\\envs\\esr\\lib\\site-packages\\pytorch_lightning\\callbacks\\model_checkpoint.py:612: UserWarning: Checkpoint directory output\\NAM\\fold_4\\checkpoints exists and is not empty.\n",
      "  rank_zero_warn(f\"Checkpoint directory {dirpath} exists and is not empty.\")\n",
      "\n",
      "  | Name  | Type | Params\n",
      "-------------------------------\n",
      "0 | model | NAM  | 6.0 K \n",
      "-------------------------------\n",
      "6.0 K     Trainable params\n",
      "0         Non-trainable params\n",
      "6.0 K     Total params\n",
      "0.024     Total estimated model params size (MB)\n"
     ]
    },
    {
     "data": {
      "application/vnd.jupyter.widget-view+json": {
       "model_id": "",
       "version_major": 2,
       "version_minor": 0
      },
      "text/plain": [
       "Sanity Checking: 0it [00:00, ?it/s]"
      ]
     },
     "metadata": {},
     "output_type": "display_data"
    },
    {
     "data": {
      "application/vnd.jupyter.widget-view+json": {
       "model_id": "8bd36f0c99f1413db2c3667ca115323e",
       "version_major": 2,
       "version_minor": 0
      },
      "text/plain": [
       "Training: 0it [00:00, ?it/s]"
      ]
     },
     "metadata": {},
     "output_type": "display_data"
    },
    {
     "data": {
      "application/vnd.jupyter.widget-view+json": {
       "model_id": "",
       "version_major": 2,
       "version_minor": 0
      },
      "text/plain": [
       "Validation: 0it [00:00, ?it/s]"
      ]
     },
     "metadata": {},
     "output_type": "display_data"
    },
    {
     "data": {
      "application/vnd.jupyter.widget-view+json": {
       "model_id": "",
       "version_major": 2,
       "version_minor": 0
      },
      "text/plain": [
       "Validation: 0it [00:00, ?it/s]"
      ]
     },
     "metadata": {},
     "output_type": "display_data"
    },
    {
     "data": {
      "application/vnd.jupyter.widget-view+json": {
       "model_id": "",
       "version_major": 2,
       "version_minor": 0
      },
      "text/plain": [
       "Validation: 0it [00:00, ?it/s]"
      ]
     },
     "metadata": {},
     "output_type": "display_data"
    },
    {
     "data": {
      "application/vnd.jupyter.widget-view+json": {
       "model_id": "",
       "version_major": 2,
       "version_minor": 0
      },
      "text/plain": [
       "Validation: 0it [00:00, ?it/s]"
      ]
     },
     "metadata": {},
     "output_type": "display_data"
    },
    {
     "data": {
      "application/vnd.jupyter.widget-view+json": {
       "model_id": "",
       "version_major": 2,
       "version_minor": 0
      },
      "text/plain": [
       "Validation: 0it [00:00, ?it/s]"
      ]
     },
     "metadata": {},
     "output_type": "display_data"
    },
    {
     "data": {
      "application/vnd.jupyter.widget-view+json": {
       "model_id": "",
       "version_major": 2,
       "version_minor": 0
      },
      "text/plain": [
       "Validation: 0it [00:00, ?it/s]"
      ]
     },
     "metadata": {},
     "output_type": "display_data"
    },
    {
     "data": {
      "application/vnd.jupyter.widget-view+json": {
       "model_id": "",
       "version_major": 2,
       "version_minor": 0
      },
      "text/plain": [
       "Validation: 0it [00:00, ?it/s]"
      ]
     },
     "metadata": {},
     "output_type": "display_data"
    },
    {
     "data": {
      "application/vnd.jupyter.widget-view+json": {
       "model_id": "",
       "version_major": 2,
       "version_minor": 0
      },
      "text/plain": [
       "Validation: 0it [00:00, ?it/s]"
      ]
     },
     "metadata": {},
     "output_type": "display_data"
    },
    {
     "data": {
      "application/vnd.jupyter.widget-view+json": {
       "model_id": "",
       "version_major": 2,
       "version_minor": 0
      },
      "text/plain": [
       "Validation: 0it [00:00, ?it/s]"
      ]
     },
     "metadata": {},
     "output_type": "display_data"
    },
    {
     "data": {
      "application/vnd.jupyter.widget-view+json": {
       "model_id": "",
       "version_major": 2,
       "version_minor": 0
      },
      "text/plain": [
       "Validation: 0it [00:00, ?it/s]"
      ]
     },
     "metadata": {},
     "output_type": "display_data"
    },
    {
     "name": "stderr",
     "output_type": "stream",
     "text": [
      "`Trainer.fit` stopped: `max_epochs=10` reached.\n",
      "2023-01-20 23:25:52.529 | INFO     | nam.data.folded:train_dataloaders:80 - Fold[5]: train: 582, val: 84\n",
      "GPU available: True (cuda), used: False\n",
      "TPU available: False, using: 0 TPU cores\n",
      "IPU available: False, using: 0 IPUs\n",
      "HPU available: False, using: 0 HPUs\n",
      "C:\\Users\\krkac\\Miniconda3\\envs\\esr\\lib\\site-packages\\pytorch_lightning\\callbacks\\model_checkpoint.py:612: UserWarning: Checkpoint directory output\\NAM\\fold_5\\checkpoints exists and is not empty.\n",
      "  rank_zero_warn(f\"Checkpoint directory {dirpath} exists and is not empty.\")\n",
      "\n",
      "  | Name  | Type | Params\n",
      "-------------------------------\n",
      "0 | model | NAM  | 6.0 K \n",
      "-------------------------------\n",
      "6.0 K     Trainable params\n",
      "0         Non-trainable params\n",
      "6.0 K     Total params\n",
      "0.024     Total estimated model params size (MB)\n"
     ]
    },
    {
     "data": {
      "application/vnd.jupyter.widget-view+json": {
       "model_id": "",
       "version_major": 2,
       "version_minor": 0
      },
      "text/plain": [
       "Sanity Checking: 0it [00:00, ?it/s]"
      ]
     },
     "metadata": {},
     "output_type": "display_data"
    },
    {
     "data": {
      "application/vnd.jupyter.widget-view+json": {
       "model_id": "c695963532814d71b9e1ff14c615f59b",
       "version_major": 2,
       "version_minor": 0
      },
      "text/plain": [
       "Training: 0it [00:00, ?it/s]"
      ]
     },
     "metadata": {},
     "output_type": "display_data"
    },
    {
     "data": {
      "application/vnd.jupyter.widget-view+json": {
       "model_id": "",
       "version_major": 2,
       "version_minor": 0
      },
      "text/plain": [
       "Validation: 0it [00:00, ?it/s]"
      ]
     },
     "metadata": {},
     "output_type": "display_data"
    },
    {
     "data": {
      "application/vnd.jupyter.widget-view+json": {
       "model_id": "",
       "version_major": 2,
       "version_minor": 0
      },
      "text/plain": [
       "Validation: 0it [00:00, ?it/s]"
      ]
     },
     "metadata": {},
     "output_type": "display_data"
    },
    {
     "data": {
      "application/vnd.jupyter.widget-view+json": {
       "model_id": "",
       "version_major": 2,
       "version_minor": 0
      },
      "text/plain": [
       "Validation: 0it [00:00, ?it/s]"
      ]
     },
     "metadata": {},
     "output_type": "display_data"
    },
    {
     "data": {
      "application/vnd.jupyter.widget-view+json": {
       "model_id": "",
       "version_major": 2,
       "version_minor": 0
      },
      "text/plain": [
       "Validation: 0it [00:00, ?it/s]"
      ]
     },
     "metadata": {},
     "output_type": "display_data"
    },
    {
     "data": {
      "application/vnd.jupyter.widget-view+json": {
       "model_id": "",
       "version_major": 2,
       "version_minor": 0
      },
      "text/plain": [
       "Validation: 0it [00:00, ?it/s]"
      ]
     },
     "metadata": {},
     "output_type": "display_data"
    },
    {
     "data": {
      "application/vnd.jupyter.widget-view+json": {
       "model_id": "",
       "version_major": 2,
       "version_minor": 0
      },
      "text/plain": [
       "Validation: 0it [00:00, ?it/s]"
      ]
     },
     "metadata": {},
     "output_type": "display_data"
    },
    {
     "data": {
      "application/vnd.jupyter.widget-view+json": {
       "model_id": "",
       "version_major": 2,
       "version_minor": 0
      },
      "text/plain": [
       "Validation: 0it [00:00, ?it/s]"
      ]
     },
     "metadata": {},
     "output_type": "display_data"
    },
    {
     "data": {
      "application/vnd.jupyter.widget-view+json": {
       "model_id": "",
       "version_major": 2,
       "version_minor": 0
      },
      "text/plain": [
       "Validation: 0it [00:00, ?it/s]"
      ]
     },
     "metadata": {},
     "output_type": "display_data"
    },
    {
     "data": {
      "application/vnd.jupyter.widget-view+json": {
       "model_id": "",
       "version_major": 2,
       "version_minor": 0
      },
      "text/plain": [
       "Validation: 0it [00:00, ?it/s]"
      ]
     },
     "metadata": {},
     "output_type": "display_data"
    },
    {
     "data": {
      "application/vnd.jupyter.widget-view+json": {
       "model_id": "",
       "version_major": 2,
       "version_minor": 0
      },
      "text/plain": [
       "Validation: 0it [00:00, ?it/s]"
      ]
     },
     "metadata": {},
     "output_type": "display_data"
    },
    {
     "name": "stderr",
     "output_type": "stream",
     "text": [
      "`Trainer.fit` stopped: `max_epochs=10` reached.\n"
     ]
    }
   ],
   "source": [
    "for fold, (trainloader, valloader) in enumerate(dataloaders):\n",
    "\n",
    "    tb_logger = TensorBoardLogger(save_dir=config.logdir,\n",
    "                                name=f'{model.name}',\n",
    "                                version=f'fold_{fold + 1}')\n",
    "\n",
    "    checkpoint_callback = ModelCheckpoint(filename=tb_logger.log_dir +\n",
    "                                        \"/{epoch:02d}-{val_loss:.4f}\",\n",
    "                                        monitor='val_loss',\n",
    "                                        save_top_k=config.save_top_k,\n",
    "                                        mode='min')\n",
    "\n",
    "    litmodel = LitNAM(config, model)\n",
    "    trainer = pl.Trainer(logger=tb_logger,\n",
    "                       max_epochs=config.num_epochs,)\n",
    "                    #    checkpoint_callback=checkpoint_callback)\n",
    "    trainer.fit(litmodel,\n",
    "              train_dataloaders=trainloader,\n",
    "              val_dataloaders=valloader)"
   ]
  },
  {
   "cell_type": "code",
   "execution_count": 11,
   "id": "949cf953",
   "metadata": {},
   "outputs": [
    {
     "name": "stderr",
     "output_type": "stream",
     "text": [
      "C:\\Users\\krkac\\Miniconda3\\envs\\esr\\lib\\site-packages\\pytorch_lightning\\trainer\\connectors\\checkpoint_connector.py:124: UserWarning: `.test(ckpt_path=None)` was called without a model. The best model of the previous `fit` call will be used. You can pass `.test(ckpt_path='best')` to use the best model or `.test(ckpt_path='last')` to use the last model. If you pass a value, this warning will be silenced.\n",
      "  rank_zero_warn(\n",
      "Restoring states from the checkpoint path at output\\NAM\\fold_5\\checkpoints\\epoch=9-step=50-v1.ckpt\n",
      "Loaded model weights from checkpoint at output\\NAM\\fold_5\\checkpoints\\epoch=9-step=50-v1.ckpt\n",
      "C:\\Users\\krkac\\Miniconda3\\envs\\esr\\lib\\site-packages\\pytorch_lightning\\trainer\\connectors\\data_connector.py:224: PossibleUserWarning: The dataloader, test_dataloader 0, does not have many workers which may be a bottleneck. Consider increasing the value of the `num_workers` argument` (try 20 which is the number of cpus on this machine) in the `DataLoader` init to improve performance.\n",
      "  rank_zero_warn(\n"
     ]
    },
    {
     "data": {
      "application/vnd.jupyter.widget-view+json": {
       "model_id": "f67e24b69b1f4909a70f9fbee5036a96",
       "version_major": 2,
       "version_minor": 0
      },
      "text/plain": [
       "Testing: 0it [00:00, ?it/s]"
      ]
     },
     "metadata": {},
     "output_type": "display_data"
    },
    {
     "name": "stdout",
     "output_type": "stream",
     "text": [
      "────────────────────────────────────────────────────────────────────────────────────────────────────────────────────────\r\n",
      "       Test metric             DataLoader 0\r\n",
      "────────────────────────────────────────────────────────────────────────────────────────────────────────────────────────\r\n",
      "    MAE_metric_epoch        38.216773986816406\r\n",
      "     test_loss_epoch         2229.598388671875\r\n",
      "────────────────────────────────────────────────────────────────────────────────────────────────────────────────────────\n"
     ]
    },
    {
     "data": {
      "text/plain": [
       "[{'test_loss_epoch': 2229.598388671875,\n",
       "  'MAE_metric_epoch': 38.216773986816406}]"
      ]
     },
     "execution_count": 11,
     "metadata": {},
     "output_type": "execute_result"
    }
   ],
   "source": [
    "trainer.test(dataloaders=dataset.test_dataloaders())"
   ]
  },
  {
   "cell_type": "code",
   "execution_count": 18,
   "id": "5465f200",
   "metadata": {},
   "outputs": [
    {
     "data": {
      "text/plain": [
       "<pytorch_lightning.loggers.tensorboard.TensorBoardLogger at 0x27f59358ee0>"
      ]
     },
     "execution_count": 18,
     "metadata": {},
     "output_type": "execute_result"
    }
   ],
   "source": [
    "tb_logger"
   ]
  },
  {
   "cell_type": "code",
   "execution_count": 19,
   "id": "dbce53df",
   "metadata": {},
   "outputs": [
    {
     "data": {
      "text/plain": [
       "LitNAM(\n",
       "  (model): NAM(\n",
       "    (dropout): Dropout(p=0.1, inplace=False)\n",
       "    (feature_nns): ModuleList(\n",
       "      (0): FeatureNN(\n",
       "        (dropout): Dropout(p=0.1, inplace=False)\n",
       "        (model): ModuleList(\n",
       "          (0): ExU(in_features=1, out_features=1000)\n",
       "          (1): Linear(in_features=1000, out_features=1, bias=True)\n",
       "        )\n",
       "      )\n",
       "      (1): FeatureNN(\n",
       "        (dropout): Dropout(p=0.1, inplace=False)\n",
       "        (model): ModuleList(\n",
       "          (0): ExU(in_features=1, out_features=1000)\n",
       "          (1): Linear(in_features=1000, out_features=1, bias=True)\n",
       "        )\n",
       "      )\n",
       "      (2): FeatureNN(\n",
       "        (dropout): Dropout(p=0.1, inplace=False)\n",
       "        (model): ModuleList(\n",
       "          (0): ExU(in_features=1, out_features=1000)\n",
       "          (1): Linear(in_features=1000, out_features=1, bias=True)\n",
       "        )\n",
       "      )\n",
       "    )\n",
       "  )\n",
       ")"
      ]
     },
     "execution_count": 19,
     "metadata": {},
     "output_type": "execute_result"
    }
   ],
   "source": [
    "litmodel.to(torch.device('cuda'))"
   ]
  },
  {
   "cell_type": "code",
   "execution_count": 20,
   "id": "e4cccf23",
   "metadata": {},
   "outputs": [
    {
     "data": {
      "image/png": "[encoded data removed]",
      "text/plain": [
       "<Figure size 500x500 with 1 Axes>"
      ]
     },
     "metadata": {},
     "output_type": "display_data"
    }
   ],
   "source": [
    "fig = plot_mean_feature_importance(litmodel.model, dataset)"
   ]
  },
  {
   "cell_type": "code",
   "execution_count": 21,
   "id": "714a764a",
   "metadata": {},
   "outputs": [
    {
     "data": {
      "image/png": "[encoded data removed]",
      "text/plain": [
       "<Figure size 3000x1000 with 3 Axes>"
      ]
     },
     "metadata": {},
     "output_type": "display_data"
    }
   ],
   "source": [
    "fig = plot_nams(litmodel.model, dataset, num_cols=3)"
   ]
  },
  {
   "cell_type": "code",
   "execution_count": 11,
   "id": "d9a52bb4",
   "metadata": {},
   "outputs": [
    {
     "name": "stderr",
     "output_type": "stream",
     "text": [
      "C:\\Users\\krkac\\Miniconda3\\envs\\esr\\lib\\site-packages\\torch\\nn\\init.py:176: UserWarning: mean is more than 2 std from [a, b] in nn.init.trunc_normal_. The distribution of values may be incorrect.\n",
      "  return _no_grad_trunc_normal_(tensor, mean, std, a, b)\n"
     ]
    }
   ],
   "source": [
    "config.regression = True\n",
    "\n",
    "\n",
    "housing = sklearn.datasets.fetch_california_housing()\n",
    "\n",
    "dataset = pd.DataFrame(data=housing.data, columns=housing.feature_names)\n",
    "dataset['target'] = housing.target\n",
    "\n",
    "config.regression = True\n",
    "\n",
    "dataset = NAMDataset(config,\n",
    "                      data_path=dataset,\n",
    "                      features_columns=dataset.columns[:-1],\n",
    "                      targets_column=dataset.columns[-1])\n",
    "\n",
    "dataloaders = dataset.train_dataloaders()\n",
    "\n"
   ]
  },
  {
   "cell_type": "code",
   "execution_count": 4,
   "id": "84064cd7",
   "metadata": {},
   "outputs": [
    {
     "name": "stdout",
     "output_type": "stream",
     "text": [
      "Config(device='cuda', seed=2021, data_path='data/GALLUP.csv', experiment_name='NAM', regression=True, num_epochs=10, lr=0.01, batch_size=128, logdir='output', wandb=False, hidden_sizes=[], activation='exu', dropout=0.1, feature_dropout=0.1, decay_rate=0.995, l2_regularization=0.1, output_regularization=0.1, num_basis_functions=1000, units_multiplier=2, shuffle=True, cross_val=True, num_folds=5, num_splits=3, fold_num=1, num_models=1, num_workers=16, save_model_frequency=2, save_top_k=3, use_dnn=False, early_stopping_patience=50)\n"
     ]
    },
    {
     "name": "stderr",
     "output_type": "stream",
     "text": [
      "C:\\Users\\krkac\\Miniconda3\\envs\\esr\\lib\\site-packages\\torch\\nn\\init.py:176: UserWarning: mean is more than 2 std from [a, b] in nn.init.trunc_normal_. The distribution of values may be incorrect.\n",
      "  return _no_grad_trunc_normal_(tensor, mean, std, a, b)\n"
     ]
    },
    {
     "data": {
      "text/plain": [
       "[1000, 1000, 1000]"
      ]
     },
     "execution_count": 4,
     "metadata": {},
     "output_type": "execute_result"
    }
   ],
   "source": [
    "config = defaults()\n",
    "config.cross_val = True\n",
    "config.regression = True\n",
    "print(config)\n",
    "\n",
    "dataset = NAMDataset(config,\n",
    "                      data_path=df,\n",
    "                      features_columns=feature_columns,\n",
    "                      targets_column=target_column)\n",
    "     \n",
    "\n",
    "model = NAM(\n",
    "  config=config,\n",
    "  name=\"NAM_TEST\",\n",
    "  num_inputs=len(dataset[0][0]),\n",
    "  num_units=get_num_units(config, dataset.features),\n",
    ")\n",
    "model._num_units"
   ]
  },
  {
   "cell_type": "code",
   "execution_count": 6,
   "id": "1b8b3646",
   "metadata": {},
   "outputs": [
    {
     "ename": "AttributeError",
     "evalue": "'SymbolicRegressor' object has no attribute '_program'",
     "output_type": "error",
     "traceback": [
      "\u001b[1;31m---------------------------------------------------------------------------\u001b[0m",
      "\u001b[1;31mAttributeError\u001b[0m                            Traceback (most recent call last)",
      "Cell \u001b[1;32mIn[6], line 1\u001b[0m\n\u001b[1;32m----> 1\u001b[0m program \u001b[38;5;241m=\u001b[39m \u001b[43mesr\u001b[49m\u001b[38;5;241;43m.\u001b[39;49m\u001b[43m_program\u001b[49m\n",
      "\u001b[1;31mAttributeError\u001b[0m: 'SymbolicRegressor' object has no attribute '_program'"
     ]
    }
   ],
   "source": [
    "program = esr._program"
   ]
  },
  {
   "cell_type": "code",
   "execution_count": 108,
   "id": "dcb0033f",
   "metadata": {},
   "outputs": [
    {
     "name": "stdout",
     "output_type": "stream",
     "text": [
      "div(add(shape(X0), shape(X2)), shape(X1))\n"
     ]
    }
   ],
   "source": [
    "print(program)"
   ]
  },
  {
   "cell_type": "code",
   "execution_count": 34,
   "id": "a0de27d1",
   "metadata": {},
   "outputs": [
    {
     "name": "stdout",
     "output_type": "stream",
     "text": [
      "{1: (-100, -10), 0: (0.7501503586769104, 8000.650847971439)}\n"
     ]
    },
    {
     "data": {
      "image/png": "[encoded data removed]",
      "text/plain": [
       "<Figure size 640x480 with 1 Axes>"
      ]
     },
     "metadata": {},
     "output_type": "display_data"
    },
    {
     "data": {
      "image/png": "[encoded data removed]",
      "text/plain": [
       "<Figure size 640x480 with 1 Axes>"
      ]
     },
     "metadata": {},
     "output_type": "display_data"
    }
   ],
   "source": [
    "program.plot_shape_functions(numerical_arguments, categorical_arguments, steps=100)"
   ]
  },
  {
   "cell_type": "code",
   "execution_count": 15,
   "id": "702815c8",
   "metadata": {},
   "outputs": [],
   "source": [
    "import tensorboard"
   ]
  },
  {
   "cell_type": "code",
   "execution_count": 13,
   "id": "8c79f5e2",
   "metadata": {},
   "outputs": [
    {
     "name": "stderr",
     "output_type": "stream",
     "text": [
      "GPU available: False, used: False\n",
      "TPU available: False, using: 0 TPU cores\n",
      "IPU available: False, using: 0 IPUs\n",
      "HPU available: False, using: 0 HPUs\n"
     ]
    },
    {
     "data": {
      "application/vnd.jupyter.widget-view+json": {
       "model_id": "a6f1d68c72724560b2dc3d9f38727473",
       "version_major": 2,
       "version_minor": 0
      },
      "text/plain": [
       "Predicting: 0it [00:00, ?it/s]"
      ]
     },
     "metadata": {},
     "output_type": "display_data"
    },
    {
     "data": {
      "text/plain": [
       "array([-0.6238792, 67.19823  ], dtype=float32)"
      ]
     },
     "execution_count": 13,
     "metadata": {},
     "output_type": "execute_result"
    }
   ],
   "source": [
    "program.execute(X_t[0:2,:],ohe_matrices={})"
   ]
  },
  {
   "cell_type": "code",
   "execution_count": 113,
   "id": "3a979d24",
   "metadata": {},
   "outputs": [],
   "source": [
    "a = X_t[0:2,:]"
   ]
  },
  {
   "cell_type": "code",
   "execution_count": 114,
   "id": "0a5a2630",
   "metadata": {},
   "outputs": [
    {
     "data": {
      "text/plain": [
       "tensor([513.1998, 223.1315])"
      ]
     },
     "execution_count": 114,
     "metadata": {},
     "output_type": "execute_result"
    }
   ],
   "source": [
    "a[:,0]/a[:,1]"
   ]
  },
  {
   "cell_type": "code",
   "execution_count": 125,
   "id": "9e696895",
   "metadata": {},
   "outputs": [
    {
     "data": {
      "text/plain": [
       "tensor([[ 5.7328e+02,  1.1171e+00, -1.2045e+01],\n",
       "        [ 1.8854e+03,  8.4499e+00, -9.4596e+01]])"
      ]
     },
     "execution_count": 125,
     "metadata": {},
     "output_type": "execute_result"
    }
   ],
   "source": [
    "a"
   ]
  },
  {
   "cell_type": "code",
   "execution_count": 124,
   "id": "b476e70b",
   "metadata": {},
   "outputs": [
    {
     "data": {
      "text/plain": [
       "tensor([100.0000,  96.1134,   0.0000, -28.7304, 100.0000, 100.0000, 100.0000,\n",
       "        100.0000, 100.0000, 100.0000, 100.0000, -69.5953, 100.0000,   0.0000,\n",
       "        100.0000,  51.5546, 100.0000, 100.0000, 100.0000, 100.0000,   0.0000,\n",
       "         19.6202, 100.0000, 100.0000, 100.0000, 100.0000, 225.4676, 202.5260,\n",
       "        100.0000, 100.0000, 100.0000, 100.0000,   0.0000, 100.0000, 100.0000,\n",
       "        100.0000, 100.0000, 100.0000, 100.0000, 100.0000, 100.0000, 100.0000,\n",
       "        100.0000, 100.0000, 100.0000, 100.0000,  69.4599, 100.0000,   0.0000,\n",
       "        100.0000, 100.0000,  98.5386, 100.0000,   0.0000, 100.0000,  17.1404,\n",
       "        100.0000, 100.0000,  91.7330,   0.0000, 100.0000,  58.2833,   0.0000,\n",
       "        100.0000, 100.0000, 100.0000,  45.2275, 127.3623, 100.0000,   0.0000,\n",
       "        100.0000, 100.0000, 100.0000, 171.7031, 100.0000, 100.0000, 100.0000,\n",
       "        187.1567, 100.0000, 100.0000, 100.0000, 100.0000, 100.0000, 100.0000,\n",
       "        100.0000, 100.0000, 100.0000, 100.0000,  11.1266, 100.0000, 100.0000,\n",
       "        122.5354, -52.0445, 100.0000, 144.2150, 105.3384,  27.3613, 138.1820,\n",
       "        100.0000, 100.0000, 100.0000,  80.9222, 100.0000, 100.0000,  90.7609,\n",
       "        100.0000, 100.0000, 100.0000,   0.0000, 100.0000, 100.0000,   0.0000,\n",
       "        100.0000,   0.0000, 100.0000, 100.0000, 100.0000,   0.0000, 100.0000,\n",
       "          0.0000, 100.0000, 100.0000, 135.9016, 100.0000,  89.6832,  96.5841,\n",
       "        100.0000,  72.0117,  17.3945, 100.0000, 100.0000, 100.0000, 100.0000,\n",
       "        100.0000, 100.0000, 100.0000, 100.0000, 100.0000, 152.0665, 100.0000,\n",
       "        100.0000, 100.0000, 100.0000,  27.2462, 100.0000, 100.0000,  -8.7089,\n",
       "        100.0000, 100.0000, 100.0000,  -4.8382, 100.0000,   0.0000, 100.0000,\n",
       "        100.0000, 100.0000, 150.6401,   0.0000, 100.0000,   0.0000, 100.0000,\n",
       "        100.0000, 100.0000, 168.3449, 100.0000, 100.0000, 100.0000, 100.0000,\n",
       "        100.0000, 100.0000, 100.0000, 217.2120, 100.0000,  43.2791, 100.0000,\n",
       "        100.0000, 100.0000, 130.5179, 100.0000, 100.0000, 100.0000, 100.0000,\n",
       "         12.3303, 100.0000, 100.0000,  54.3648, 100.0000, 100.0000, 100.0000,\n",
       "        100.0000,  59.9985, 100.0000, 100.0000,   0.0000, 141.7128, 100.0000,\n",
       "        -41.8563, 100.0000, 187.5823, 100.0000, 100.0000,  50.3434, 100.0000,\n",
       "         54.3031, 100.0000, 100.0000, 167.5268,   0.0000, 100.0000, 100.0000,\n",
       "         40.9225, 100.0000,   0.0000, 100.0000,   0.0000, 100.0000, 100.0000,\n",
       "        100.0000, 100.0000, 100.0000, 100.0000,   0.0000,   0.0000,   0.0000,\n",
       "        100.0000, 100.0000, 100.0000,  23.3472, 100.0000, 100.0000, 100.0000,\n",
       "        100.0000, 100.0000, 100.0000,   0.0000, 100.0000,  70.2814, 100.0000,\n",
       "        100.0000, 182.9768,  34.9303, 158.0420, 100.0000, 100.0000, 100.0000,\n",
       "        100.0000, 100.0000, 100.0000,   0.0000, 100.0000, 100.0000, 100.0000,\n",
       "        213.5782, 100.0000, 100.0000, 100.0000, 100.0000,   0.0000, 100.0000,\n",
       "        100.0000, 100.0000, 100.0000, 100.0000,  92.6432, 100.0000, 100.0000,\n",
       "        100.0000,   0.0000, 100.0000, -15.9263, 100.0000, 100.0000,   0.0000,\n",
       "        100.0000, 100.0000, 162.0215, 100.0000, 100.0000, 193.0660, 125.4411,\n",
       "        100.0000, 100.0000, 100.0000, 100.0000, 100.0000, 100.0000, 100.0000,\n",
       "        100.0000, 100.0000,   0.0000, 100.0000,   0.0000, 100.0000, 100.0000,\n",
       "        100.0000, 100.0000,   0.0000, 100.0000, 100.0000, 100.0000, 100.0000,\n",
       "        100.0000,  -4.2540, 100.0000, 100.0000, 100.0000, 100.0000, 100.0000,\n",
       "        200.0635, 100.0000,  18.3332, 100.0000, 100.0000, 100.0000, 100.0000,\n",
       "          0.0000, 100.0000, 100.0000,  30.8849, 100.0000, 100.0000, 100.0000,\n",
       "        100.0000,   0.0000, 100.0000, 100.0000,  27.8562, 100.0000, 100.0000,\n",
       "        100.0000, 100.0000,  57.2316, 100.0000,   0.0000,  16.2328, 100.0000,\n",
       "        100.0000, 100.0000,  59.6253, 100.0000, -25.4053, 100.0000, 100.0000,\n",
       "        100.0000, 100.0000,   0.0000, 100.0000, 100.0000, 100.0000, 241.4968,\n",
       "        100.0000,  40.8178, 100.0000, 100.0000,   0.5785, 100.0000, 100.0000,\n",
       "        100.0000, 100.0000,  85.1060, 100.0000, 100.0000, 100.0000, 100.0000,\n",
       "          0.0000, -12.6239, 100.0000,  35.3494, 156.8405,   6.0341, 100.0000,\n",
       "        100.0000,  76.8989, 100.0000, 100.0000, 100.0000,   0.0000, 100.0000,\n",
       "        100.0000, 100.0000,   0.0000,  71.1636, 140.5644,  11.7879, 100.0000,\n",
       "        100.0000, 100.0000, 100.0000, 100.0000, 100.0000, 100.0000, 100.0000,\n",
       "        100.0000, 103.7286, 100.0000,  29.0873, 100.0000,   0.0000, 100.0000,\n",
       "        100.0000,  57.9886, 100.0000,   0.0000,   0.0000, 100.0000, 236.6482,\n",
       "        100.0000, 100.0000,  40.3103, 100.0000, 102.2934, 100.0000, 135.3290,\n",
       "        100.0000, 168.2939, 100.0000, 100.0000, 100.0000, 100.0000, 100.0000,\n",
       "        100.0000,  93.5773, 100.0000,  43.5842, 100.0000, 100.0000, 100.0000,\n",
       "        100.0000,   4.6524, 100.0000, 100.0000, 100.0000, 100.0000, 100.0000,\n",
       "        100.0000, 100.0000, 100.0000, 100.0000,  74.2019, 100.0000, 100.0000,\n",
       "         42.8130, 196.6785, 100.0000, 100.0000, 100.0000, 100.0000, 100.0000,\n",
       "        100.0000,  39.9751, 100.0000, 100.0000, 100.0000, 100.0000, 100.0000,\n",
       "        100.0000, 139.5136, 100.0000,  50.2459, 100.0000, 100.0000,   0.0000,\n",
       "         72.3363, 100.0000, 100.0000, 100.0000,  67.4419,   0.0000, 100.0000,\n",
       "        100.0000,  93.5643,   0.0000, 100.0000,  48.9836,   0.0000, 100.0000,\n",
       "        100.0000, 100.0000, 100.0000, 100.0000, 100.0000, 100.0000, 100.0000,\n",
       "        100.0000, 100.0000, 100.0000, 100.0000, 100.0000, 100.0000, 100.0000,\n",
       "        100.0000, 100.0000, 100.0000, 100.0000, 100.0000, 100.0000, 100.0000,\n",
       "        209.4543, 100.0000, 100.0000,   0.0000, 100.0000, 155.7377, 100.0000,\n",
       "         -2.8003, 100.0000,  30.7983, 193.0249, 100.0000, 102.2798, 100.0000,\n",
       "        100.0000, 100.0000, 100.0000, 100.0000, 126.3493, 100.0000, 100.0000,\n",
       "        100.0000,  49.2265, 100.0000, 100.0000,  34.9623,   0.0000, 100.0000,\n",
       "        100.0000, 100.0000, 100.0000, 100.0000, 100.0000, 195.2950, 100.0000,\n",
       "        100.0000, 100.0000,  10.9572,  41.3998, 100.0000, 100.0000,  50.6851,\n",
       "        100.0000, 100.0000, 100.0000, 100.0000, 100.0000, 100.0000,   0.4959,\n",
       "        100.0000, 100.0000, 100.0000, 100.0000, 100.0000, 100.0000, 100.0000,\n",
       "        100.0000, 100.0000, 100.0000, 100.0000, 100.0000, 100.0000, 100.0000,\n",
       "        100.0000, 100.0000,  23.4938,  41.1476,   0.0000,   0.0000, 100.0000,\n",
       "         20.5180, 100.0000,   0.0000, 100.0000, 100.0000,  70.3522, 100.0000,\n",
       "         90.6574, 100.0000, 130.4406, 100.0000, 100.0000, 100.0000, 100.0000,\n",
       "        100.0000,   0.0000, 100.0000, 100.0000, 100.0000, 100.0000,   5.0916,\n",
       "          0.0000, 100.0000, 100.0000, 100.0000, 100.0000, 100.0000, 100.0000,\n",
       "        100.0000, 100.0000, 100.0000, 100.0000, 100.0000,  -3.7929, 100.0000,\n",
       "        100.0000, 100.0000, 100.0000, 100.0000,   0.0000, 100.0000, -13.8483,\n",
       "         63.5901, 100.0000, 100.0000,   7.4196, 100.0000, 100.0000, 100.0000,\n",
       "        100.0000,  63.3781,  18.1642, 100.0000, 100.0000, 100.0000,  20.7841,\n",
       "        100.0000, 100.0000,  30.7210, 100.0000, 100.0000, 100.0000, 100.0000,\n",
       "        100.0000, 137.2077, -27.5978,  67.9135,  93.3945, 100.0000, 100.0000,\n",
       "        100.0000,  88.8856, 100.0000,  17.7465,  87.0819, 100.0000, 100.0000,\n",
       "        100.0000, 100.0000, 100.0000,  60.8258, 100.0000, 100.0000, 100.0000,\n",
       "        100.0000, 100.0000,  32.5765, 100.0000, 100.0000,   0.0000, -33.4974,\n",
       "        100.0000, 100.0000, 179.4817,   0.0000, 100.0000, 100.0000,   6.9097,\n",
       "        100.0000, 100.0000, 100.0000, 100.0000, 100.0000, 177.9098, 100.0000,\n",
       "        143.9836, -21.2039,   0.0000,   0.0000, 100.0000,  72.2083, 100.0000,\n",
       "        100.0000, 100.0000,  85.4615, 100.0000, 100.0000,  11.4665,   0.0000,\n",
       "        100.0000, 100.0000, 100.0000, 100.0000,   8.1612,  98.7325, 100.0000,\n",
       "        100.0000, 100.0000, 100.0000, 100.0000, 100.0000, 166.4097, 100.0000,\n",
       "        100.0000, -50.8801, 100.0000, 100.0000, 100.0000,  51.0379, 100.0000,\n",
       "         77.8482, 100.0000, 100.0000, 100.0000, 100.0000, 100.0000, 100.0000,\n",
       "        148.5527, 100.0000, 100.0000, 152.5870, 100.0000,  18.0702,   5.6388,\n",
       "        100.0000, 100.0000, 100.0000,  58.0617, 100.0000, 100.0000,   0.0000,\n",
       "        100.0000, 100.0000, 100.0000, 100.0000, 100.0000, 100.0000, 155.0948,\n",
       "        100.0000, 182.8665, 100.0000,  26.5700, 100.0000, 100.0000, 100.0000,\n",
       "        100.0000,  55.1808,   0.0000, 157.5646, 100.0000,   6.5383, 100.0000,\n",
       "        100.0000, 100.0000, 100.0000, 100.0000, 100.0000,   0.0000, 100.0000,\n",
       "        100.0000, 100.0000, 100.0000, 100.0000, 100.0000,   2.7504, 181.3790,\n",
       "        108.3872, 100.0000, 100.0000,   0.0000, 100.0000, 100.0000,  77.8934,\n",
       "        100.0000, 100.0000, 100.0000, 100.0000, 100.0000,  79.5133, 100.0000,\n",
       "        -52.2028,   0.0000,  19.8524, 100.0000, -37.0445, 100.0000,  82.1404,\n",
       "        100.0000, 100.0000, 120.5688, 100.0000, 100.0000, 100.0000, 201.0288,\n",
       "        100.0000,   0.0000, 100.0000, 100.0000, 100.0000,  76.5201, 100.0000,\n",
       "        100.0000, 184.0522, 100.0000, 100.0000,  49.9784, 100.0000, 100.0000,\n",
       "          0.0000, 100.0000, 100.0000, 100.0000, 100.0000,  57.6404, 100.0000,\n",
       "        220.5134,   0.0000, 100.0000, 100.0000, 100.0000, 100.0000, 100.0000,\n",
       "        100.0000, 100.0000, 100.0000,  93.4180, 100.0000, 100.0000,  73.2743,\n",
       "         17.6141,   9.0429, 100.0000, 100.0000, 100.0000, 100.0000,  80.2723,\n",
       "        -11.1714,  42.5522, 100.0000,   0.0000, 100.0000,  69.6117, 100.0000,\n",
       "        100.0000, 100.0000, 100.0000, 100.0000,   0.0000, 100.0000, 100.0000,\n",
       "        100.0000, 100.0000, 100.0000, -25.5363, 100.0000, 100.0000, 100.0000,\n",
       "        100.0000, -74.4844, 100.0000, 100.0000, 100.0000,  91.8652,  72.6414,\n",
       "        100.0000, 100.0000,  65.2764, 100.0000, 100.0000, 100.0000, 100.0000,\n",
       "        100.0000, 100.0000, 100.0000, 100.0000, 100.0000,  -1.7654, 100.0000,\n",
       "        100.0000, 100.0000, 100.0000, 100.0000, 100.0000, 100.0000, 100.0000,\n",
       "        100.0000, 100.0000, 100.0000, 100.0000, 100.0000, 100.0000, 100.0000,\n",
       "        100.0000, 100.0000,   0.0000, 100.0000, 100.0000, 100.0000, 100.0000,\n",
       "         64.3397, 100.0000, 100.0000, 100.0000, 100.0000, 100.0000, 107.5749,\n",
       "        100.0000, 100.0000, 100.0000, 100.0000,  35.2853, 100.0000, 100.0000,\n",
       "        119.6920, 100.0000, 100.0000, 100.0000, 100.0000, 100.0000, 100.0000,\n",
       "        100.0000, 100.0000,   0.0000, 100.0000, -60.0940, 100.0000, 100.0000,\n",
       "          0.0000,  87.4090, 100.0000, 100.0000, 100.0000, 100.0000, 100.0000,\n",
       "        100.0000, 100.0000, 100.0000, 100.0000, -18.4173,  22.4958, 100.0000,\n",
       "        100.0000, 100.0000, 100.0000, 100.0000,   0.0000,   2.3144, 100.0000,\n",
       "        100.0000, 100.0000, 100.0000, 100.0000,   0.0000, 100.0000,   5.4108,\n",
       "        100.0000, 100.0000, 100.0000, 100.0000, 100.0000,   0.0000, 136.2187,\n",
       "        100.0000, 100.0000, 100.0000, 100.0000, 100.0000,   0.0000, 100.0000,\n",
       "         23.1113, 100.0000, 100.0000, 137.1426, 100.0000,  71.3729, 100.0000,\n",
       "        100.0000, 100.0000, 100.0000, 100.0000, 100.0000, 100.0000, 100.0000,\n",
       "        100.0000, 100.0000, 100.0000,   0.0000, 100.0000, 100.0000, 100.0000,\n",
       "          0.0000, 100.0000, 100.0000, 100.0000, 100.0000, 100.0000,  -6.5697,\n",
       "        100.0000, 100.0000,   0.0000, 100.0000,  19.8667, 100.0000])"
      ]
     },
     "execution_count": 124,
     "metadata": {},
     "output_type": "execute_result"
    }
   ],
   "source": [
    "y_t"
   ]
  },
  {
   "cell_type": "code",
   "execution_count": 105,
   "id": "33b3cd2b",
   "metadata": {},
   "outputs": [
    {
     "data": {
      "image/png": "[encoded data removed]",
      "text/plain": [
       "<Figure size 640x480 with 1 Axes>"
      ]
     },
     "metadata": {},
     "output_type": "display_data"
    },
    {
     "data": {
      "image/png": "[encoded data removed]",
      "text/plain": [
       "<Figure size 640x480 with 1 Axes>"
      ]
     },
     "metadata": {},
     "output_type": "display_data"
    }
   ],
   "source": [
    "shape_arg_ranges = {1: (-100, -10), 0: (1.1007960438728333, 800.1233030259609)}\n",
    "shapes = program.model.shape_functions\n",
    "for i, shape in enumerate(shapes):\n",
    "    t = torch.linspace(shape_arg_ranges[i][0],shape_arg_ranges[i][1],steps=1000)\n",
    "    shape.to(torch.device('cpu'))\n",
    "    with torch.no_grad():\n",
    "        y = shape(t).flatten()\n",
    "        plt.plot(t.numpy(),y.numpy())\n",
    "        plt.show()"
   ]
  },
  {
   "cell_type": "code",
   "execution_count": 106,
   "id": "9dc65ab4",
   "metadata": {},
   "outputs": [
    {
     "data": {
      "text/plain": [
       "ModuleList(\n",
       "  (0): ShapeNN(\n",
       "    (input_layer): Linear(in_features=1, out_features=10, bias=True)\n",
       "    (input_activation): ELU(alpha=1.0)\n",
       "    (output_layer): Linear(in_features=10, out_features=1, bias=True)\n",
       "    (nn): Sequential(\n",
       "      (0): Linear(in_features=1, out_features=10, bias=True)\n",
       "      (1): ELU(alpha=1.0)\n",
       "      (2): Linear(in_features=10, out_features=10, bias=True)\n",
       "      (3): ELU(alpha=1.0)\n",
       "      (4): Linear(in_features=10, out_features=10, bias=True)\n",
       "      (5): ELU(alpha=1.0)\n",
       "      (6): Linear(in_features=10, out_features=10, bias=True)\n",
       "      (7): ELU(alpha=1.0)\n",
       "      (8): Linear(in_features=10, out_features=10, bias=True)\n",
       "      (9): ELU(alpha=1.0)\n",
       "      (10): Linear(in_features=10, out_features=10, bias=True)\n",
       "      (11): ELU(alpha=1.0)\n",
       "      (12): Linear(in_features=10, out_features=10, bias=True)\n",
       "      (13): ELU(alpha=1.0)\n",
       "      (14): Linear(in_features=10, out_features=10, bias=True)\n",
       "      (15): ELU(alpha=1.0)\n",
       "      (16): Linear(in_features=10, out_features=10, bias=True)\n",
       "      (17): ELU(alpha=1.0)\n",
       "      (18): Linear(in_features=10, out_features=10, bias=True)\n",
       "      (19): ELU(alpha=1.0)\n",
       "      (20): Linear(in_features=10, out_features=10, bias=True)\n",
       "      (21): ELU(alpha=1.0)\n",
       "      (22): Linear(in_features=10, out_features=1, bias=True)\n",
       "    )\n",
       "  )\n",
       "  (1): ShapeNN(\n",
       "    (input_layer): Linear(in_features=1, out_features=10, bias=True)\n",
       "    (input_activation): ELU(alpha=1.0)\n",
       "    (output_layer): Linear(in_features=10, out_features=1, bias=True)\n",
       "    (nn): Sequential(\n",
       "      (0): Linear(in_features=1, out_features=10, bias=True)\n",
       "      (1): ELU(alpha=1.0)\n",
       "      (2): Linear(in_features=10, out_features=10, bias=True)\n",
       "      (3): ELU(alpha=1.0)\n",
       "      (4): Linear(in_features=10, out_features=10, bias=True)\n",
       "      (5): ELU(alpha=1.0)\n",
       "      (6): Linear(in_features=10, out_features=10, bias=True)\n",
       "      (7): ELU(alpha=1.0)\n",
       "      (8): Linear(in_features=10, out_features=10, bias=True)\n",
       "      (9): ELU(alpha=1.0)\n",
       "      (10): Linear(in_features=10, out_features=10, bias=True)\n",
       "      (11): ELU(alpha=1.0)\n",
       "      (12): Linear(in_features=10, out_features=10, bias=True)\n",
       "      (13): ELU(alpha=1.0)\n",
       "      (14): Linear(in_features=10, out_features=10, bias=True)\n",
       "      (15): ELU(alpha=1.0)\n",
       "      (16): Linear(in_features=10, out_features=10, bias=True)\n",
       "      (17): ELU(alpha=1.0)\n",
       "      (18): Linear(in_features=10, out_features=10, bias=True)\n",
       "      (19): ELU(alpha=1.0)\n",
       "      (20): Linear(in_features=10, out_features=10, bias=True)\n",
       "      (21): ELU(alpha=1.0)\n",
       "      (22): Linear(in_features=10, out_features=1, bias=True)\n",
       "    )\n",
       "  )\n",
       ")"
      ]
     },
     "execution_count": 106,
     "metadata": {},
     "output_type": "execute_result"
    }
   ],
   "source": [
    "shapes"
   ]
  },
  {
   "cell_type": "code",
   "execution_count": null,
   "id": "a0d97c31",
   "metadata": {},
   "outputs": [],
   "source": []
  }
 ],
 "metadata": {
  "kernelspec": {
   "display_name": "Python 3 (ipykernel)",
   "language": "python",
   "name": "python3"
  },
  "language_info": {
   "codemirror_mode": {
    "name": "ipython",
    "version": 3
   },
   "file_extension": ".py",
   "mimetype": "text/x-python",
   "name": "python",
   "nbconvert_exporter": "python",
   "pygments_lexer": "ipython3",
   "version": "3.9.16"
  }
 },
 "nbformat": 4,
 "nbformat_minor": 5
}
